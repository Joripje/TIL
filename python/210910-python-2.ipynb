{
 "cells": [
  {
   "cell_type": "markdown",
   "metadata": {
    "slideshow": {
     "slide_type": "slide"
    }
   },
   "source": [
    "# Numpy (Numeric python)\n",
    "> - 패키지 이름과 같이 **수리적 파이썬 활용**을 위한 파이썬 패키지\n",
    "> - **선형대수학 구현**과 **과학적 컴퓨팅 연산**을 위한 함수를 제공\n",
    "> - (key) `nparray` 다차원 배열을 사용하여 **벡터의 산술 연산**이 가능\n",
    "> - **브로드캐스팅**을 활용하여 shape(형태 혹은 모양)이 다른 데이터의 연산이 가능\n",
    ">> - 기존 언어에서는 제공 X\n",
    ">> - 굉장히 파워풀한 기능으로서 빅데이터 연산에 굉장히 효율이 좋음     "
   ]
  },
  {
   "cell_type": "markdown",
   "metadata": {
    "slideshow": {
     "slide_type": "slide"
    }
   },
   "source": [
    "## Numpy 설치 와 import\n",
    "> - 선행 학습을 통해 클래스와 함수에서 클래스를 불러들여 사용할 수 있다고 배웠습니다.\n",
    "- 다만 직접 작성한 클래스가 아닐경우, 그리고 현재 컴퓨터에 사용해야 할 패키지가 없을경우 간단한 명령어로 설치가능.\n",
    ">> - `pip`, `conda` 명령어 : python 라이브러리 관리 프로그램으로 오픈소스라이브러리를 간편하게 설치 할 수 있도록 하는 명령어\n",
    "\n",
    "> - 1. 콘솔창에서 실행 시  \n",
    "**`pip` `install` `[패키지명]`** 혹은  \n",
    "**`conda` `install` `[패키지명]`**\n",
    "> - 2. 주피터 노트북으로 실행 시  \n",
    "**`!pip` `install` `[패키지명]`**  \n",
    "> - 아나콘다 환경으로 python 환경설정 시 기본적으로 Numpy 설치가 되어있음"
   ]
  },
  {
   "cell_type": "code",
   "execution_count": 1,
   "metadata": {
    "ExecuteTime": {
     "end_time": "2021-09-10T02:42:28.961365Z",
     "start_time": "2021-09-10T02:42:23.740298Z"
    },
    "slideshow": {
     "slide_type": "subslide"
    }
   },
   "outputs": [
    {
     "name": "stdout",
     "output_type": "stream",
     "text": [
      "Requirement already satisfied: numpy in c:\\anaconda3\\lib\\site-packages (1.20.1)\n"
     ]
    }
   ],
   "source": [
    "# 주피터 노트북에서 Numpy 설치\n",
    "!pip install numpy"
   ]
  },
  {
   "cell_type": "code",
   "execution_count": 2,
   "metadata": {
    "ExecuteTime": {
     "end_time": "2021-09-10T02:42:49.286463Z",
     "start_time": "2021-09-10T02:42:49.270931Z"
    },
    "slideshow": {
     "slide_type": "fragment"
    }
   },
   "outputs": [],
   "source": [
    "# Numpy 사용을 위해 패키지 불러들이기\n",
    "import numpy as np\n",
    "# 관례적으로 np라는 약자를 많이 사용하게 됩니다.\n",
    "# 파이썬을 사용하는 대부분의 유저들이 사용하고 있는 닉네임이니 이건 꼭 지켜서 사용해주시는 것을 추천드립니다."
   ]
  },
  {
   "cell_type": "markdown",
   "metadata": {
    "slideshow": {
     "slide_type": "slide"
    }
   },
   "source": [
    "## 데이터분석을 위한 잠깐의 선형대수학\n",
    "numpy는 기본적으로 수리적 컴퓨팅을 위한 패키지 입니다. 선형대수학을 약간만 이해한다면 데이터를 훨씬 더 깊이있게 다룰 수 있습니다.  \n",
    "<img src=\"https://drive.google.com/uc?id=1FIVLOIP-X72PeWS7tgChMEoWCUYtyOqa\">\n",
    "\n",
    "출처 : https://art28.github.io/blog/linear-algebra-1/"
   ]
  },
  {
   "cell_type": "markdown",
   "metadata": {
    "slideshow": {
     "slide_type": "slide"
    }
   },
   "source": [
    "## 데이터의 구분에 따른 표현 방법과 예시\n",
    "\n",
    "#### 스칼라\n",
    "    1, 3.14, 실수 혹은 정수  \n",
    "    \n",
    "#### 벡터\n",
    "    [1, 2, 3, 4], 문자열  \n",
    "    \n",
    "#### 3 X 4 매트릭스\n",
    "    [[1, 2, 3, 4],\n",
    "     [5, 6, 7, 8],\n",
    "     [9, 0, 11, 12]]\n",
    "     \n",
    "#### 2 X 3 X 4 텐서\n",
    "    [[[1, 2, 3, 4],\n",
    "     [5, 6, 7, 8],\n",
    "     [9, 0, 11, 12]],\n",
    "     [[1, 2, 3, 4], \n",
    "     [5, 6, 7, 8],\n",
    "     [9, 0, 11, 12]]]"
   ]
  },
  {
   "cell_type": "markdown",
   "metadata": {
    "ExecuteTime": {
     "end_time": "2021-08-03T02:31:58.163370Z",
     "start_time": "2021-08-03T02:31:58.043519Z"
    }
   },
   "source": [
    "### 데이터로 표현한 선형대수학\n",
    "<img src=\"https://drive.google.com/uc?id=1JXgwhjipPcV147LPIrC2CgT0TmS4jT1R\">\n",
    "\n",
    "출처 : https://m.blog.naver.com/nabilera1/221978354680"
   ]
  },
  {
   "cell_type": "markdown",
   "metadata": {
    "slideshow": {
     "slide_type": "subslide"
    }
   },
   "source": [
    "### 데이터 형태에 따른 사칙연산\n",
    "\n",
    "> 스칼라 +, -, *, / -> 결과도 스칼라  \n",
    "벡터 +, -, 내적 -> +, - 결과는 벡터, 내적 결과는 스칼라  \n",
    "매트릭스 +, -, *, /  \n",
    "텐서 +, -, *, /  "
   ]
  },
  {
   "cell_type": "markdown",
   "metadata": {
    "slideshow": {
     "slide_type": "subslide"
    }
   },
   "source": [
    "### 데이터분석에 자주 사용하는 특수한 연산\n",
    "벡터와 벡터의 내적\n",
    "    \n",
    "$$\\begin{bmatrix}1 & 2 & 3 & 4 \\end{bmatrix} \\times \\begin{bmatrix}1 \\\\ 2 \\\\ 3 \\\\ 4 \\end{bmatrix} = 1 * 1 + \\\n",
    "2 * 2 + 3 * 3 + 4 * 4 = 30$$\n",
    "# $$ A^TA $$"
   ]
  },
  {
   "cell_type": "markdown",
   "metadata": {
    "slideshow": {
     "slide_type": "subslide"
    }
   },
   "source": [
    "#### 벡터와 벡터의 내적이 이루어지려면\n",
    "    \n",
    "    1. 벡터가 마주하는 shape의 갯수(길이)가 같아야 합니다.\n",
    "    2. 연산 앞에 위치한 벡터는 전치(transpose) 되어야 합니다.\n",
    "<img src=\"https://drive.google.com/uc?id=1VdfUo6iFHpTrPd_5RSjJLjlrX_5zWO0v\" height=\"300px\" width=\"300px\">  \n",
    "출처 : https://ko.wikipedia.org/wiki/%EC%A0%84%EC%B9%98%ED%96%89%EB%A0%AC"
   ]
  },
  {
   "cell_type": "markdown",
   "metadata": {
    "slideshow": {
     "slide_type": "subslide"
    }
   },
   "source": [
    "#### 벡터 내적으로 방정식 구현\n",
    "\n",
    "$$y = \\begin{bmatrix}1 & 2 & 1 \\end{bmatrix} \\times \\begin{bmatrix}x_1 \\\\ x_2 \\\\ x_3 \\\\ \\end{bmatrix} = 1 * x_1 + \\\n",
    "2 * x_2 + 1 * x_3 = x_1 + 2x_2 + x_3$$"
   ]
  },
  {
   "cell_type": "markdown",
   "metadata": {
    "slideshow": {
     "slide_type": "subslide"
    }
   },
   "source": [
    "## 브로드캐스팅\n",
    "> 파이썬 넘파이 연산은 브로드캐스팅을 지원합니다.  \n",
    "벡터연산 시 shape이 큰 벡터의 길이만큼 shape이 작은 벡터가 연장되어 연산됩니다.\n",
    "\n",
    "<img src=\"https://drive.google.com/uc?id=139z17KEUFNIoJR_-lSnnxepmJAJx--cw\" height=\"500px\" width=\"500px\">  \n",
    "출처 : http://www.astroml.org/book_figures/appendix/fig_broadcast_visual.html"
   ]
  },
  {
   "cell_type": "markdown",
   "metadata": {
    "slideshow": {
     "slide_type": "slide"
    }
   },
   "source": [
    "## Numpy function(함수)\n",
    "> `numpy`는 컴퓨팅연산을 위한 다양한 연산함수를 제공합니다.  \n",
    ">> 연산함수 기본구조  \n",
    "ex) **`np.sum`**(연산대상, axis=연산방향)  \n",
    "**`dtype()`**"
   ]
  },
  {
   "cell_type": "markdown",
   "metadata": {
    "slideshow": {
     "slide_type": "subslide"
    }
   },
   "source": [
    "### 수리연산\n",
    "- **`prod()`**\n",
    "- **`dot()`**\n",
    "- **`sum()`**\n",
    "- **`cumprod()`**\n",
    "- **`cumsum()`**\n",
    "- **`abs()`**\n",
    "- **`sqaure()`**\n",
    "- **`sqrt()`**\n",
    "- **`exp()`**\n",
    "- **`log()`**"
   ]
  },
  {
   "cell_type": "markdown",
   "metadata": {
    "slideshow": {
     "slide_type": "subslide"
    }
   },
   "source": [
    "### 통계연산\n",
    "- **`mean()`**\n",
    "- **`std()`**\n",
    "- **`var()`**\n",
    "- **`max()`**\n",
    "- **`min()`**\n",
    "- **`argmax()`**\n",
    "- **`argmin()`**"
   ]
  },
  {
   "cell_type": "markdown",
   "metadata": {
    "slideshow": {
     "slide_type": "subslide"
    }
   },
   "source": [
    "### 로직연산\n",
    "- **`arange()`**\n",
    "- **`isnan()`**\n",
    "- **`isinf()`**\n",
    "- **`unique()`**"
   ]
  },
  {
   "cell_type": "markdown",
   "metadata": {
    "slideshow": {
     "slide_type": "subslide"
    }
   },
   "source": [
    "### 기하\n",
    "- **`shape()`**\n",
    "- **`reshape()`**\n",
    "- **`ndim()`**\n",
    "- **`transpose()`**\n",
    "    \n",
    "각종 연산 함수 참고: https://numpy.org/doc/stable/reference/routines.math.html"
   ]
  },
  {
   "cell_type": "markdown",
   "metadata": {},
   "source": [
    "### numpy 함수 실습"
   ]
  },
  {
   "cell_type": "code",
   "execution_count": 3,
   "metadata": {
    "ExecuteTime": {
     "end_time": "2021-09-10T05:07:46.735005Z",
     "start_time": "2021-09-10T05:07:46.717629Z"
    },
    "slideshow": {
     "slide_type": "slide"
    }
   },
   "outputs": [],
   "source": [
    "# 함수 예제를 위한 데이터셋\n",
    "test_list = [1, 2, 3, 4]\n",
    "test_list2 = [[1, 3], [5, 7]]\n",
    "test_flist = [1, 3.14, -4.5]\n",
    "test_list_2nd = [[1, 2, 3],\n",
    "              [4, 5, 6],\n",
    "              [7, 8, 9]]\n",
    "test_list_3rd = [[[1, 2, 3, 4],\n",
    "              [5, 6, 7, 8]],\n",
    "              \n",
    "              [[1, 2, 3, 4],\n",
    "               [5, 6, 7, 8]],\n",
    "\n",
    "              [[1, 2, 3, 4],\n",
    "               [5, 6, 7, 8]]]\n",
    "test_exp = [0, 1, 10]\n",
    "test_nan = [0, np.nan, np.inf]"
   ]
  },
  {
   "cell_type": "code",
   "execution_count": 4,
   "metadata": {
    "ExecuteTime": {
     "end_time": "2021-09-10T05:08:56.924585Z",
     "start_time": "2021-09-10T05:08:56.885975Z"
    },
    "slideshow": {
     "slide_type": "subslide"
    }
   },
   "outputs": [
    {
     "data": {
      "text/plain": [
       "24"
      ]
     },
     "execution_count": 4,
     "metadata": {},
     "output_type": "execute_result"
    }
   ],
   "source": [
    "# 곱연산\n",
    "np.prod(test_list)"
   ]
  },
  {
   "cell_type": "code",
   "execution_count": 7,
   "metadata": {
    "ExecuteTime": {
     "end_time": "2021-09-10T05:10:52.947716Z",
     "start_time": "2021-09-10T05:10:52.935786Z"
    },
    "slideshow": {
     "slide_type": "subslide"
    }
   },
   "outputs": [
    {
     "data": {
      "text/plain": [
       "10"
      ]
     },
     "execution_count": 7,
     "metadata": {},
     "output_type": "execute_result"
    }
   ],
   "source": [
    "# 합연산\n",
    "np.sum(test_list)"
   ]
  },
  {
   "cell_type": "code",
   "execution_count": 5,
   "metadata": {
    "ExecuteTime": {
     "end_time": "2021-09-10T05:09:35.285088Z",
     "start_time": "2021-09-10T05:09:35.273123Z"
    },
    "slideshow": {
     "slide_type": "subslide"
    }
   },
   "outputs": [
    {
     "data": {
      "text/plain": [
       "array([ 1,  2,  6, 24], dtype=int32)"
      ]
     },
     "execution_count": 5,
     "metadata": {},
     "output_type": "execute_result"
    }
   ],
   "source": [
    "# 누적곱연산\n",
    "np.cumprod(test_list)"
   ]
  },
  {
   "cell_type": "code",
   "execution_count": 6,
   "metadata": {
    "ExecuteTime": {
     "end_time": "2021-09-10T05:10:43.247757Z",
     "start_time": "2021-09-10T05:10:43.231832Z"
    },
    "slideshow": {
     "slide_type": "subslide"
    }
   },
   "outputs": [
    {
     "data": {
      "text/plain": [
       "array([ 1,  3,  6, 10], dtype=int32)"
      ]
     },
     "execution_count": 6,
     "metadata": {},
     "output_type": "execute_result"
    }
   ],
   "source": [
    "# 누적합연산\n",
    "np.cumsum(test_list)"
   ]
  },
  {
   "cell_type": "code",
   "execution_count": 9,
   "metadata": {
    "ExecuteTime": {
     "end_time": "2021-09-10T05:12:40.930461Z",
     "start_time": "2021-09-10T05:12:40.923478Z"
    }
   },
   "outputs": [
    {
     "data": {
      "text/plain": [
       "[1, 3.14, -4.5]"
      ]
     },
     "execution_count": 9,
     "metadata": {},
     "output_type": "execute_result"
    }
   ],
   "source": [
    "test_flist"
   ]
  },
  {
   "cell_type": "code",
   "execution_count": 8,
   "metadata": {
    "ExecuteTime": {
     "end_time": "2021-09-10T05:12:11.042590Z",
     "start_time": "2021-09-10T05:12:11.014503Z"
    },
    "slideshow": {
     "slide_type": "subslide"
    }
   },
   "outputs": [
    {
     "data": {
      "text/plain": [
       "array([1.  , 3.14, 4.5 ])"
      ]
     },
     "execution_count": 8,
     "metadata": {},
     "output_type": "execute_result"
    }
   ],
   "source": [
    "# 절대값\n",
    "np.abs(test_flist)"
   ]
  },
  {
   "cell_type": "code",
   "execution_count": 15,
   "metadata": {
    "ExecuteTime": {
     "end_time": "2021-09-10T05:14:47.456685Z",
     "start_time": "2021-09-10T05:14:47.448213Z"
    },
    "slideshow": {
     "slide_type": "subslide"
    }
   },
   "outputs": [
    {
     "data": {
      "text/plain": [
       "array([ 1,  4,  9, 16], dtype=int32)"
      ]
     },
     "execution_count": 15,
     "metadata": {},
     "output_type": "execute_result"
    }
   ],
   "source": [
    "# 제곱\n",
    "np.square(test_list)"
   ]
  },
  {
   "cell_type": "code",
   "execution_count": 11,
   "metadata": {
    "ExecuteTime": {
     "end_time": "2021-09-10T05:13:51.817898Z",
     "start_time": "2021-09-10T05:13:51.798409Z"
    },
    "slideshow": {
     "slide_type": "subslide"
    }
   },
   "outputs": [
    {
     "data": {
      "text/plain": [
       "array([1.        , 1.41421356, 1.73205081, 2.        ])"
      ]
     },
     "execution_count": 11,
     "metadata": {},
     "output_type": "execute_result"
    }
   ],
   "source": [
    "# 루트\n",
    "np.sqrt(test_list)"
   ]
  },
  {
   "cell_type": "code",
   "execution_count": null,
   "metadata": {
    "ExecuteTime": {
     "end_time": "2021-06-19T04:11:18.225586Z",
     "start_time": "2021-06-19T04:11:18.219116Z"
    },
    "slideshow": {
     "slide_type": "subslide"
    }
   },
   "outputs": [],
   "source": [
    "# exp\n"
   ]
  },
  {
   "cell_type": "code",
   "execution_count": null,
   "metadata": {
    "ExecuteTime": {
     "end_time": "2021-08-03T05:01:19.591520Z",
     "start_time": "2021-08-03T05:01:19.585551Z"
    },
    "slideshow": {
     "slide_type": "subslide"
    }
   },
   "outputs": [],
   "source": [
    "# 로그\n"
   ]
  },
  {
   "cell_type": "code",
   "execution_count": 12,
   "metadata": {
    "ExecuteTime": {
     "end_time": "2021-09-10T05:14:09.169909Z",
     "start_time": "2021-09-10T05:14:09.151924Z"
    },
    "slideshow": {
     "slide_type": "subslide"
    }
   },
   "outputs": [
    {
     "data": {
      "text/plain": [
       "2.5"
      ]
     },
     "execution_count": 12,
     "metadata": {},
     "output_type": "execute_result"
    }
   ],
   "source": [
    "# 평균\n",
    "np.mean(test_list)"
   ]
  },
  {
   "cell_type": "code",
   "execution_count": 13,
   "metadata": {
    "ExecuteTime": {
     "end_time": "2021-09-10T05:14:19.130060Z",
     "start_time": "2021-09-10T05:14:19.105479Z"
    },
    "slideshow": {
     "slide_type": "subslide"
    }
   },
   "outputs": [
    {
     "data": {
      "text/plain": [
       "1.118033988749895"
      ]
     },
     "execution_count": 13,
     "metadata": {},
     "output_type": "execute_result"
    }
   ],
   "source": [
    "# 표준편차\n",
    "np.std(test_list)"
   ]
  },
  {
   "cell_type": "code",
   "execution_count": 14,
   "metadata": {
    "ExecuteTime": {
     "end_time": "2021-09-10T05:14:29.762021Z",
     "start_time": "2021-09-10T05:14:29.752015Z"
    },
    "slideshow": {
     "slide_type": "subslide"
    }
   },
   "outputs": [
    {
     "data": {
      "text/plain": [
       "1.25"
      ]
     },
     "execution_count": 14,
     "metadata": {},
     "output_type": "execute_result"
    }
   ],
   "source": [
    "# 분산\n",
    "np.var(test_list)"
   ]
  },
  {
   "cell_type": "code",
   "execution_count": null,
   "metadata": {
    "ExecuteTime": {
     "end_time": "2021-06-19T04:12:27.542508Z",
     "start_time": "2021-06-19T04:12:27.534606Z"
    },
    "slideshow": {
     "slide_type": "subslide"
    }
   },
   "outputs": [],
   "source": [
    "# 최대값\n"
   ]
  },
  {
   "cell_type": "code",
   "execution_count": null,
   "metadata": {
    "ExecuteTime": {
     "end_time": "2021-06-19T04:12:33.511575Z",
     "start_time": "2021-06-19T04:12:33.502964Z"
    },
    "slideshow": {
     "slide_type": "subslide"
    }
   },
   "outputs": [],
   "source": [
    "# 최소값\n"
   ]
  },
  {
   "cell_type": "code",
   "execution_count": 16,
   "metadata": {
    "ExecuteTime": {
     "end_time": "2021-09-10T05:15:35.651002Z",
     "start_time": "2021-09-10T05:15:35.631155Z"
    }
   },
   "outputs": [
    {
     "data": {
      "text/plain": [
       "[[1, 2, 3], [4, 5, 6], [7, 8, 9]]"
      ]
     },
     "execution_count": 16,
     "metadata": {},
     "output_type": "execute_result"
    }
   ],
   "source": [
    "test_list_2nd"
   ]
  },
  {
   "cell_type": "code",
   "execution_count": 17,
   "metadata": {
    "ExecuteTime": {
     "end_time": "2021-09-10T05:15:37.101455Z",
     "start_time": "2021-09-10T05:15:37.084485Z"
    },
    "slideshow": {
     "slide_type": "subslide"
    }
   },
   "outputs": [
    {
     "data": {
      "text/plain": [
       "8"
      ]
     },
     "execution_count": 17,
     "metadata": {},
     "output_type": "execute_result"
    }
   ],
   "source": [
    "# 최대값 인덱스 \n",
    "# 최대값이 존재하는 인덱스 넘버를 리턴\n",
    "# 출력값이 인덱스\n",
    "np.argmax(test_list_2nd)"
   ]
  },
  {
   "cell_type": "code",
   "execution_count": 18,
   "metadata": {
    "ExecuteTime": {
     "end_time": "2021-09-10T05:17:34.564592Z",
     "start_time": "2021-09-10T05:17:34.541630Z"
    },
    "slideshow": {
     "slide_type": "subslide"
    }
   },
   "outputs": [
    {
     "data": {
      "text/plain": [
       "0"
      ]
     },
     "execution_count": 18,
     "metadata": {},
     "output_type": "execute_result"
    }
   ],
   "source": [
    "# 최소값 인덱스\n",
    "np.argmin(test_list_2nd)"
   ]
  },
  {
   "cell_type": "code",
   "execution_count": 19,
   "metadata": {
    "ExecuteTime": {
     "end_time": "2021-09-10T05:19:56.837935Z",
     "start_time": "2021-09-10T05:19:56.813369Z"
    },
    "slideshow": {
     "slide_type": "subslide"
    }
   },
   "outputs": [
    {
     "data": {
      "text/plain": [
       "array([10, 20, 30, 40, 50, 60, 70, 80, 90])"
      ]
     },
     "execution_count": 19,
     "metadata": {},
     "output_type": "execute_result"
    }
   ],
   "source": [
    "# 범위설정\n",
    "# range() 함수와 동일하게 작동함\n",
    "# for i in range(0, 100, 10):\n",
    "#     print(i)\n",
    "np.arange(10, 100, 10)"
   ]
  },
  {
   "cell_type": "code",
   "execution_count": 21,
   "metadata": {
    "ExecuteTime": {
     "end_time": "2021-09-10T05:21:20.142367Z",
     "start_time": "2021-09-10T05:21:20.132395Z"
    }
   },
   "outputs": [
    {
     "data": {
      "text/plain": [
       "array([ 0.        ,  0.05025126,  0.10050251,  0.15075377,  0.20100503,\n",
       "        0.25125628,  0.30150754,  0.35175879,  0.40201005,  0.45226131,\n",
       "        0.50251256,  0.55276382,  0.60301508,  0.65326633,  0.70351759,\n",
       "        0.75376884,  0.8040201 ,  0.85427136,  0.90452261,  0.95477387,\n",
       "        1.00502513,  1.05527638,  1.10552764,  1.15577889,  1.20603015,\n",
       "        1.25628141,  1.30653266,  1.35678392,  1.40703518,  1.45728643,\n",
       "        1.50753769,  1.55778894,  1.6080402 ,  1.65829146,  1.70854271,\n",
       "        1.75879397,  1.80904523,  1.85929648,  1.90954774,  1.95979899,\n",
       "        2.01005025,  2.06030151,  2.11055276,  2.16080402,  2.21105528,\n",
       "        2.26130653,  2.31155779,  2.36180905,  2.4120603 ,  2.46231156,\n",
       "        2.51256281,  2.56281407,  2.61306533,  2.66331658,  2.71356784,\n",
       "        2.7638191 ,  2.81407035,  2.86432161,  2.91457286,  2.96482412,\n",
       "        3.01507538,  3.06532663,  3.11557789,  3.16582915,  3.2160804 ,\n",
       "        3.26633166,  3.31658291,  3.36683417,  3.41708543,  3.46733668,\n",
       "        3.51758794,  3.5678392 ,  3.61809045,  3.66834171,  3.71859296,\n",
       "        3.76884422,  3.81909548,  3.86934673,  3.91959799,  3.96984925,\n",
       "        4.0201005 ,  4.07035176,  4.12060302,  4.17085427,  4.22110553,\n",
       "        4.27135678,  4.32160804,  4.3718593 ,  4.42211055,  4.47236181,\n",
       "        4.52261307,  4.57286432,  4.62311558,  4.67336683,  4.72361809,\n",
       "        4.77386935,  4.8241206 ,  4.87437186,  4.92462312,  4.97487437,\n",
       "        5.02512563,  5.07537688,  5.12562814,  5.1758794 ,  5.22613065,\n",
       "        5.27638191,  5.32663317,  5.37688442,  5.42713568,  5.47738693,\n",
       "        5.52763819,  5.57788945,  5.6281407 ,  5.67839196,  5.72864322,\n",
       "        5.77889447,  5.82914573,  5.87939698,  5.92964824,  5.9798995 ,\n",
       "        6.03015075,  6.08040201,  6.13065327,  6.18090452,  6.23115578,\n",
       "        6.28140704,  6.33165829,  6.38190955,  6.4321608 ,  6.48241206,\n",
       "        6.53266332,  6.58291457,  6.63316583,  6.68341709,  6.73366834,\n",
       "        6.7839196 ,  6.83417085,  6.88442211,  6.93467337,  6.98492462,\n",
       "        7.03517588,  7.08542714,  7.13567839,  7.18592965,  7.2361809 ,\n",
       "        7.28643216,  7.33668342,  7.38693467,  7.43718593,  7.48743719,\n",
       "        7.53768844,  7.5879397 ,  7.63819095,  7.68844221,  7.73869347,\n",
       "        7.78894472,  7.83919598,  7.88944724,  7.93969849,  7.98994975,\n",
       "        8.04020101,  8.09045226,  8.14070352,  8.19095477,  8.24120603,\n",
       "        8.29145729,  8.34170854,  8.3919598 ,  8.44221106,  8.49246231,\n",
       "        8.54271357,  8.59296482,  8.64321608,  8.69346734,  8.74371859,\n",
       "        8.79396985,  8.84422111,  8.89447236,  8.94472362,  8.99497487,\n",
       "        9.04522613,  9.09547739,  9.14572864,  9.1959799 ,  9.24623116,\n",
       "        9.29648241,  9.34673367,  9.39698492,  9.44723618,  9.49748744,\n",
       "        9.54773869,  9.59798995,  9.64824121,  9.69849246,  9.74874372,\n",
       "        9.79899497,  9.84924623,  9.89949749,  9.94974874, 10.        ])"
      ]
     },
     "execution_count": 21,
     "metadata": {},
     "output_type": "execute_result"
    }
   ],
   "source": [
    "# (시작포인트, 마지막포인트 + 1, 테이터개수)\n",
    "np.linspace(0, 10, 200)"
   ]
  },
  {
   "cell_type": "code",
   "execution_count": 22,
   "metadata": {
    "ExecuteTime": {
     "end_time": "2021-09-10T05:22:20.065543Z",
     "start_time": "2021-09-10T05:22:20.048461Z"
    }
   },
   "outputs": [
    {
     "data": {
      "text/plain": [
       "[0, nan, inf]"
      ]
     },
     "execution_count": 22,
     "metadata": {},
     "output_type": "execute_result"
    }
   ],
   "source": [
    "test_nan"
   ]
  },
  {
   "cell_type": "code",
   "execution_count": 23,
   "metadata": {
    "ExecuteTime": {
     "end_time": "2021-09-10T05:23:08.088705Z",
     "start_time": "2021-09-10T05:23:08.020189Z"
    },
    "slideshow": {
     "slide_type": "subslide"
    }
   },
   "outputs": [
    {
     "data": {
      "text/plain": [
       "array([False,  True, False])"
      ]
     },
     "execution_count": 23,
     "metadata": {},
     "output_type": "execute_result"
    }
   ],
   "source": [
    "# 결측 확인\n",
    "np.isnan(test_nan)"
   ]
  },
  {
   "cell_type": "code",
   "execution_count": 24,
   "metadata": {
    "ExecuteTime": {
     "end_time": "2021-09-10T05:23:57.764558Z",
     "start_time": "2021-09-10T05:23:57.745063Z"
    },
    "slideshow": {
     "slide_type": "subslide"
    }
   },
   "outputs": [
    {
     "data": {
      "text/plain": [
       "array([False, False,  True])"
      ]
     },
     "execution_count": 24,
     "metadata": {},
     "output_type": "execute_result"
    }
   ],
   "source": [
    "# 발산 확인\n",
    "np.isinf(test_nan)"
   ]
  },
  {
   "cell_type": "code",
   "execution_count": 25,
   "metadata": {
    "ExecuteTime": {
     "end_time": "2021-09-10T05:24:02.310479Z",
     "start_time": "2021-09-10T05:24:02.301931Z"
    }
   },
   "outputs": [
    {
     "data": {
      "text/plain": [
       "[[[1, 2, 3, 4], [5, 6, 7, 8]],\n",
       " [[1, 2, 3, 4], [5, 6, 7, 8]],\n",
       " [[1, 2, 3, 4], [5, 6, 7, 8]]]"
      ]
     },
     "execution_count": 25,
     "metadata": {},
     "output_type": "execute_result"
    }
   ],
   "source": [
    "test_list_3rd"
   ]
  },
  {
   "cell_type": "code",
   "execution_count": 26,
   "metadata": {
    "ExecuteTime": {
     "end_time": "2021-09-10T05:24:45.602593Z",
     "start_time": "2021-09-10T05:24:45.578684Z"
    },
    "slideshow": {
     "slide_type": "subslide"
    }
   },
   "outputs": [
    {
     "data": {
      "text/plain": [
       "array([1, 2, 3, 4, 5, 6, 7, 8])"
      ]
     },
     "execution_count": 26,
     "metadata": {},
     "output_type": "execute_result"
    }
   ],
   "source": [
    "# 고유값 확인\n",
    "np.unique(test_list_3rd)"
   ]
  },
  {
   "cell_type": "code",
   "execution_count": 27,
   "metadata": {
    "ExecuteTime": {
     "end_time": "2021-09-10T05:26:26.854788Z",
     "start_time": "2021-09-10T05:26:26.837353Z"
    },
    "slideshow": {
     "slide_type": "subslide"
    }
   },
   "outputs": [
    {
     "data": {
      "text/plain": [
       "(3, 2, 4)"
      ]
     },
     "execution_count": 27,
     "metadata": {},
     "output_type": "execute_result"
    }
   ],
   "source": [
    "# 데이터 구조(모양)확인\n",
    "np.shape(test_list_3rd)"
   ]
  },
  {
   "cell_type": "code",
   "execution_count": 30,
   "metadata": {
    "ExecuteTime": {
     "end_time": "2021-09-10T05:29:22.255108Z",
     "start_time": "2021-09-10T05:29:22.236693Z"
    },
    "slideshow": {
     "slide_type": "subslide"
    }
   },
   "outputs": [
    {
     "data": {
      "text/plain": [
       "array([[[1, 2, 3, 4, 5, 6],\n",
       "        [7, 8, 1, 2, 3, 4]],\n",
       "\n",
       "       [[5, 6, 7, 8, 1, 2],\n",
       "        [3, 4, 5, 6, 7, 8]]])"
      ]
     },
     "execution_count": 30,
     "metadata": {},
     "output_type": "execute_result"
    }
   ],
   "source": [
    "# 데이터 shape 변경\n",
    "# 어떤 조건에서 reshape가능한가? 데이터 내부에 존재하는 속성 갯수가 같아야 함.\n",
    "np.reshape(test_list_3rd, (2, 2, 6))"
   ]
  },
  {
   "cell_type": "code",
   "execution_count": 31,
   "metadata": {
    "ExecuteTime": {
     "end_time": "2021-09-10T05:29:53.854820Z",
     "start_time": "2021-09-10T05:29:53.847807Z"
    }
   },
   "outputs": [
    {
     "data": {
      "text/plain": [
       "[[[1, 2, 3, 4], [5, 6, 7, 8]],\n",
       " [[1, 2, 3, 4], [5, 6, 7, 8]],\n",
       " [[1, 2, 3, 4], [5, 6, 7, 8]]]"
      ]
     },
     "execution_count": 31,
     "metadata": {},
     "output_type": "execute_result"
    }
   ],
   "source": [
    "test_list_3rd"
   ]
  },
  {
   "cell_type": "code",
   "execution_count": 35,
   "metadata": {
    "ExecuteTime": {
     "end_time": "2021-09-10T05:31:37.643951Z",
     "start_time": "2021-09-10T05:31:37.632586Z"
    },
    "slideshow": {
     "slide_type": "subslide"
    }
   },
   "outputs": [
    {
     "data": {
      "text/plain": [
       "2"
      ]
     },
     "execution_count": 35,
     "metadata": {},
     "output_type": "execute_result"
    }
   ],
   "source": [
    "# 데이터 차원확인\n",
    "# 데이터가 존재하는 출방향이 늘어나면 차원수도 늘어남\n",
    "# 기하학적 데이터의 차원수를 이야기하고\n",
    "# 데이터분석을 할 때는 열 기준으로 차원을 이야기 한다\n",
    "\n",
    "np.ndim(test_list_2nd)"
   ]
  },
  {
   "cell_type": "code",
   "execution_count": 33,
   "metadata": {
    "ExecuteTime": {
     "end_time": "2021-09-10T05:30:05.186750Z",
     "start_time": "2021-09-10T05:30:05.179674Z"
    }
   },
   "outputs": [
    {
     "data": {
      "text/plain": [
       "[[1, 2, 3], [4, 5, 6], [7, 8, 9]]"
      ]
     },
     "execution_count": 33,
     "metadata": {},
     "output_type": "execute_result"
    }
   ],
   "source": [
    "test_list_2nd"
   ]
  },
  {
   "cell_type": "code",
   "execution_count": null,
   "metadata": {
    "ExecuteTime": {
     "end_time": "2021-06-19T04:21:31.544401Z",
     "start_time": "2021-06-19T04:21:31.537535Z"
    },
    "slideshow": {
     "slide_type": "subslide"
    }
   },
   "outputs": [],
   "source": [
    "# 전치행렬\n"
   ]
  },
  {
   "cell_type": "markdown",
   "metadata": {
    "slideshow": {
     "slide_type": "slide"
    }
   },
   "source": [
    "## Numpy array (배열, 행렬)\n",
    "> - numpy 연산의 기본이 되는 데이터 구조입니다.  \n",
    "- 리스트보다 간편하게 만들 수 있으며 **연산이 빠른** 장점이 있습니다.  \n",
    "- **브로드캐스팅 연산을 지원**합니다.  \n",
    "- 단, **같은 type**의 데이터만 저장 가능합니다.  \n",
    "- array 또한 numpy의 기본 함수로서 생성 가능합니다.  \n",
    ">> array 함수 호출 기본구조  \n",
    "ex) **`np.array(배열변환 대상 데이터)`**  \n",
    "ex) **`np.arange(start, end, step_forward)`**"
   ]
  },
  {
   "cell_type": "markdown",
   "metadata": {},
   "source": [
    "### numpy array 실습"
   ]
  },
  {
   "cell_type": "code",
   "execution_count": 36,
   "metadata": {
    "ExecuteTime": {
     "end_time": "2021-09-10T05:38:31.703352Z",
     "start_time": "2021-09-10T05:38:31.687693Z"
    },
    "slideshow": {
     "slide_type": "subslide"
    }
   },
   "outputs": [],
   "source": [
    "# 기존 데이터 구조를 array로 변환\n",
    "test_array = np.array(test_list)\n",
    "test_array2 = np.array(test_list2)\n",
    "test_farray = np.array(test_flist)\n",
    "test_array_2nd = np.array(test_list_2nd)\n",
    "test_array_3rd = np.array(test_list_3rd)"
   ]
  },
  {
   "cell_type": "code",
   "execution_count": 37,
   "metadata": {
    "ExecuteTime": {
     "end_time": "2021-09-10T05:38:40.387638Z",
     "start_time": "2021-09-10T05:38:40.375680Z"
    }
   },
   "outputs": [
    {
     "data": {
      "text/plain": [
       "array([1, 2, 3, 4])"
      ]
     },
     "execution_count": 37,
     "metadata": {},
     "output_type": "execute_result"
    }
   ],
   "source": [
    "# array 생성 확인\n",
    "test_array"
   ]
  },
  {
   "cell_type": "code",
   "execution_count": 38,
   "metadata": {
    "ExecuteTime": {
     "end_time": "2021-09-10T05:40:49.807552Z",
     "start_time": "2021-09-10T05:40:49.800602Z"
    }
   },
   "outputs": [],
   "source": [
    "array_list = [1, 2, '3', 4.5]"
   ]
  },
  {
   "cell_type": "code",
   "execution_count": 39,
   "metadata": {
    "ExecuteTime": {
     "end_time": "2021-09-10T05:41:00.305791Z",
     "start_time": "2021-09-10T05:41:00.289694Z"
    }
   },
   "outputs": [],
   "source": [
    "# 같은 타입의 데이터만 들어가는지 확인\n",
    "array_test = np.array(array_list)"
   ]
  },
  {
   "cell_type": "code",
   "execution_count": 42,
   "metadata": {
    "ExecuteTime": {
     "end_time": "2021-09-10T05:44:34.553491Z",
     "start_time": "2021-09-10T05:44:34.536025Z"
    }
   },
   "outputs": [
    {
     "data": {
      "text/plain": [
       "array(['1', '2', '3', '4.5'], dtype='<U32')"
      ]
     },
     "execution_count": 42,
     "metadata": {},
     "output_type": "execute_result"
    }
   ],
   "source": [
    "array_test"
   ]
  },
  {
   "cell_type": "code",
   "execution_count": 43,
   "metadata": {
    "ExecuteTime": {
     "end_time": "2021-09-10T05:44:46.969760Z",
     "start_time": "2021-09-10T05:44:46.951771Z"
    }
   },
   "outputs": [
    {
     "data": {
      "text/plain": [
       "array([[1, 2, 3],\n",
       "       [4, 5, 6],\n",
       "       [7, 8, 9]])"
      ]
     },
     "execution_count": 43,
     "metadata": {},
     "output_type": "execute_result"
    }
   ],
   "source": [
    "# 2차원 배열 확인\n",
    "test_array_2nd"
   ]
  },
  {
   "cell_type": "code",
   "execution_count": 47,
   "metadata": {
    "ExecuteTime": {
     "end_time": "2021-09-10T05:47:46.887792Z",
     "start_time": "2021-09-10T05:47:46.878783Z"
    }
   },
   "outputs": [
    {
     "data": {
      "text/plain": [
       "array([[[1, 2, 3, 4],\n",
       "        [5, 6, 7, 8]],\n",
       "\n",
       "       [[1, 2, 3, 4],\n",
       "        [5, 6, 7, 8]],\n",
       "\n",
       "       [[1, 2, 3, 4],\n",
       "        [5, 6, 7, 8]]])"
      ]
     },
     "execution_count": 47,
     "metadata": {},
     "output_type": "execute_result"
    }
   ],
   "source": [
    "# 3차원 배열 확인\n",
    "test_array_3rd"
   ]
  },
  {
   "cell_type": "code",
   "execution_count": 46,
   "metadata": {
    "ExecuteTime": {
     "end_time": "2021-09-10T05:47:38.577053Z",
     "start_time": "2021-09-10T05:47:38.566782Z"
    },
    "slideshow": {
     "slide_type": "subslide"
    }
   },
   "outputs": [
    {
     "data": {
      "text/plain": [
       "array([[ 0,  1,  2,  3,  4,  5,  6,  7,  8,  9, 10, 11],\n",
       "       [12, 13, 14, 15, 16, 17, 18, 19, 20, 21, 22, 23]])"
      ]
     },
     "execution_count": 46,
     "metadata": {},
     "output_type": "execute_result"
    }
   ],
   "source": [
    "# np.arange 함수로 생성\n",
    "np.arange(24).reshape(2, 12)"
   ]
  },
  {
   "cell_type": "markdown",
   "metadata": {
    "slideshow": {
     "slide_type": "slide"
    }
   },
   "source": [
    "### 특수한 형태의 array를 함수로 생성\n",
    "함수 호출의 기본구조\n",
    "> ex) **`np.ones([자료구조 shape])`**  \n",
    ">> 자료구조 shape은 정수, **[ ]**리스트, **( )** 튜플 로만 입력가능합니다.\n",
    "- ones()\n",
    "- zeros()\n",
    "- empty()\n",
    "- eye()"
   ]
  },
  {
   "cell_type": "code",
   "execution_count": 48,
   "metadata": {
    "ExecuteTime": {
     "end_time": "2021-09-10T06:03:35.761608Z",
     "start_time": "2021-09-10T06:03:35.751653Z"
    },
    "slideshow": {
     "slide_type": "subslide"
    }
   },
   "outputs": [
    {
     "data": {
      "text/plain": [
       "array([[1., 1., 1.],\n",
       "       [1., 1., 1.],\n",
       "       [1., 1., 1.]])"
      ]
     },
     "execution_count": 48,
     "metadata": {},
     "output_type": "execute_result"
    }
   ],
   "source": [
    "# 1로 초기화한 array 생성\n",
    "np.ones([3, 3])"
   ]
  },
  {
   "cell_type": "code",
   "execution_count": 50,
   "metadata": {
    "ExecuteTime": {
     "end_time": "2021-09-10T06:04:11.017807Z",
     "start_time": "2021-09-10T06:04:11.012794Z"
    },
    "slideshow": {
     "slide_type": "subslide"
    }
   },
   "outputs": [
    {
     "data": {
      "text/plain": [
       "array([[0., 0., 0., 0.],\n",
       "       [0., 0., 0., 0.],\n",
       "       [0., 0., 0., 0.],\n",
       "       [0., 0., 0., 0.]])"
      ]
     },
     "execution_count": 50,
     "metadata": {},
     "output_type": "execute_result"
    }
   ],
   "source": [
    "# 0으로 초기화\n",
    "np.zeros((4, 4))"
   ]
  },
  {
   "cell_type": "code",
   "execution_count": 54,
   "metadata": {
    "ExecuteTime": {
     "end_time": "2021-09-10T06:06:32.715904Z",
     "start_time": "2021-09-10T06:06:32.703937Z"
    },
    "slideshow": {
     "slide_type": "subslide"
    }
   },
   "outputs": [
    {
     "data": {
      "text/plain": [
       "array([[7.74860419e-304, 7.74860419e-304, 7.74860419e-304,\n",
       "        7.74860419e-304, 7.74860419e-304],\n",
       "       [7.74860419e-304, 7.74860419e-304, 7.74860419e-304,\n",
       "        7.74860419e-304, 7.74860419e-304],\n",
       "       [7.74860419e-304, 7.74860419e-304, 7.74860419e-304,\n",
       "        7.74860419e-304, 7.74860419e-304],\n",
       "       [7.74860419e-304, 7.74860419e-304, 7.74860419e-304,\n",
       "        7.74860419e-304, 7.74860419e-304],\n",
       "       [7.74860419e-304, 7.74860419e-304, 7.74860419e-304,\n",
       "        7.74860419e-304, 7.74860419e-304]])"
      ]
     },
     "execution_count": 54,
     "metadata": {},
     "output_type": "execute_result"
    }
   ],
   "source": [
    "# 빈 값으로 초기화\n",
    "np.empty([5, 5])"
   ]
  },
  {
   "cell_type": "code",
   "execution_count": 57,
   "metadata": {
    "ExecuteTime": {
     "end_time": "2021-09-10T06:08:09.836819Z",
     "start_time": "2021-09-10T06:08:09.823544Z"
    },
    "slideshow": {
     "slide_type": "subslide"
    }
   },
   "outputs": [
    {
     "data": {
      "text/plain": [
       "array([[1., 0., 0., 0.],\n",
       "       [0., 1., 0., 0.],\n",
       "       [0., 0., 1., 0.],\n",
       "       [0., 0., 0., 1.]])"
      ]
     },
     "execution_count": 57,
     "metadata": {},
     "output_type": "execute_result"
    }
   ],
   "source": [
    "# 항등행렬 초기화\n",
    "np.eye(4, 4)\n",
    "\n",
    "# shape이 안맞는 경우 연산이 가능하도록 할 때"
   ]
  },
  {
   "cell_type": "code",
   "execution_count": 58,
   "metadata": {
    "ExecuteTime": {
     "end_time": "2021-09-10T06:11:04.209438Z",
     "start_time": "2021-09-10T06:11:04.023655Z"
    }
   },
   "outputs": [
    {
     "data": {
      "text/plain": [
       "array([[0., 1., 2.],\n",
       "       [3., 4., 5.],\n",
       "       [6., 7., 8.]])"
      ]
     },
     "execution_count": 58,
     "metadata": {},
     "output_type": "execute_result"
    }
   ],
   "source": [
    "np.arange(9).reshape(3, 3) @ np.eye(3, 3)"
   ]
  },
  {
   "cell_type": "markdown",
   "metadata": {
    "slideshow": {
     "slide_type": "slide"
    }
   },
   "source": [
    "### array 속성 및 내장함수\n",
    "`np.array` 에는 유용한 수리, 통계 연산을 위한 함수가 갖추어져 있습니다. 다차원 기하학적 연산을 위한 함수도 함께 살펴보겠습니다.  \n",
    "    \n",
    "> array 내장 속성 호출 기본구조  \n",
    "ex) **`test_array.ndim`**  \n",
    "자주 사용하는 속성 `shape`, `dtype`, `ndim`\n",
    "    \n",
    "> array 내장함수 호출 기본구조  \n",
    "ex) **`test_array.prod()`**\n",
    "    \n",
    "위에 학습한 np.sum() 과는 달리 array 변수의 인자를 받아 그대로 사용합니다."
   ]
  },
  {
   "cell_type": "markdown",
   "metadata": {
    "slideshow": {
     "slide_type": "subslide"
    }
   },
   "source": [
    "#### array 속성"
   ]
  },
  {
   "cell_type": "code",
   "execution_count": 60,
   "metadata": {
    "ExecuteTime": {
     "end_time": "2021-09-10T06:19:05.593374Z",
     "start_time": "2021-09-10T06:19:05.572047Z"
    },
    "slideshow": {
     "slide_type": "fragment"
    }
   },
   "outputs": [
    {
     "data": {
      "text/plain": [
       "dtype('int32')"
      ]
     },
     "execution_count": 60,
     "metadata": {},
     "output_type": "execute_result"
    }
   ],
   "source": [
    "# 데이터 타입확인\n",
    "test_array_3rd.dtype"
   ]
  },
  {
   "cell_type": "code",
   "execution_count": 61,
   "metadata": {
    "ExecuteTime": {
     "end_time": "2021-09-10T06:19:43.232364Z",
     "start_time": "2021-09-10T06:19:43.211907Z"
    },
    "slideshow": {
     "slide_type": "subslide"
    }
   },
   "outputs": [
    {
     "data": {
      "text/plain": [
       "(3, 2, 4)"
      ]
     },
     "execution_count": 61,
     "metadata": {},
     "output_type": "execute_result"
    }
   ],
   "source": [
    "# 데이터구조 확인\n",
    "# np.shape()\n",
    "test_array_3rd.shape"
   ]
  },
  {
   "cell_type": "code",
   "execution_count": 62,
   "metadata": {
    "ExecuteTime": {
     "end_time": "2021-09-10T06:29:03.912173Z",
     "start_time": "2021-09-10T06:29:03.900203Z"
    },
    "slideshow": {
     "slide_type": "subslide"
    }
   },
   "outputs": [
    {
     "data": {
      "text/plain": [
       "3"
      ]
     },
     "execution_count": 62,
     "metadata": {},
     "output_type": "execute_result"
    }
   ],
   "source": [
    "# 데이터 차원 확인\n",
    "test_array_3rd.ndim"
   ]
  },
  {
   "cell_type": "code",
   "execution_count": 64,
   "metadata": {
    "ExecuteTime": {
     "end_time": "2021-09-10T06:29:32.935573Z",
     "start_time": "2021-09-10T06:29:32.923602Z"
    }
   },
   "outputs": [
    {
     "data": {
      "text/plain": [
       "array([[[1, 2, 3, 4],\n",
       "        [5, 6, 7, 8]],\n",
       "\n",
       "       [[1, 2, 3, 4],\n",
       "        [5, 6, 7, 8]],\n",
       "\n",
       "       [[1, 2, 3, 4],\n",
       "        [5, 6, 7, 8]]])"
      ]
     },
     "execution_count": 64,
     "metadata": {},
     "output_type": "execute_result"
    }
   ],
   "source": [
    "test_array_3rd"
   ]
  },
  {
   "cell_type": "code",
   "execution_count": null,
   "metadata": {
    "ExecuteTime": {
     "end_time": "2021-06-19T04:32:23.580532Z",
     "start_time": "2021-06-19T04:32:23.574287Z"
    },
    "slideshow": {
     "slide_type": "fragment"
    }
   },
   "outputs": [],
   "source": [
    "# 아래 행렬에 대해서도 데이터의 shape과 차원을 확인해봅니다.\n"
   ]
  },
  {
   "cell_type": "code",
   "execution_count": 63,
   "metadata": {
    "ExecuteTime": {
     "end_time": "2021-09-10T06:29:25.715753Z",
     "start_time": "2021-09-10T06:29:25.705201Z"
    },
    "slideshow": {
     "slide_type": "subslide"
    }
   },
   "outputs": [
    {
     "data": {
      "text/plain": [
       "array([[[1, 1, 1],\n",
       "        [5, 5, 5]],\n",
       "\n",
       "       [[2, 2, 2],\n",
       "        [6, 6, 6]],\n",
       "\n",
       "       [[3, 3, 3],\n",
       "        [7, 7, 7]],\n",
       "\n",
       "       [[4, 4, 4],\n",
       "        [8, 8, 8]]])"
      ]
     },
     "execution_count": 63,
     "metadata": {},
     "output_type": "execute_result"
    }
   ],
   "source": [
    "# 전치행렬\n",
    "test_array_3rd.T"
   ]
  },
  {
   "cell_type": "markdown",
   "metadata": {
    "slideshow": {
     "slide_type": "slide"
    }
   },
   "source": [
    "#### array 내장함수"
   ]
  },
  {
   "cell_type": "code",
   "execution_count": 66,
   "metadata": {
    "ExecuteTime": {
     "end_time": "2021-09-10T06:31:09.442098Z",
     "start_time": "2021-09-10T06:31:09.434116Z"
    }
   },
   "outputs": [
    {
     "data": {
      "text/plain": [
       "array([1, 2, 3, 4])"
      ]
     },
     "execution_count": 66,
     "metadata": {},
     "output_type": "execute_result"
    }
   ],
   "source": [
    "test_array"
   ]
  },
  {
   "cell_type": "code",
   "execution_count": 65,
   "metadata": {
    "ExecuteTime": {
     "end_time": "2021-09-10T06:30:35.426048Z",
     "start_time": "2021-09-10T06:30:35.413632Z"
    }
   },
   "outputs": [
    {
     "data": {
      "text/plain": [
       "10"
      ]
     },
     "execution_count": 65,
     "metadata": {},
     "output_type": "execute_result"
    }
   ],
   "source": [
    "# 내장함수 호출\n",
    "test_array.sum()"
   ]
  },
  {
   "cell_type": "code",
   "execution_count": 67,
   "metadata": {
    "ExecuteTime": {
     "end_time": "2021-09-10T06:31:21.640703Z",
     "start_time": "2021-09-10T06:31:21.634746Z"
    }
   },
   "outputs": [
    {
     "data": {
      "text/plain": [
       "array([ 1,  3,  6, 10], dtype=int32)"
      ]
     },
     "execution_count": 67,
     "metadata": {},
     "output_type": "execute_result"
    }
   ],
   "source": [
    "test_array.cumsum()"
   ]
  },
  {
   "cell_type": "code",
   "execution_count": null,
   "metadata": {
    "slideshow": {
     "slide_type": "fragment"
    }
   },
   "outputs": [],
   "source": [
    "# numpy 함수와 키워드가 같습니다.\n",
    "test_array.prod()\n",
    "test_array.sum(axis=)\n",
    "...\n",
    "... "
   ]
  },
  {
   "cell_type": "markdown",
   "metadata": {
    "slideshow": {
     "slide_type": "slide"
    }
   },
   "source": [
    "### array 연산\n",
    "컴퓨팅 연산을 위한 패키지인 만큼 편리한 배열 연산 기능을 지원합니다. 여러 array 연산을 통해 다른 자료구조와의 연산 차이를 알아봅시다."
   ]
  },
  {
   "cell_type": "code",
   "execution_count": 68,
   "metadata": {
    "ExecuteTime": {
     "end_time": "2021-09-10T06:36:52.818955Z",
     "start_time": "2021-09-10T06:36:52.797526Z"
    }
   },
   "outputs": [
    {
     "ename": "TypeError",
     "evalue": "can only concatenate list (not \"int\") to list",
     "output_type": "error",
     "traceback": [
      "\u001b[1;31m---------------------------------------------------------------------------\u001b[0m",
      "\u001b[1;31mTypeError\u001b[0m                                 Traceback (most recent call last)",
      "\u001b[1;32m<ipython-input-68-ce2ab9632174>\u001b[0m in \u001b[0;36m<module>\u001b[1;34m\u001b[0m\n\u001b[0;32m      1\u001b[0m \u001b[0mtest_list\u001b[0m \u001b[1;33m=\u001b[0m \u001b[1;33m[\u001b[0m\u001b[1;36m1\u001b[0m\u001b[1;33m,\u001b[0m \u001b[1;36m2\u001b[0m\u001b[1;33m,\u001b[0m \u001b[1;36m3\u001b[0m\u001b[1;33m,\u001b[0m \u001b[1;36m4\u001b[0m\u001b[1;33m,\u001b[0m \u001b[1;36m5\u001b[0m\u001b[1;33m,\u001b[0m \u001b[1;36m6\u001b[0m\u001b[1;33m]\u001b[0m\u001b[1;33m\u001b[0m\u001b[1;33m\u001b[0m\u001b[0m\n\u001b[1;32m----> 2\u001b[1;33m \u001b[0mtest_list\u001b[0m \u001b[1;33m+\u001b[0m \u001b[1;36m7\u001b[0m\u001b[1;33m\u001b[0m\u001b[1;33m\u001b[0m\u001b[0m\n\u001b[0m",
      "\u001b[1;31mTypeError\u001b[0m: can only concatenate list (not \"int\") to list"
     ]
    }
   ],
   "source": [
    "test_list = [1, 2, 3, 4, 5, 6]\n",
    "test_list + 7"
   ]
  },
  {
   "cell_type": "code",
   "execution_count": 72,
   "metadata": {
    "ExecuteTime": {
     "end_time": "2021-09-10T06:40:54.636309Z",
     "start_time": "2021-09-10T06:40:54.627376Z"
    },
    "slideshow": {
     "slide_type": "subslide"
    }
   },
   "outputs": [
    {
     "data": {
      "text/plain": [
       "array([ 6, 12, 18, 24])"
      ]
     },
     "execution_count": 72,
     "metadata": {},
     "output_type": "execute_result"
    }
   ],
   "source": [
    "# array 덧셈, 뺄셈, 곱셈, 나눗셈\n",
    "test_array * 6"
   ]
  },
  {
   "cell_type": "code",
   "execution_count": null,
   "metadata": {},
   "outputs": [],
   "source": []
  },
  {
   "cell_type": "code",
   "execution_count": 73,
   "metadata": {
    "ExecuteTime": {
     "end_time": "2021-09-10T06:41:54.510702Z",
     "start_time": "2021-09-10T06:41:54.420875Z"
    },
    "slideshow": {
     "slide_type": "fragment"
    }
   },
   "outputs": [
    {
     "data": {
      "text/plain": [
       "(500000, 500000)"
      ]
     },
     "execution_count": 73,
     "metadata": {},
     "output_type": "execute_result"
    }
   ],
   "source": [
    "# 실제 연산속도 차이를 확인하기 위한 큰 데이터 생성\n",
    "big_list = [x for x in range(500000)]\n",
    "big_array = np.array(big_list)\n",
    "len(big_list), len(big_array)"
   ]
  },
  {
   "cell_type": "code",
   "execution_count": 77,
   "metadata": {
    "ExecuteTime": {
     "end_time": "2021-09-10T06:43:33.484453Z",
     "start_time": "2021-09-10T06:43:33.410640Z"
    }
   },
   "outputs": [
    {
     "name": "stdout",
     "output_type": "stream",
     "text": [
      "Wall time: 59.5 ms\n"
     ]
    }
   ],
   "source": [
    "%%time\n",
    "big_list = [x + 1 for x in big_list]\n",
    "#for index, item in enumerate(big_list):\n",
    "#    big_list[index] = item + 1"
   ]
  },
  {
   "cell_type": "code",
   "execution_count": 78,
   "metadata": {
    "ExecuteTime": {
     "end_time": "2021-09-10T06:43:36.681871Z",
     "start_time": "2021-09-10T06:43:36.665335Z"
    }
   },
   "outputs": [
    {
     "name": "stdout",
     "output_type": "stream",
     "text": [
      "Wall time: 1.99 ms\n"
     ]
    },
    {
     "data": {
      "text/plain": [
       "array([     1,      2,      3, ..., 499998, 499999, 500000])"
      ]
     },
     "execution_count": 78,
     "metadata": {},
     "output_type": "execute_result"
    }
   ],
   "source": [
    "%%time\n",
    "big_array + 1"
   ]
  },
  {
   "cell_type": "code",
   "execution_count": 79,
   "metadata": {
    "ExecuteTime": {
     "end_time": "2021-09-10T07:02:47.246916Z",
     "start_time": "2021-09-10T07:02:47.236286Z"
    },
    "slideshow": {
     "slide_type": "subslide"
    }
   },
   "outputs": [],
   "source": [
    "# 행렬내적\n",
    "first_array = np.arange(15).reshape(5, 3)\n",
    "second_array = np.arange(15).reshape(3, 5)"
   ]
  },
  {
   "cell_type": "code",
   "execution_count": 80,
   "metadata": {
    "ExecuteTime": {
     "end_time": "2021-09-10T07:02:50.573363Z",
     "start_time": "2021-09-10T07:02:50.553899Z"
    }
   },
   "outputs": [
    {
     "data": {
      "text/plain": [
       "((5, 3), (3, 5))"
      ]
     },
     "execution_count": 80,
     "metadata": {},
     "output_type": "execute_result"
    }
   ],
   "source": [
    "first_array.shape, second_array.shape"
   ]
  },
  {
   "cell_type": "code",
   "execution_count": 81,
   "metadata": {
    "ExecuteTime": {
     "end_time": "2021-09-10T07:04:40.268481Z",
     "start_time": "2021-09-10T07:04:40.252538Z"
    },
    "slideshow": {
     "slide_type": "fragment"
    }
   },
   "outputs": [
    {
     "data": {
      "text/plain": [
       "array([[ 25,  28,  31,  34,  37],\n",
       "       [ 70,  82,  94, 106, 118],\n",
       "       [115, 136, 157, 178, 199],\n",
       "       [160, 190, 220, 250, 280],\n",
       "       [205, 244, 283, 322, 361]])"
      ]
     },
     "execution_count": 81,
     "metadata": {},
     "output_type": "execute_result"
    }
   ],
   "source": [
    "# 행렬내적 연산\n",
    "first_array @ second_array"
   ]
  },
  {
   "cell_type": "markdown",
   "metadata": {},
   "source": [
    "### 벡터 가중합\n",
    "벡터의 내적은 가중합을 계산할 때 쓰일 수 있다. **가중합(weighted sum)**이란 복수의 데이터를 단순히 합하는 것이 아니라 각각의 수에 어떤 가중치 값을 곱한 후 이 곱셈 결과들을 다시 합한 것을 말한다.  \n",
    "만약 데이터 벡터가 $x=[x_1, \\cdots, x_N]^T$이고 가중치 벡터가 $w=[w_1, \\cdots, w_N]^T$이면 데이터 벡터의 가중합은 다음과 같다.\n",
    "\n",
    "$$ \n",
    "\\begin{align}\n",
    "w_1 x_1 + \\cdots + w_N x_N = \\sum_{i=1}^N w_i x_i \n",
    "\\end{align}\n",
    "$$ \n",
    "\n",
    "이 값을 벡터 $x$와 $w$의 곱으로 나타내면 $w^Tx$ 또는 $x^Tw$ 라는 간단한 수식으로 표시할 수 있다.\n",
    "\n",
    "쇼핑을 할 때 각 물건의 가격은 데이터 벡터, 각 물건의 수량은 가중치로 생각하여 내적을 구하면 총금액을 계산할 수 있다."
   ]
  },
  {
   "cell_type": "code",
   "execution_count": 86,
   "metadata": {
    "ExecuteTime": {
     "end_time": "2021-09-10T07:13:59.654947Z",
     "start_time": "2021-09-10T07:13:59.647965Z"
    }
   },
   "outputs": [
    {
     "data": {
      "text/plain": [
       "(array([ 80000, 270000, 160000]), array([100,  30,  50]), 24100000)"
      ]
     },
     "execution_count": 86,
     "metadata": {},
     "output_type": "execute_result"
    }
   ],
   "source": [
    "# 벡터의 가중합 연습문제\n",
    "# 삼성전자, 셀트리온, 카카오로 포트폴리오를 구성하려한다. \n",
    "# 각 종목의 가격은 80,000원, 270,000원, 160,000원이다.\n",
    "# 삼성전자 100주, 셀트리온 30주, 카카오 50주로 구성하기 위한 매수금액을 구하시오\n",
    "port = np.array([80000, 270000, 160000])\n",
    "nums = np.array([100, 30, 50])\n",
    "\n",
    "port, nums, port @ nums"
   ]
  },
  {
   "cell_type": "markdown",
   "metadata": {
    "slideshow": {
     "slide_type": "slide"
    }
   },
   "source": [
    "### array 인덱싱, 슬라이싱(매우중요)\n",
    "> 기본적으로 자료구조란 데이터의 묶음, 그 묶음을 관리 할 수 있는 바구니를 이야기 합니다.  \n",
    "데이터 분석을 위해 자료구조를 사용하지만 자료구조안 내용에 접근을 해야 할 경우도 있습니다.\n",
    ">> **인덱싱**이란?  \n",
    "데이터 바구니 안에 든 내용 하나에 접근하는 명령, 인덱스는 내용의 순번  \n",
    ">> **슬라이싱**이란?  \n",
    "데이터 바구니 안에 든 내용 여러가지에 접근 하는 명령  \n",
    "\n",
    "기본적으로 인덱싱과 슬라이싱의 색인은 리스트와 동일합니다."
   ]
  },
  {
   "cell_type": "markdown",
   "metadata": {},
   "source": [
    "#### 인덱싱, 슬라이싱 실습"
   ]
  },
  {
   "cell_type": "code",
   "execution_count": 88,
   "metadata": {
    "ExecuteTime": {
     "end_time": "2021-09-10T07:38:00.614178Z",
     "start_time": "2021-09-10T07:38:00.611685Z"
    }
   },
   "outputs": [],
   "source": [
    "# 10부터 19까지 범위를 가지는 array생성\n",
    "practice = np.arange(10, 20)"
   ]
  },
  {
   "cell_type": "code",
   "execution_count": 90,
   "metadata": {
    "ExecuteTime": {
     "end_time": "2021-09-10T07:38:16.952642Z",
     "start_time": "2021-09-10T07:38:16.935698Z"
    }
   },
   "outputs": [
    {
     "data": {
      "text/plain": [
       "array([10, 11, 12, 13])"
      ]
     },
     "execution_count": 90,
     "metadata": {},
     "output_type": "execute_result"
    }
   ],
   "source": [
    "# 0부터 3번 인덱스까지\n",
    "practice[:4]"
   ]
  },
  {
   "cell_type": "code",
   "execution_count": 91,
   "metadata": {
    "ExecuteTime": {
     "end_time": "2021-09-10T07:38:29.246707Z",
     "start_time": "2021-09-10T07:38:29.231707Z"
    }
   },
   "outputs": [
    {
     "data": {
      "text/plain": [
       "array([14, 15, 16, 17, 18, 19])"
      ]
     },
     "execution_count": 91,
     "metadata": {},
     "output_type": "execute_result"
    }
   ],
   "source": [
    "# 4번 인덱스부터 마지막 인덱스까지\n",
    "practice[4:]"
   ]
  },
  {
   "cell_type": "code",
   "execution_count": 96,
   "metadata": {
    "ExecuteTime": {
     "end_time": "2021-09-10T07:40:23.939511Z",
     "start_time": "2021-09-10T07:40:23.922431Z"
    }
   },
   "outputs": [
    {
     "data": {
      "text/plain": [
       "array([19, 18, 17])"
      ]
     },
     "execution_count": 96,
     "metadata": {},
     "output_type": "execute_result"
    }
   ],
   "source": [
    "# 마지막 인덱스부터 뒤에서 3번째 인덱스까지\n",
    "practice[:-4:-1]"
   ]
  },
  {
   "cell_type": "code",
   "execution_count": 97,
   "metadata": {
    "ExecuteTime": {
     "end_time": "2021-09-10T07:42:20.138147Z",
     "start_time": "2021-09-10T07:42:20.123124Z"
    }
   },
   "outputs": [
    {
     "data": {
      "text/plain": [
       "array([10, 13, 16, 19])"
      ]
     },
     "execution_count": 97,
     "metadata": {},
     "output_type": "execute_result"
    }
   ],
   "source": [
    "# 0부터 3씩 증가하는 인덱스\n",
    "practice[::3]"
   ]
  },
  {
   "cell_type": "markdown",
   "metadata": {
    "slideshow": {
     "slide_type": "subslide"
    }
   },
   "source": [
    "#### 여러가지 인덱싱 및 슬라이싱 방법을 시도해봅시다"
   ]
  },
  {
   "cell_type": "code",
   "execution_count": 99,
   "metadata": {
    "ExecuteTime": {
     "end_time": "2021-09-10T07:45:28.048052Z",
     "start_time": "2021-09-10T07:45:28.032026Z"
    }
   },
   "outputs": [
    {
     "data": {
      "text/plain": [
       "array([[ 0,  1,  2,  3,  4],\n",
       "       [ 5,  6,  7,  8,  9],\n",
       "       [10, 11, 12, 13, 14],\n",
       "       [15, 16, 17, 18, 19],\n",
       "       [20, 21, 22, 23, 24]])"
      ]
     },
     "execution_count": 99,
     "metadata": {},
     "output_type": "execute_result"
    }
   ],
   "source": [
    "index_test2 = np.array(range(25)).reshape([5, 5])\n",
    "index_test2"
   ]
  },
  {
   "cell_type": "code",
   "execution_count": 100,
   "metadata": {
    "ExecuteTime": {
     "end_time": "2021-09-10T07:45:31.542840Z",
     "start_time": "2021-09-10T07:45:31.526850Z"
    }
   },
   "outputs": [
    {
     "data": {
      "text/plain": [
       "array([[11, 12, 13],\n",
       "       [16, 17, 18],\n",
       "       [21, 22, 23]])"
      ]
     },
     "execution_count": 100,
     "metadata": {},
     "output_type": "execute_result"
    }
   ],
   "source": [
    "index_test2[2:, 1:4]"
   ]
  },
  {
   "cell_type": "code",
   "execution_count": 107,
   "metadata": {
    "ExecuteTime": {
     "end_time": "2021-06-19T04:52:24.140290Z",
     "start_time": "2021-06-19T04:52:24.131838Z"
    },
    "scrolled": true
   },
   "outputs": [
    {
     "data": {
      "text/plain": [
       "array([[11, 12, 13],\n",
       "       [16, 17, 18],\n",
       "       [21, 22, 23]])"
      ]
     },
     "execution_count": 107,
     "metadata": {},
     "output_type": "execute_result"
    }
   ],
   "source": []
  },
  {
   "cell_type": "code",
   "execution_count": 102,
   "metadata": {
    "ExecuteTime": {
     "end_time": "2021-09-10T07:46:32.841068Z",
     "start_time": "2021-09-10T07:46:32.823091Z"
    }
   },
   "outputs": [
    {
     "data": {
      "text/plain": [
       "array([[2, 3, 4],\n",
       "       [7, 8, 9]])"
      ]
     },
     "execution_count": 102,
     "metadata": {},
     "output_type": "execute_result"
    }
   ],
   "source": [
    "index_test2[0:2, 2:]"
   ]
  },
  {
   "cell_type": "code",
   "execution_count": 108,
   "metadata": {
    "ExecuteTime": {
     "end_time": "2021-06-19T04:53:34.330241Z",
     "start_time": "2021-06-19T04:53:34.321713Z"
    },
    "slideshow": {
     "slide_type": "fragment"
    }
   },
   "outputs": [
    {
     "data": {
      "text/plain": [
       "array([[2, 3, 4],\n",
       "       [7, 8, 9]])"
      ]
     },
     "execution_count": 108,
     "metadata": {},
     "output_type": "execute_result"
    }
   ],
   "source": []
  },
  {
   "cell_type": "code",
   "execution_count": 103,
   "metadata": {
    "ExecuteTime": {
     "end_time": "2021-09-10T07:46:51.382128Z",
     "start_time": "2021-09-10T07:46:51.368427Z"
    }
   },
   "outputs": [
    {
     "data": {
      "text/plain": [
       "array([[[ 0,  1,  2,  3],\n",
       "        [ 4,  5,  6,  7],\n",
       "        [ 8,  9, 10, 11],\n",
       "        [12, 13, 14, 15],\n",
       "        [16, 17, 18, 19]],\n",
       "\n",
       "       [[20, 21, 22, 23],\n",
       "        [24, 25, 26, 27],\n",
       "        [28, 29, 30, 31],\n",
       "        [32, 33, 34, 35],\n",
       "        [36, 37, 38, 39]]])"
      ]
     },
     "execution_count": 103,
     "metadata": {},
     "output_type": "execute_result"
    }
   ],
   "source": [
    "index_test3 = np.arange(40).reshape(2, 5, 4)\n",
    "index_test3"
   ]
  },
  {
   "cell_type": "code",
   "execution_count": 104,
   "metadata": {
    "ExecuteTime": {
     "end_time": "2021-09-10T07:47:41.469106Z",
     "start_time": "2021-09-10T07:47:41.462124Z"
    }
   },
   "outputs": [
    {
     "data": {
      "text/plain": [
       "array([[13, 14],\n",
       "       [17, 18]])"
      ]
     },
     "execution_count": 104,
     "metadata": {},
     "output_type": "execute_result"
    }
   ],
   "source": [
    "index_test3[0, 3:, 1:3]"
   ]
  },
  {
   "cell_type": "code",
   "execution_count": 23,
   "metadata": {
    "ExecuteTime": {
     "end_time": "2021-05-26T03:46:50.749432Z",
     "start_time": "2021-05-26T03:46:50.745437Z"
    },
    "scrolled": true
   },
   "outputs": [
    {
     "data": {
      "text/plain": [
       "array([[13, 14],\n",
       "       [17, 18]])"
      ]
     },
     "execution_count": 23,
     "metadata": {},
     "output_type": "execute_result"
    }
   ],
   "source": []
  },
  {
   "cell_type": "code",
   "execution_count": 108,
   "metadata": {
    "ExecuteTime": {
     "end_time": "2021-09-10T07:49:10.435773Z",
     "start_time": "2021-09-10T07:49:10.418795Z"
    }
   },
   "outputs": [
    {
     "data": {
      "text/plain": [
       "array([[ 1,  5,  9, 13, 17],\n",
       "       [21, 25, 29, 33, 37]])"
      ]
     },
     "execution_count": 108,
     "metadata": {},
     "output_type": "execute_result"
    }
   ],
   "source": [
    "index_test3[:, :, 1]"
   ]
  },
  {
   "cell_type": "code",
   "execution_count": 24,
   "metadata": {
    "ExecuteTime": {
     "end_time": "2021-05-26T03:47:13.406263Z",
     "start_time": "2021-05-26T03:47:13.402012Z"
    },
    "scrolled": true
   },
   "outputs": [
    {
     "data": {
      "text/plain": [
       "array([[ 1,  5,  9, 13, 17],\n",
       "       [21, 25, 29, 33, 37]])"
      ]
     },
     "execution_count": 24,
     "metadata": {},
     "output_type": "execute_result"
    }
   ],
   "source": []
  },
  {
   "cell_type": "markdown",
   "metadata": {},
   "source": [
    "## 팬시인덱싱\n",
    "numpy에서 벡터연산을 통해 bool 형태의 벡터를 기준으로 데이터를 선별하는 방법"
   ]
  },
  {
   "cell_type": "code",
   "execution_count": 111,
   "metadata": {
    "ExecuteTime": {
     "end_time": "2021-09-10T08:12:20.434675Z",
     "start_time": "2021-09-10T08:12:20.412581Z"
    }
   },
   "outputs": [],
   "source": [
    "pet = np.array(['개', '고양이', '고양이', '햄스터', '개', '햄스터'])\n",
    "\n",
    "indexing_test = np.random.randn(6, 5)"
   ]
  },
  {
   "cell_type": "code",
   "execution_count": 112,
   "metadata": {
    "ExecuteTime": {
     "end_time": "2021-09-10T08:12:29.164484Z",
     "start_time": "2021-09-10T08:12:29.143366Z"
    }
   },
   "outputs": [
    {
     "data": {
      "text/plain": [
       "array([[ 0.01758269,  1.17531911,  0.04272206,  1.64404978, -0.05464789],\n",
       "       [ 0.13472248,  0.0282913 ,  0.17494501,  1.63486306, -0.5954133 ],\n",
       "       [-0.22648549,  0.62630269,  0.12122429,  1.39567674,  1.44466132],\n",
       "       [ 0.95904236, -0.8472618 ,  1.23439726, -0.15695985, -1.13903603],\n",
       "       [ 0.6804963 , -0.26831841, -0.10783034,  1.2246725 , -0.21611025],\n",
       "       [ 0.85479063,  0.15053482,  0.67559927,  0.13979231, -1.55436411]])"
      ]
     },
     "execution_count": 112,
     "metadata": {},
     "output_type": "execute_result"
    }
   ],
   "source": [
    "indexing_test"
   ]
  },
  {
   "cell_type": "code",
   "execution_count": 113,
   "metadata": {
    "ExecuteTime": {
     "end_time": "2021-09-10T08:13:26.868810Z",
     "start_time": "2021-09-10T08:13:26.857840Z"
    }
   },
   "outputs": [
    {
     "data": {
      "text/plain": [
       "array([ True, False, False, False,  True, False])"
      ]
     },
     "execution_count": 113,
     "metadata": {},
     "output_type": "execute_result"
    }
   ],
   "source": [
    "pet == '개'"
   ]
  },
  {
   "cell_type": "code",
   "execution_count": 115,
   "metadata": {
    "ExecuteTime": {
     "end_time": "2021-09-10T08:16:55.358167Z",
     "start_time": "2021-09-10T08:16:55.335739Z"
    }
   },
   "outputs": [
    {
     "data": {
      "text/plain": [
       "array([[ 0.13472248,  0.0282913 ,  0.17494501,  1.63486306, -0.5954133 ],\n",
       "       [-0.22648549,  0.62630269,  0.12122429,  1.39567674,  1.44466132],\n",
       "       [ 0.95904236, -0.8472618 ,  1.23439726, -0.15695985, -1.13903603],\n",
       "       [ 0.85479063,  0.15053482,  0.67559927,  0.13979231, -1.55436411]])"
      ]
     },
     "execution_count": 115,
     "metadata": {},
     "output_type": "execute_result"
    }
   ],
   "source": [
    "indexing_test[pet != '개']"
   ]
  },
  {
   "cell_type": "code",
   "execution_count": 116,
   "metadata": {
    "ExecuteTime": {
     "end_time": "2021-09-10T08:20:25.421576Z",
     "start_time": "2021-09-10T08:20:25.405001Z"
    }
   },
   "outputs": [
    {
     "data": {
      "text/plain": [
       "array([ True,  True,  True, False,  True, False])"
      ]
     },
     "execution_count": 116,
     "metadata": {},
     "output_type": "execute_result"
    }
   ],
   "source": [
    "(pet == '개') | (pet == '고양이')"
   ]
  },
  {
   "cell_type": "code",
   "execution_count": 117,
   "metadata": {
    "ExecuteTime": {
     "end_time": "2021-09-10T08:21:02.419603Z",
     "start_time": "2021-09-10T08:21:02.407632Z"
    }
   },
   "outputs": [
    {
     "data": {
      "text/plain": [
       "array([[ 0.01758269,  1.17531911,  0.04272206,  1.64404978, -0.05464789],\n",
       "       [ 0.13472248,  0.0282913 ,  0.17494501,  1.63486306, -0.5954133 ],\n",
       "       [-0.22648549,  0.62630269,  0.12122429,  1.39567674,  1.44466132],\n",
       "       [ 0.6804963 , -0.26831841, -0.10783034,  1.2246725 , -0.21611025]])"
      ]
     },
     "execution_count": 117,
     "metadata": {},
     "output_type": "execute_result"
    }
   ],
   "source": [
    "indexing_test[(pet == '개') | (pet == '고양이')]"
   ]
  },
  {
   "cell_type": "code",
   "execution_count": 118,
   "metadata": {
    "ExecuteTime": {
     "end_time": "2021-09-10T08:23:56.263372Z",
     "start_time": "2021-09-10T08:23:56.238926Z"
    }
   },
   "outputs": [
    {
     "data": {
      "text/plain": [
       "2"
      ]
     },
     "execution_count": 118,
     "metadata": {},
     "output_type": "execute_result"
    }
   ],
   "source": [
    "(pet == '개').sum()"
   ]
  },
  {
   "cell_type": "code",
   "execution_count": 119,
   "metadata": {
    "ExecuteTime": {
     "end_time": "2021-09-10T08:24:15.586972Z",
     "start_time": "2021-09-10T08:24:15.576001Z"
    }
   },
   "outputs": [
    {
     "data": {
      "text/plain": [
       "True"
      ]
     },
     "execution_count": 119,
     "metadata": {},
     "output_type": "execute_result"
    }
   ],
   "source": [
    "(pet == '개').any()"
   ]
  },
  {
   "cell_type": "code",
   "execution_count": 120,
   "metadata": {
    "ExecuteTime": {
     "end_time": "2021-09-10T08:25:06.292548Z",
     "start_time": "2021-09-10T08:25:06.268105Z"
    }
   },
   "outputs": [
    {
     "data": {
      "text/plain": [
       "False"
      ]
     },
     "execution_count": 120,
     "metadata": {},
     "output_type": "execute_result"
    }
   ],
   "source": [
    "(pet == '개').all()"
   ]
  },
  {
   "cell_type": "code",
   "execution_count": null,
   "metadata": {},
   "outputs": [],
   "source": []
  }
 ],
 "metadata": {
  "kernelspec": {
   "display_name": "Python 3",
   "language": "python",
   "name": "python3"
  },
  "language_info": {
   "codemirror_mode": {
    "name": "ipython",
    "version": 3
   },
   "file_extension": ".py",
   "mimetype": "text/x-python",
   "name": "python",
   "nbconvert_exporter": "python",
   "pygments_lexer": "ipython3",
   "version": "3.8.8"
  },
  "toc": {
   "base_numbering": 1,
   "nav_menu": {},
   "number_sections": true,
   "sideBar": true,
   "skip_h1_title": true,
   "title_cell": "Table of Contents",
   "title_sidebar": "Contents",
   "toc_cell": false,
   "toc_position": {},
   "toc_section_display": true,
   "toc_window_display": false
  },
  "varInspector": {
   "cols": {
    "lenName": 16,
    "lenType": 16,
    "lenVar": 40
   },
   "kernels_config": {
    "python": {
     "delete_cmd_postfix": "",
     "delete_cmd_prefix": "del ",
     "library": "var_list.py",
     "varRefreshCmd": "print(var_dic_list())"
    },
    "r": {
     "delete_cmd_postfix": ") ",
     "delete_cmd_prefix": "rm(",
     "library": "var_list.r",
     "varRefreshCmd": "cat(var_dic_list()) "
    }
   },
   "types_to_exclude": [
    "module",
    "function",
    "builtin_function_or_method",
    "instance",
    "_Feature"
   ],
   "window_display": false
  }
 },
 "nbformat": 4,
 "nbformat_minor": 2
}
