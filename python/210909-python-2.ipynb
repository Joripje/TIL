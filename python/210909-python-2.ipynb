{
 "cells": [
  {
   "cell_type": "markdown",
   "metadata": {},
   "source": [
    "# 함수와 클래스"
   ]
  },
  {
   "cell_type": "markdown",
   "metadata": {},
   "source": [
    "## 함수\n",
    "> 수학적 정의의 **함수**란?  \n",
    "$y$ = $f(x)$\n",
    "\n",
    "> 프로그래밍에서의 함수란?  \n",
    "자주 사용해야 하는 코드를 **재사용하기 위한 코드의 묶음**\n",
    "\n",
    "> 데이터과학에서의 함수란?  \n",
    "입력값을 받아 사용자가 원하는 처리를 한 후 결과값을 되돌려 받는 코드의 묶음"
   ]
  },
  {
   "cell_type": "markdown",
   "metadata": {},
   "source": [
    "### 함수의 구조\n",
    ">**`def` `함수이름` `(파라메터 혹은 매개변수)` `:`** # 파라메터는 없어도 가능함. 함수 정의 후 `:`으로 마무리 한다.\n",
    ">>**`실행코드`**  \n",
    "**`실행코드`**  \n",
    "**`실행코드`**  \n",
    "**`return` `반환값`** # 함수에서 실행코드를 거친 결과 값 혹은 변수(반환값)을 리턴\n",
    "    \n",
    ">파라메터 혹은 매개변수 : 함수의 입력값, 혹은 함수의 작동에 영향을 줄 수 있는 값(변수)  \n",
    "파라메터는 없어도 되지만 세미콜론은 반드시 찍어준다."
   ]
  },
  {
   "cell_type": "markdown",
   "metadata": {},
   "source": [
    "### 기본적인 함수"
   ]
  },
  {
   "cell_type": "code",
   "execution_count": 1,
   "metadata": {
    "ExecuteTime": {
     "end_time": "2021-09-09T05:02:19.613477Z",
     "start_time": "2021-09-09T05:02:19.604499Z"
    }
   },
   "outputs": [],
   "source": [
    "# 함수 정의하기\n",
    "# 함수명 person을 정의한다(디파인한다)\n",
    "def person():\n",
    "    print('제 이름은 Eddy입니다.')\n",
    "# 함수 호출 시 실행 될 구문"
   ]
  },
  {
   "cell_type": "markdown",
   "metadata": {},
   "source": [
    "### 함수의 호출(사용)"
   ]
  },
  {
   "cell_type": "code",
   "execution_count": 2,
   "metadata": {
    "ExecuteTime": {
     "end_time": "2021-09-09T05:02:55.281432Z",
     "start_time": "2021-09-09T05:02:55.268469Z"
    }
   },
   "outputs": [
    {
     "name": "stdout",
     "output_type": "stream",
     "text": [
      "제 이름은 Eddy입니다.\n"
     ]
    }
   ],
   "source": [
    "# 함수호출 테스트\n",
    "person()"
   ]
  },
  {
   "cell_type": "markdown",
   "metadata": {},
   "source": [
    "### 입력값(파라메터 혹은 매개변수)을 받는 함수"
   ]
  },
  {
   "cell_type": "code",
   "execution_count": 8,
   "metadata": {
    "ExecuteTime": {
     "end_time": "2021-09-09T05:09:33.670270Z",
     "start_time": "2021-09-09T05:09:33.652322Z"
    }
   },
   "outputs": [],
   "source": [
    "# 파라메터가 있는 함수 정의\n",
    "# 함수명 person_name을 정의하면서 동시에 파라메터인 name에 'Eddy'라는 문자열을 전달한다.\n",
    "def person_name(name='Eddy'):\n",
    "    print(f'제 이름은 {name}입니다.')\n",
    "# 함수 호출 시 실행 될 구문\n"
   ]
  },
  {
   "cell_type": "code",
   "execution_count": 9,
   "metadata": {
    "ExecuteTime": {
     "end_time": "2021-09-09T05:09:34.765462Z",
     "start_time": "2021-09-09T05:09:34.748994Z"
    }
   },
   "outputs": [
    {
     "name": "stdout",
     "output_type": "stream",
     "text": [
      "제 이름은 Eddy입니다.\n"
     ]
    }
   ],
   "source": [
    "# 함수 호출\n",
    "# 만약 파라메터가 전달되지 않는다면?\n",
    "person_name()"
   ]
  },
  {
   "cell_type": "markdown",
   "metadata": {},
   "source": [
    "### 함수 내 변수의 사용"
   ]
  },
  {
   "cell_type": "code",
   "execution_count": 10,
   "metadata": {
    "ExecuteTime": {
     "end_time": "2021-09-09T05:14:43.919821Z",
     "start_time": "2021-09-09T05:14:43.916294Z"
    }
   },
   "outputs": [],
   "source": [
    "name = 'eddy'"
   ]
  },
  {
   "cell_type": "code",
   "execution_count": 11,
   "metadata": {
    "ExecuteTime": {
     "end_time": "2021-09-09T05:15:19.934681Z",
     "start_time": "2021-09-09T05:15:19.918368Z"
    }
   },
   "outputs": [],
   "source": [
    "# 함수 밖 변수 전역변수, 글로벌변수라고 하며 어디든 사용가능\n",
    "def print_name():\n",
    "    print(f'제 이름은 {name}입니다')\n",
    "# 함수정의\n",
    "\n",
    "# 함수실행 코드\n"
   ]
  },
  {
   "cell_type": "code",
   "execution_count": 15,
   "metadata": {
    "ExecuteTime": {
     "end_time": "2021-09-09T05:15:42.230757Z",
     "start_time": "2021-09-09T05:15:42.218421Z"
    }
   },
   "outputs": [
    {
     "name": "stdout",
     "output_type": "stream",
     "text": [
      "제 이름은 eddy입니다\n"
     ]
    }
   ],
   "source": [
    "# 함수 호출\n",
    "print_name()"
   ]
  },
  {
   "cell_type": "code",
   "execution_count": null,
   "metadata": {
    "ExecuteTime": {
     "end_time": "2021-04-06T11:59:28.725748Z",
     "start_time": "2021-04-06T11:59:28.723073Z"
    }
   },
   "outputs": [],
   "source": [
    "# 그렇다면 함수 내부에서 정의 된 변수는 어떨까?\n"
   ]
  },
  {
   "cell_type": "markdown",
   "metadata": {},
   "source": [
    "#### 함수 안에서 정의 된 변수??\n",
    ">함수 내부에서 정의 된 age 변수는 함수 내부에서만 정의되는 변수로서 함수 밖에서는 호출할 수 없다.  \n",
    "그렇기에 다른 함수에서 같은 이름의 변수를 사용해도 관계없음  \n",
    "함수 연산 결과로서 결과값을 빼기 위해서는 반드시 **`return`**구문으로 반환값을 사용해줘야 함  \n",
    "\n",
    "함수도 기본컴퓨터의 작동프로세스와 같이 입력, 처리, 출력의 처리를 하기위한 구조를 가짐"
   ]
  },
  {
   "cell_type": "code",
   "execution_count": null,
   "metadata": {
    "ExecuteTime": {
     "end_time": "2021-04-06T13:09:48.171098Z",
     "start_time": "2021-04-06T13:09:48.164219Z"
    }
   },
   "outputs": [],
   "source": [
    "# 호출하려던 age변수는 위의 person_age 함수 내부에서 정의 된 변수이다.\n",
    "# 함수 내부에서 정의 된 변수는 지역변수 혹은 로컬변수라고 합니다.\n",
    "# 함수 내부에서만 사용이 가능하고 사용후에는 메모리에서 삭제 됩니다.\n"
   ]
  },
  {
   "cell_type": "code",
   "execution_count": 29,
   "metadata": {
    "ExecuteTime": {
     "end_time": "2021-09-09T05:36:35.613550Z",
     "start_time": "2021-09-09T05:36:35.594046Z"
    }
   },
   "outputs": [],
   "source": [
    "# 사용자로부터 입력받는 5개의 숫자를 리스트에 저장하고 입력이 완료되면 합을 출력하는 함수\n",
    "def total():\n",
    "    list1 = []\n",
    "    for i in range(0,5):\n",
    "        a = int(input('숫자를 입력하세요: '))\n",
    "        list1.append(a)\n",
    "    print(list1)\n",
    "    print(sum(list1))\n",
    "    "
   ]
  },
  {
   "cell_type": "code",
   "execution_count": 24,
   "metadata": {
    "ExecuteTime": {
     "end_time": "2021-09-09T05:32:31.319212Z",
     "start_time": "2021-09-09T05:32:29.226388Z"
    }
   },
   "outputs": [
    {
     "name": "stdout",
     "output_type": "stream",
     "text": [
      "숫자를 일렵하세요: 1\n",
      "숫자를 일렵하세요: 1\n",
      "숫자를 일렵하세요: 1\n",
      "숫자를 일렵하세요: 1\n",
      "숫자를 일렵하세요: 1\n",
      "[1, 1, 1, 1, 1]\n",
      "5\n"
     ]
    }
   ],
   "source": [
    "# 함수호출\n",
    "total()"
   ]
  },
  {
   "cell_type": "code",
   "execution_count": 30,
   "metadata": {
    "ExecuteTime": {
     "end_time": "2021-09-09T05:36:37.314149Z",
     "start_time": "2021-09-09T05:36:37.306686Z"
    }
   },
   "outputs": [],
   "source": [
    "def total_i(i):\n",
    "    list1 = []\n",
    "    for i in range(0,i):\n",
    "        a = int(input('숫자를 입력하세요: '))\n",
    "        list1.append(a)\n",
    "    print(list1)\n",
    "    print(sum(list1))"
   ]
  },
  {
   "cell_type": "code",
   "execution_count": 28,
   "metadata": {
    "ExecuteTime": {
     "end_time": "2021-09-09T05:34:02.232206Z",
     "start_time": "2021-09-09T05:33:58.769154Z"
    },
    "scrolled": true
   },
   "outputs": [
    {
     "name": "stdout",
     "output_type": "stream",
     "text": [
      "숫자를 일렵하세요: 7\n",
      "숫자를 일렵하세요: 7\n",
      "숫자를 일렵하세요: 7\n",
      "숫자를 일렵하세요: 7\n",
      "숫자를 일렵하세요: 7\n",
      "숫자를 일렵하세요: 7\n",
      "숫자를 일렵하세요: 7\n",
      "[7, 7, 7, 7, 7, 7, 7]\n",
      "49\n"
     ]
    }
   ],
   "source": [
    "total_i(7)"
   ]
  },
  {
   "cell_type": "markdown",
   "metadata": {},
   "source": [
    "### 반환을 사용하는 함수"
   ]
  },
  {
   "cell_type": "code",
   "execution_count": 31,
   "metadata": {
    "ExecuteTime": {
     "end_time": "2021-09-09T05:41:34.596581Z",
     "start_time": "2021-09-09T05:41:34.579565Z"
    }
   },
   "outputs": [],
   "source": [
    "# 함수 내부에서 정의 된 변수를 사용하기 위해서는 값을 반환(return) 시켜야 한다.\n",
    "# x와 y를 파라메터로 전달받는 cal_return 함수 정의\n",
    "def cal_return(x, y):\n",
    "    return x + y\n",
    "# x와 y의 합을 반환시킴\n"
   ]
  },
  {
   "cell_type": "code",
   "execution_count": 33,
   "metadata": {
    "ExecuteTime": {
     "end_time": "2021-09-09T05:41:53.277389Z",
     "start_time": "2021-09-09T05:41:53.273369Z"
    }
   },
   "outputs": [],
   "source": [
    "# cal_return함수를 실행시켜 반환받는 값을 result 변수에 저장\n",
    "result = cal_return(1, 2)"
   ]
  },
  {
   "cell_type": "code",
   "execution_count": 34,
   "metadata": {
    "ExecuteTime": {
     "end_time": "2021-09-09T05:42:00.832707Z",
     "start_time": "2021-09-09T05:42:00.826727Z"
    }
   },
   "outputs": [
    {
     "data": {
      "text/plain": [
       "3"
      ]
     },
     "execution_count": 34,
     "metadata": {},
     "output_type": "execute_result"
    }
   ],
   "source": [
    "result"
   ]
  },
  {
   "cell_type": "code",
   "execution_count": null,
   "metadata": {},
   "outputs": [],
   "source": [
    "# 파라메터 전달 순서?\n"
   ]
  },
  {
   "cell_type": "markdown",
   "metadata": {},
   "source": [
    "### 기존 반복 코드의 묶음"
   ]
  },
  {
   "cell_type": "code",
   "execution_count": null,
   "metadata": {},
   "outputs": [],
   "source": [
    "# 연습문제 함수로 묶어보자\n"
   ]
  },
  {
   "cell_type": "code",
   "execution_count": null,
   "metadata": {},
   "outputs": [],
   "source": [
    "# 묶자\n"
   ]
  },
  {
   "cell_type": "code",
   "execution_count": null,
   "metadata": {},
   "outputs": [],
   "source": [
    "# 묶자\n"
   ]
  },
  {
   "cell_type": "markdown",
   "metadata": {},
   "source": [
    "### 조금은 쓸모있는 함수를 만들어보자"
   ]
  },
  {
   "cell_type": "code",
   "execution_count": null,
   "metadata": {
    "ExecuteTime": {
     "end_time": "2021-04-06T13:49:57.509974Z",
     "start_time": "2021-04-06T13:49:57.506795Z"
    }
   },
   "outputs": [],
   "source": [
    "def input_data(x):\n",
    "    a = input(f'{x}을(를) 입력하세요. : ')\n",
    "    try:\n",
    "        a = int(a)\n",
    "    except:\n",
    "        pass\n",
    "    \n",
    "    return a"
   ]
  },
  {
   "cell_type": "code",
   "execution_count": null,
   "metadata": {
    "ExecuteTime": {
     "end_time": "2021-04-06T13:50:20.907902Z",
     "start_time": "2021-04-06T13:50:05.657894Z"
    }
   },
   "outputs": [],
   "source": [
    "name = input_data('이름')\n",
    "name"
   ]
  },
  {
   "cell_type": "code",
   "execution_count": null,
   "metadata": {
    "ExecuteTime": {
     "end_time": "2021-04-06T13:52:04.182104Z",
     "start_time": "2021-04-06T13:52:04.179797Z"
    }
   },
   "outputs": [],
   "source": [
    "# 기존에 정의 된 함수를 바탕으로 함수 안에서 함수 호출 연습\n",
    "# 위의 리스트 합 리턴 코드를 input_data() 함수를 사용하도록 변경\n"
   ]
  },
  {
   "cell_type": "markdown",
   "metadata": {},
   "source": [
    "### 지금까지 우리가 알게 모르게 사용해왔던 함수들\n",
    "`print()`  \n",
    "`int()`  \n",
    "`str()`  \n",
    "`float()`  \n",
    "`input()`  \n",
    "`list()`  \n",
    "`dict()`  \n",
    "`range()`  \n",
    "`append()`   등등등\n",
    "\n",
    "지금까지는 명령어라고 명칭했지만 앞으로는 함수라고 쓰겠습니다! 우리는 배운 사람들이니까요\n"
   ]
  },
  {
   "cell_type": "markdown",
   "metadata": {},
   "source": [
    "### 심플한 계산기를 만들어봅시다"
   ]
  },
  {
   "cell_type": "code",
   "execution_count": 36,
   "metadata": {
    "ExecuteTime": {
     "end_time": "2021-09-09T06:11:05.961930Z",
     "start_time": "2021-09-09T06:11:05.954634Z"
    }
   },
   "outputs": [],
   "source": [
    "# 덧셈\n",
    "def cal_sum(x, y):\n",
    "    z = x + y\n",
    "    return z"
   ]
  },
  {
   "cell_type": "code",
   "execution_count": 37,
   "metadata": {
    "ExecuteTime": {
     "end_time": "2021-09-09T06:11:06.252144Z",
     "start_time": "2021-09-09T06:11:06.242811Z"
    }
   },
   "outputs": [],
   "source": [
    "# 뺄셈\n",
    "def cal_min(x, y):\n",
    "    z = x - y\n",
    "    return z"
   ]
  },
  {
   "cell_type": "code",
   "execution_count": 38,
   "metadata": {
    "ExecuteTime": {
     "end_time": "2021-09-09T06:11:06.464030Z",
     "start_time": "2021-09-09T06:11:06.448074Z"
    }
   },
   "outputs": [],
   "source": [
    "# 곱셈\n",
    "def cal_mul(x, y):\n",
    "    z = x * y\n",
    "    return z"
   ]
  },
  {
   "cell_type": "code",
   "execution_count": 39,
   "metadata": {
    "ExecuteTime": {
     "end_time": "2021-09-09T06:11:06.689774Z",
     "start_time": "2021-09-09T06:11:06.673736Z"
    }
   },
   "outputs": [],
   "source": [
    "# 나눗셈\n",
    "def cal_div(x, y):\n",
    "    z = x / y\n",
    "    return z"
   ]
  },
  {
   "cell_type": "code",
   "execution_count": 41,
   "metadata": {
    "ExecuteTime": {
     "end_time": "2021-09-09T06:11:18.135766Z",
     "start_time": "2021-09-09T06:11:18.116815Z"
    }
   },
   "outputs": [
    {
     "data": {
      "text/plain": [
       "3"
      ]
     },
     "execution_count": 41,
     "metadata": {},
     "output_type": "execute_result"
    }
   ],
   "source": [
    "# 덧셈 함수 호출\n",
    "cal_sum(1, 2)"
   ]
  },
  {
   "cell_type": "code",
   "execution_count": null,
   "metadata": {},
   "outputs": [],
   "source": [
    "# 결과값을 바로 변수로 정의할 수 있음\n"
   ]
  },
  {
   "cell_type": "markdown",
   "metadata": {},
   "source": [
    "### python 예약어로 지정 된 함수를 쪼개봅시다\n",
    ">`sum()` 함수는 python 언어에 내장되어 있는 함수입니다.  \n",
    "파라메터로 iterable 변수 즉, 반복문으로 내부 인자의 루프를 돌 수 있는 변수를 받습니다.  \n",
    "그리고 그 인자의 합을 출력하는 함수입니다.  \n",
    "\n",
    "> `max()` 함수도 python 내장 함수로서 `sum()`과 같은 형식의 입력값을 받아 최대값을 반환하는 함수입니다.  \n",
    "함수를 쪼개봅시다  "
   ]
  },
  {
   "cell_type": "code",
   "execution_count": 50,
   "metadata": {
    "ExecuteTime": {
     "end_time": "2021-09-09T06:21:53.089018Z",
     "start_time": "2021-09-09T06:21:53.082511Z"
    }
   },
   "outputs": [],
   "source": [
    "test_list = [1, 2, 3, 4, 8]"
   ]
  },
  {
   "cell_type": "code",
   "execution_count": 44,
   "metadata": {
    "ExecuteTime": {
     "end_time": "2021-09-09T06:16:16.752609Z",
     "start_time": "2021-09-09T06:16:16.734866Z"
    }
   },
   "outputs": [
    {
     "data": {
      "text/plain": [
       "5"
      ]
     },
     "execution_count": 44,
     "metadata": {},
     "output_type": "execute_result"
    }
   ],
   "source": [
    "sum(test_list)\n",
    "len(test_list)"
   ]
  },
  {
   "cell_type": "code",
   "execution_count": 45,
   "metadata": {
    "ExecuteTime": {
     "end_time": "2021-09-09T06:17:52.376723Z",
     "start_time": "2021-09-09T06:17:52.368744Z"
    }
   },
   "outputs": [],
   "source": [
    "# sum_sum을 함수 이름으로 갖는 python sum() 함수를 재현해보기\n",
    "# sum() 쓰지 않기, 전달받는 데잍터가 list라고 가정\n",
    "def sum_sum(test_list):\n",
    "    total = 0\n",
    "    for i in range(len(test_list)):\n",
    "        total = total + test_list[i]\n",
    "    return total"
   ]
  },
  {
   "cell_type": "code",
   "execution_count": 52,
   "metadata": {
    "ExecuteTime": {
     "end_time": "2021-09-09T06:22:28.604354Z",
     "start_time": "2021-09-09T06:22:28.598198Z"
    }
   },
   "outputs": [
    {
     "name": "stdout",
     "output_type": "stream",
     "text": [
      "18\n"
     ]
    }
   ],
   "source": [
    "sum_sum(test_list)"
   ]
  },
  {
   "cell_type": "code",
   "execution_count": 47,
   "metadata": {
    "ExecuteTime": {
     "end_time": "2021-09-09T06:18:12.056779Z",
     "start_time": "2021-09-09T06:18:12.049797Z"
    }
   },
   "outputs": [
    {
     "data": {
      "text/plain": [
       "5"
      ]
     },
     "execution_count": 47,
     "metadata": {},
     "output_type": "execute_result"
    }
   ],
   "source": [
    "max(test_list)"
   ]
  },
  {
   "cell_type": "code",
   "execution_count": 55,
   "metadata": {
    "ExecuteTime": {
     "end_time": "2021-09-09T06:39:20.152651Z",
     "start_time": "2021-09-09T06:39:20.147663Z"
    }
   },
   "outputs": [],
   "source": [
    "# max_max를 함수 이름으로 갖는 python max() 함수를 재현해보기\n",
    "def max_max(test_list):\n",
    "    num = -99999999\n",
    "    for i in range(len(test_list)):\n",
    "        if test_list[i] > num:\n",
    "            num = test_list[i]\n",
    "    return num"
   ]
  },
  {
   "cell_type": "code",
   "execution_count": 56,
   "metadata": {
    "ExecuteTime": {
     "end_time": "2021-09-09T06:39:22.559461Z",
     "start_time": "2021-09-09T06:39:22.542475Z"
    }
   },
   "outputs": [
    {
     "data": {
      "text/plain": [
       "8"
      ]
     },
     "execution_count": 56,
     "metadata": {},
     "output_type": "execute_result"
    }
   ],
   "source": [
    "max_max(test_list)"
   ]
  },
  {
   "cell_type": "markdown",
   "metadata": {},
   "source": [
    "## 클래스\n",
    ">위에서 만든 계산기 함수를 살펴봅시다.  \n",
    "구조가 같은 함수가 여러개 반환값이 같은 연산만 다른 함수가 있다.  \n",
    "조금 간편하게 함수를 만들 수 없을까?  \n",
    "\n",
    ">**클래스**란?  \n",
    "같은 목적 혹은 대상을 위해 만들어진 **함수들의 묶음**"
   ]
  },
  {
   "cell_type": "markdown",
   "metadata": {},
   "source": [
    "### 클래스의 구조\n",
    "> **`class`** **`[클래스명]`** **`:`** # 클래스의 선언  \n",
    "  \n",
    ">> **`def`** **`__init__`** **`(self, [파라메터])`** **`:`**  \n",
    ">> 클래스를 만들면서 입력받는 파라메터를 클래스 내에서 사용가능 하도록 초기화  \n",
    ">>> **`self.[변수명]`** = **`[파라메터]`**  \n",
    ">>> 클래스를 만들면서 입력받는 파라메터를 클래스 내에서 사용가능 하도록 초기화  \n",
    ">>> `self.x` = `x`\n",
    "\n",
    ">>**`def`** **`[함수명]`** **`([self, 파라메터])`** **`:`**  \n",
    ">>>**`[실행코드]`**  \n",
    "\n",
    "> 클래스의 선언은 함수와 달리 소괄호없이 선언한다.  \n",
    "클래스명은 단어의 첫 알파벳을 대문자로 ex) MyClass, SumTotal  \n",
    "클래스 선언이후 처음 작성하는 **`__init__`** 함수는  \n",
    "클래스가 정의되면서 입력되는 파라메터를 저장하고 재사용하기 위한 초기화함수  \n",
    "클래스 내 함수의 파라메터앞에는 항상 **`self`**를 추가해주어야 하며,  \n",
    "**`__init__`** 함수에서 설정한 변수 사용시에도 **`self`** 를 추가해준다.  \n",
    "**`self.`** 변수는 클래스 내부에서 사용되며 클래스 내부에 있는 모든 함수에 사용이 가능하다.  "
   ]
  },
  {
   "cell_type": "markdown",
   "metadata": {},
   "source": [
    "### 계산기 클래스"
   ]
  },
  {
   "cell_type": "code",
   "execution_count": 58,
   "metadata": {
    "ExecuteTime": {
     "end_time": "2021-09-09T07:07:24.253983Z",
     "start_time": "2021-09-09T07:07:24.247035Z"
    }
   },
   "outputs": [],
   "source": [
    "# 클래스의 형태를 눈으로 익혀봅시다.\n",
    "class Calculator: # 클래스 선언\n",
    "    \n",
    "    def __init__(self, x, y): # 초기화함수\n",
    "        self.x = x # 클래스 내 변수 초기화\n",
    "        self.y = y\n",
    "        \n",
    "    def my_sum(self): # 함수 정의\n",
    "        z = self.x + self.y\n",
    "        return z\n",
    "\n",
    "    def my_minus(self):\n",
    "        z = self.x - self.y\n",
    "        return z\n",
    "\n",
    "    def my_multiply(self):\n",
    "        z = self.x * self.y\n",
    "        return z\n",
    "\n",
    "    def my_division(self):\n",
    "        z = self.x / self.y\n",
    "        return z"
   ]
  },
  {
   "cell_type": "code",
   "execution_count": 59,
   "metadata": {
    "ExecuteTime": {
     "end_time": "2021-09-09T07:07:25.392779Z",
     "start_time": "2021-09-09T07:07:25.378661Z"
    }
   },
   "outputs": [],
   "source": [
    "# 클래스의 호출\n",
    "a = Calculator(3, 5)"
   ]
  },
  {
   "cell_type": "code",
   "execution_count": 60,
   "metadata": {
    "ExecuteTime": {
     "end_time": "2021-09-09T07:07:26.517126Z",
     "start_time": "2021-09-09T07:07:26.499177Z"
    }
   },
   "outputs": [
    {
     "data": {
      "text/plain": [
       "8"
      ]
     },
     "execution_count": 60,
     "metadata": {},
     "output_type": "execute_result"
    }
   ],
   "source": [
    "# 클래스 내 함수의 호출\n",
    "a.my_sum()"
   ]
  },
  {
   "cell_type": "markdown",
   "metadata": {},
   "source": [
    "### 그럼 클래스와 함수는 항상 만들어 써야할까?\n",
    "> - 절대 그렇지 않습니다. 오히려 이미 만들어져있는 함수를 가져다 쓰는것을 권장합니다.  \n",
    "- 프로그래밍 혹은 데이터분석에 필요한 수많은 함수들이 이미 만들어져 있습니다.  \n",
    "- 함수를 학습하는 이유는 이러한 함수들을 호출하여 쓸 수 있게 하기 위함입니다.  "
   ]
  },
  {
   "cell_type": "markdown",
   "metadata": {},
   "source": [
    "### 남이 만든 클래스와 함수를 가져와보자\n",
    "**`import`** `[패키지명]`  \n",
    "**`import`** `[패키지명]` **`as`** `[닉네임]`  \n",
    "**`from`** `[패키지명]` **`import`** `[함수명]`  "
   ]
  },
  {
   "cell_type": "code",
   "execution_count": 65,
   "metadata": {
    "ExecuteTime": {
     "end_time": "2021-09-09T07:16:53.281697Z",
     "start_time": "2021-09-09T07:16:40.355996Z"
    }
   },
   "outputs": [],
   "source": [
    "# 이런것도 할 수 있어요~\n",
    "# 텍스트를 음성으로 변환시켜주는 패키지(모듈) 입니다.\n",
    "# 사용하기 전 패키지를 다운받는 과정이 필요합니다.\n",
    "# pip install pyttsx3\n",
    "import pyttsx3\n",
    "engine = pyttsx3.init()\n",
    "engine.say(\"수강생여러분.\")\n",
    "engine.say(\"파이썬 공부하느라 고생하십니다.\")\n",
    "engine.say(\"파이썬으로 이런것도 가능해요\")\n",
    "engine.say(\"하지만 이해못해도 괜챦아요.\")\n",
    "engine.say(\"왜냐하면 우리는 가져다 쓸꺼니까요. 찡긋\")\n",
    "engine.runAndWait()"
   ]
  },
  {
   "cell_type": "code",
   "execution_count": 66,
   "metadata": {
    "ExecuteTime": {
     "end_time": "2021-09-09T07:26:11.257443Z",
     "start_time": "2021-09-09T07:26:09.966619Z"
    }
   },
   "outputs": [],
   "source": [
    "# random 이라는 이름을 가진 모듈을 불러오기\n",
    "import random\n",
    "\n",
    "# numpy 패키지을 불러오고 np라는 닉네임으로 사용한다\n",
    "import numpy as np\n",
    "\n",
    "# pandas 패키지를 불러오고 pd라는 닉네임으로 사용한다\n",
    "import pandas as pd\n",
    "\n",
    "# 방금 전 만든 계산기 함수 불러오기\n",
    "from cal import Calculator as cal"
   ]
  },
  {
   "cell_type": "code",
   "execution_count": 67,
   "metadata": {
    "ExecuteTime": {
     "end_time": "2021-09-09T07:26:17.210337Z",
     "start_time": "2021-09-09T07:26:17.196139Z"
    }
   },
   "outputs": [],
   "source": [
    "from cal import Calculator as cal"
   ]
  },
  {
   "cell_type": "markdown",
   "metadata": {},
   "source": [
    "### 클래스의 사용\n",
    "불러들인 클래스에는 함수들이 묶여 자리하고 있습니다. 클래스를 불러들여도 실제로 작업은 함수를 실행시켜서 작동하게 됩니다. 함수를 사용해 봅시다."
   ]
  },
  {
   "cell_type": "code",
   "execution_count": null,
   "metadata": {
    "ExecuteTime": {
     "end_time": "2021-08-04T09:12:29.363580Z",
     "start_time": "2021-08-04T09:12:29.361036Z"
    }
   },
   "outputs": [],
   "source": [
    "# mycal이름을 가진 변수에 불러들인 cal클래스를 선언한다\n",
    "# 다만 cal 클래스는 초기화 할 때 2개의 변수를 받아야 한다\n",
    "# 이름은 mycal 변수처럼 보이지만 Calculator 클래스이다.\n"
   ]
  },
  {
   "cell_type": "markdown",
   "metadata": {},
   "source": [
    "## 패키지(packages), 모듈(modules)"
   ]
  },
  {
   "cell_type": "markdown",
   "metadata": {},
   "source": [
    "### random 패키지를 사용해보자\n",
    ">**`random`** 은 파이썬 내장 패키지(모듈)입니다.  \n",
    "랜덤한 값을 생성하거나 뽑아오는데 사용합니다.\n",
    "\n",
    ">**`random`** 모듈 불러오기\n",
    "**`import`** **`random`**\n",
    "\n",
    ">`random` 모듈의 자주 사용하는 함수  \n",
    "`random` `.random()` : 0 ~ 1 사이의 실수를 하나 반환  \n",
    "`random` `.randint(a, b)` : a ~ b 사이의 정수를 하나 반환  \n",
    "`random` `.choice`(list 혹은 데이터집합) : list의 무작위 샘플하나를 반환  \n",
    "`random` `.sample`(list 혹은 데이터집합, N(샘플링 할 데이터의 갯수)) : list의 무작위 샘플  N개를 반환  \n",
    "`random` `.suffle`(list 혹은 데이터집합) : list 순서 섞기  "
   ]
  },
  {
   "cell_type": "code",
   "execution_count": null,
   "metadata": {
    "ExecuteTime": {
     "end_time": "2021-04-07T01:57:12.389471Z",
     "start_time": "2021-04-07T01:57:12.367017Z"
    }
   },
   "outputs": [],
   "source": [
    "# random 모듈 불러오기\n",
    "import random"
   ]
  },
  {
   "cell_type": "code",
   "execution_count": 69,
   "metadata": {
    "ExecuteTime": {
     "end_time": "2021-09-09T07:30:41.683538Z",
     "start_time": "2021-09-09T07:30:41.668010Z"
    }
   },
   "outputs": [
    {
     "data": {
      "text/plain": [
       "0.5830422619726648"
      ]
     },
     "execution_count": 69,
     "metadata": {},
     "output_type": "execute_result"
    }
   ],
   "source": [
    "# 0 ~ 1 사이의 실수를 하나 반환\n",
    "random.random()"
   ]
  },
  {
   "cell_type": "code",
   "execution_count": 68,
   "metadata": {
    "ExecuteTime": {
     "end_time": "2021-09-09T07:30:37.280527Z",
     "start_time": "2021-09-09T07:30:37.268319Z"
    }
   },
   "outputs": [
    {
     "data": {
      "text/plain": [
       "10"
      ]
     },
     "execution_count": 68,
     "metadata": {},
     "output_type": "execute_result"
    }
   ],
   "source": [
    "# a ~ b 사이의 정수를 하나 반환\n",
    "random.randint(0, 10)"
   ]
  },
  {
   "cell_type": "code",
   "execution_count": null,
   "metadata": {
    "ExecuteTime": {
     "end_time": "2021-04-07T01:57:17.573899Z",
     "start_time": "2021-04-07T01:57:17.567435Z"
    }
   },
   "outputs": [],
   "source": [
    "test_list = [13, 2, 3, 45, 6, 21, 39]"
   ]
  },
  {
   "cell_type": "code",
   "execution_count": null,
   "metadata": {
    "ExecuteTime": {
     "end_time": "2021-04-07T01:57:17.817627Z",
     "start_time": "2021-04-07T01:57:17.813939Z"
    }
   },
   "outputs": [],
   "source": [
    "# list의 무작위 샘플하나를 반환\n",
    "random.choice(test_list)"
   ]
  },
  {
   "cell_type": "code",
   "execution_count": 92,
   "metadata": {
    "ExecuteTime": {
     "end_time": "2021-09-09T07:31:09.313738Z",
     "start_time": "2021-09-09T07:31:09.297779Z"
    }
   },
   "outputs": [
    {
     "data": {
      "text/plain": [
       "[2, 3, 4]"
      ]
     },
     "execution_count": 92,
     "metadata": {},
     "output_type": "execute_result"
    }
   ],
   "source": [
    "# list의 무작위 샘플  N개를 반환\n",
    "random.sample(test_list, 3)"
   ]
  },
  {
   "cell_type": "code",
   "execution_count": null,
   "metadata": {
    "ExecuteTime": {
     "end_time": "2021-04-07T01:57:20.802840Z",
     "start_time": "2021-04-07T01:57:20.798649Z"
    }
   },
   "outputs": [],
   "source": [
    "# list 순서 섞기\n",
    "random.shuffle(test_list)\n",
    "test_list"
   ]
  },
  {
   "cell_type": "markdown",
   "metadata": {},
   "source": [
    "### 그래서 random 모듈로 뭘 할 수 있는데요?\n",
    "# 로또 번호 생성기를 만들어 볼껍니다!!"
   ]
  },
  {
   "cell_type": "code",
   "execution_count": 108,
   "metadata": {
    "ExecuteTime": {
     "end_time": "2021-09-09T07:35:09.243083Z",
     "start_time": "2021-09-09T07:35:09.226721Z"
    }
   },
   "outputs": [
    {
     "data": {
      "text/plain": [
       "37"
      ]
     },
     "execution_count": 108,
     "metadata": {},
     "output_type": "execute_result"
    }
   ],
   "source": [
    "# 심플하게 6개 숫자를 만들어봅시다.\n",
    "random.randint(1, 45)\n",
    "lotto = []\n",
    "for i in range(6):\n",
    "    lotto.append(random.randint(1, 45))"
   ]
  },
  {
   "cell_type": "code",
   "execution_count": 126,
   "metadata": {
    "ExecuteTime": {
     "end_time": "2021-09-09T07:42:45.450627Z",
     "start_time": "2021-09-09T07:42:45.433599Z"
    }
   },
   "outputs": [
    {
     "data": {
      "text/plain": [
       "[39, 42, 11, 16, 18, 24]"
      ]
     },
     "execution_count": 126,
     "metadata": {},
     "output_type": "execute_result"
    }
   ],
   "source": [
    "# 중복숫자 제거\n",
    "# 정답은 없습니다. 각자가 구현할 수 있는 방법을 강구해서 중복숫자를 제거하고 번호 6개를 생성해 봅시다.\n",
    "lotto = []\n",
    "while True:\n",
    "    lotto.append(random.randint(1, 45))\n",
    "    lotto = set(lotto)\n",
    "    if len(lotto) == 6:\n",
    "        lotto = list(lotto)\n",
    "        break\n",
    "    lotto = list(lotto)\n",
    "lotto"
   ]
  },
  {
   "cell_type": "code",
   "execution_count": 174,
   "metadata": {
    "ExecuteTime": {
     "end_time": "2021-09-09T08:45:54.322895Z",
     "start_time": "2021-09-09T08:45:54.299867Z"
    }
   },
   "outputs": [
    {
     "data": {
      "text/plain": [
       "[[34, 4, 17, 19, 27, 28],\n",
       " [36, 39, 11, 21, 28, 31],\n",
       " [3, 36, 37, 13, 19, 22],\n",
       " [33, 43, 45, 14, 15, 28],\n",
       " [34, 18, 20, 25, 29, 31]]"
      ]
     },
     "execution_count": 174,
     "metadata": {},
     "output_type": "execute_result"
    }
   ],
   "source": [
    "# 누가 로또를 하나만 사나요? 최소 5000원짜리 한세트를 사지요\n",
    "# 5세트 만들어봅시다\n",
    "total_lotto = []\n",
    "for i in range(5):\n",
    "    lotto = []\n",
    "    while True:\n",
    "        lotto.append(random.randint(1, 45))\n",
    "        lotto = set(lotto)\n",
    "        if len(lotto) == 6:\n",
    "            lotto = list(lotto)\n",
    "            total_lotto.append(lotto)\n",
    "            break\n",
    "        lotto = list(lotto)\n",
    "total_lotto"
   ]
  },
  {
   "cell_type": "markdown",
   "metadata": {},
   "source": [
    "## 연습문제 스무고개 게임 업그레이드\n",
    "    컴퓨터와 스무고개 게임을 하는 프로그램을 만들어보겠습니다.\n",
    "    random 모듈로 컴퓨터가 1 ~ 100 중 숫자를 하나 선택하게 합니다.\n",
    "    게이머에게 입력받은 숫자를 판별하여 업, 다운, 정답을 출력하는 프로그램입니다.\n",
    "    게임 횟수는 10회이며, 10회 동안 정답을 못 맞출 경우 실패 문구를 출력하도록 프로그램을 짜 보겠습니다.\n",
    "    선택) 사용자에게 최소숫자, 최대숫자를 입력받아 random으로 생성"
   ]
  },
  {
   "cell_type": "code",
   "execution_count": 133,
   "metadata": {
    "ExecuteTime": {
     "end_time": "2021-09-09T08:16:42.559059Z",
     "start_time": "2021-09-09T08:16:28.857057Z"
    }
   },
   "outputs": [
    {
     "name": "stdout",
     "output_type": "stream",
     "text": [
      "플레이어의 숫자를 입력하세요: 2\n",
      "업\n",
      "플레이어의 숫자를 입력하세요: 90\n",
      "업\n",
      "플레이어의 숫자를 입력하세요: 99\n",
      "다운\n",
      "플레이어의 숫자를 입력하세요: 94\n",
      "업\n",
      "플레이어의 숫자를 입력하세요: 97\n",
      "정답!\n"
     ]
    }
   ],
   "source": [
    "# 연습문제\n",
    "a = 1\n",
    "com = random.randint(0, 100)\n",
    "\n",
    "while True:\n",
    "    player = int(input('플레이어의 숫자를 입력하세요: '))\n",
    "    if com > player:\n",
    "        print('업')\n",
    "        a = a + 1\n",
    "        if a == 11:\n",
    "            print('실패!')\n",
    "            break\n",
    "    elif com < player:\n",
    "        print('다운')\n",
    "        a = a + 1\n",
    "        if a == 11:\n",
    "            print('실패!')\n",
    "            break\n",
    "    elif com == player:\n",
    "        print('정답!')\n",
    "        break"
   ]
  },
  {
   "cell_type": "code",
   "execution_count": 162,
   "metadata": {
    "ExecuteTime": {
     "end_time": "2021-09-09T08:43:45.832190Z",
     "start_time": "2021-09-09T08:41:41.077487Z"
    }
   },
   "outputs": [
    {
     "name": "stdout",
     "output_type": "stream",
     "text": [
      "________________________________________\n",
      "어서오세요. 원하시는 메뉴를 선택하세요.\n",
      "________________________________________\n",
      "1. 입금\n",
      "2. 출금\n",
      "3. 잔액확인\n",
      "4. 종료\n",
      "________________________________________\n",
      "SSAC BANK\n",
      "________________________________________\n",
      "원하시는 메뉴를 입력하세요: 3\n",
      "3. 잔액확인\n",
      "현재 계좌의 잔액은  0 원 입니다.\n",
      "________________________________________\n",
      "어서오세요. 원하시는 메뉴를 선택하세요.\n",
      "________________________________________\n",
      "1. 입금\n",
      "2. 출금\n",
      "3. 잔액확인\n",
      "4. 종료\n",
      "________________________________________\n",
      "SSAC BANK\n",
      "________________________________________\n",
      "원하시는 메뉴를 입력하세요: 1\n",
      "1. 입금\n",
      "입금할 금액을 입력하세요: 100\n",
      "입금이 완료되었습니다.\n",
      "계좌 잔액: 100 원\n",
      "________________________________________\n",
      "어서오세요. 원하시는 메뉴를 선택하세요.\n",
      "________________________________________\n",
      "1. 입금\n",
      "2. 출금\n",
      "3. 잔액확인\n",
      "4. 종료\n",
      "________________________________________\n",
      "SSAC BANK\n",
      "________________________________________\n",
      "원하시는 메뉴를 입력하세요: 2\n",
      "2. 출금\n",
      "출금할 금액을 입력하세요: 1000\n",
      "잔액이 부족합니다\n",
      "계좌 잔액: 100 원\n",
      "________________________________________\n",
      "어서오세요. 원하시는 메뉴를 선택하세요.\n",
      "________________________________________\n",
      "1. 입금\n",
      "2. 출금\n",
      "3. 잔액확인\n",
      "4. 종료\n",
      "________________________________________\n",
      "SSAC BANK\n",
      "________________________________________\n"
     ]
    },
    {
     "ename": "KeyboardInterrupt",
     "evalue": "Interrupted by user",
     "output_type": "error",
     "traceback": [
      "\u001b[1;31m---------------------------------------------------------------------------\u001b[0m",
      "\u001b[1;31mKeyboardInterrupt\u001b[0m                         Traceback (most recent call last)",
      "\u001b[1;32m<ipython-input-162-21fe7a95554e>\u001b[0m in \u001b[0;36m<module>\u001b[1;34m\u001b[0m\n\u001b[0;32m      5\u001b[0m \u001b[1;32mwhile\u001b[0m \u001b[1;32mTrue\u001b[0m\u001b[1;33m:\u001b[0m\u001b[1;33m\u001b[0m\u001b[1;33m\u001b[0m\u001b[0m\n\u001b[0;32m      6\u001b[0m     \u001b[0mwelcome\u001b[0m\u001b[1;33m(\u001b[0m\u001b[1;33m)\u001b[0m\u001b[1;33m\u001b[0m\u001b[1;33m\u001b[0m\u001b[0m\n\u001b[1;32m----> 7\u001b[1;33m     \u001b[0mmenu\u001b[0m \u001b[1;33m=\u001b[0m \u001b[0mselect_menu\u001b[0m\u001b[1;33m(\u001b[0m\u001b[1;33m)\u001b[0m\u001b[1;33m\u001b[0m\u001b[1;33m\u001b[0m\u001b[0m\n\u001b[0m\u001b[0;32m      8\u001b[0m     \u001b[1;32mif\u001b[0m \u001b[0mmenu\u001b[0m \u001b[1;33m==\u001b[0m \u001b[1;36m1\u001b[0m\u001b[1;33m:\u001b[0m\u001b[1;33m\u001b[0m\u001b[1;33m\u001b[0m\u001b[0m\n\u001b[0;32m      9\u001b[0m         \u001b[0mmenu_deposit\u001b[0m\u001b[1;33m(\u001b[0m\u001b[0mbalance\u001b[0m\u001b[1;33m)\u001b[0m\u001b[1;33m\u001b[0m\u001b[1;33m\u001b[0m\u001b[0m\n",
      "\u001b[1;32m<ipython-input-161-1bffd5f1da8b>\u001b[0m in \u001b[0;36mselect_menu\u001b[1;34m()\u001b[0m\n\u001b[0;32m     13\u001b[0m \u001b[1;32mdef\u001b[0m \u001b[0mselect_menu\u001b[0m\u001b[1;33m(\u001b[0m\u001b[1;33m)\u001b[0m\u001b[1;33m:\u001b[0m\u001b[1;33m\u001b[0m\u001b[1;33m\u001b[0m\u001b[0m\n\u001b[0;32m     14\u001b[0m     \u001b[1;32mtry\u001b[0m\u001b[1;33m:\u001b[0m\u001b[1;33m\u001b[0m\u001b[1;33m\u001b[0m\u001b[0m\n\u001b[1;32m---> 15\u001b[1;33m         \u001b[0mmenu\u001b[0m \u001b[1;33m=\u001b[0m \u001b[0mint\u001b[0m\u001b[1;33m(\u001b[0m\u001b[0minput\u001b[0m\u001b[1;33m(\u001b[0m\u001b[1;34m'원하시는 메뉴를 입력하세요: '\u001b[0m\u001b[1;33m)\u001b[0m\u001b[1;33m)\u001b[0m\u001b[1;33m\u001b[0m\u001b[1;33m\u001b[0m\u001b[0m\n\u001b[0m\u001b[0;32m     16\u001b[0m     \u001b[1;32mexcept\u001b[0m \u001b[0mValueError\u001b[0m\u001b[1;33m:\u001b[0m\u001b[1;33m\u001b[0m\u001b[1;33m\u001b[0m\u001b[0m\n\u001b[0;32m     17\u001b[0m         \u001b[0mmenu\u001b[0m \u001b[1;33m=\u001b[0m \u001b[0mint\u001b[0m\u001b[1;33m(\u001b[0m\u001b[0minput\u001b[0m\u001b[1;33m(\u001b[0m\u001b[1;34m'잘못된 입력입니다. 원하시는 메뉴의 숫자를 입력하세요: '\u001b[0m\u001b[1;33m)\u001b[0m\u001b[1;33m)\u001b[0m\u001b[1;33m\u001b[0m\u001b[1;33m\u001b[0m\u001b[0m\n",
      "\u001b[1;32mC:\\Anaconda3\\lib\\site-packages\\ipykernel\\kernelbase.py\u001b[0m in \u001b[0;36mraw_input\u001b[1;34m(self, prompt)\u001b[0m\n\u001b[0;32m    858\u001b[0m                 \u001b[1;34m\"raw_input was called, but this frontend does not support input requests.\"\u001b[0m\u001b[1;33m\u001b[0m\u001b[1;33m\u001b[0m\u001b[0m\n\u001b[0;32m    859\u001b[0m             )\n\u001b[1;32m--> 860\u001b[1;33m         return self._input_request(str(prompt),\n\u001b[0m\u001b[0;32m    861\u001b[0m             \u001b[0mself\u001b[0m\u001b[1;33m.\u001b[0m\u001b[0m_parent_ident\u001b[0m\u001b[1;33m,\u001b[0m\u001b[1;33m\u001b[0m\u001b[1;33m\u001b[0m\u001b[0m\n\u001b[0;32m    862\u001b[0m             \u001b[0mself\u001b[0m\u001b[1;33m.\u001b[0m\u001b[0m_parent_header\u001b[0m\u001b[1;33m,\u001b[0m\u001b[1;33m\u001b[0m\u001b[1;33m\u001b[0m\u001b[0m\n",
      "\u001b[1;32mC:\\Anaconda3\\lib\\site-packages\\ipykernel\\kernelbase.py\u001b[0m in \u001b[0;36m_input_request\u001b[1;34m(self, prompt, ident, parent, password)\u001b[0m\n\u001b[0;32m    902\u001b[0m             \u001b[1;32mexcept\u001b[0m \u001b[0mKeyboardInterrupt\u001b[0m\u001b[1;33m:\u001b[0m\u001b[1;33m\u001b[0m\u001b[1;33m\u001b[0m\u001b[0m\n\u001b[0;32m    903\u001b[0m                 \u001b[1;31m# re-raise KeyboardInterrupt, to truncate traceback\u001b[0m\u001b[1;33m\u001b[0m\u001b[1;33m\u001b[0m\u001b[1;33m\u001b[0m\u001b[0m\n\u001b[1;32m--> 904\u001b[1;33m                 \u001b[1;32mraise\u001b[0m \u001b[0mKeyboardInterrupt\u001b[0m\u001b[1;33m(\u001b[0m\u001b[1;34m\"Interrupted by user\"\u001b[0m\u001b[1;33m)\u001b[0m \u001b[1;32mfrom\u001b[0m \u001b[1;32mNone\u001b[0m\u001b[1;33m\u001b[0m\u001b[1;33m\u001b[0m\u001b[0m\n\u001b[0m\u001b[0;32m    905\u001b[0m             \u001b[1;32mexcept\u001b[0m \u001b[0mException\u001b[0m \u001b[1;32mas\u001b[0m \u001b[0me\u001b[0m\u001b[1;33m:\u001b[0m\u001b[1;33m\u001b[0m\u001b[1;33m\u001b[0m\u001b[0m\n\u001b[0;32m    906\u001b[0m                 \u001b[0mself\u001b[0m\u001b[1;33m.\u001b[0m\u001b[0mlog\u001b[0m\u001b[1;33m.\u001b[0m\u001b[0mwarning\u001b[0m\u001b[1;33m(\u001b[0m\u001b[1;34m\"Invalid Message:\"\u001b[0m\u001b[1;33m,\u001b[0m \u001b[0mexc_info\u001b[0m\u001b[1;33m=\u001b[0m\u001b[1;32mTrue\u001b[0m\u001b[1;33m)\u001b[0m\u001b[1;33m\u001b[0m\u001b[1;33m\u001b[0m\u001b[0m\n",
      "\u001b[1;31mKeyboardInterrupt\u001b[0m: Interrupted by user"
     ]
    }
   ],
   "source": [
    "# 연습문제 \n",
    "balance = 0\n",
    "\n",
    "\n",
    "while True:\n",
    "    welcome()\n",
    "    menu = select_menu()\n",
    "    if menu == 1:\n",
    "        menu_deposit(balance)\n",
    "    elif menu == 2:\n",
    "        menu_withraw()\n",
    "    elif menu == 3:\n",
    "        print('3. 잔액확인')\n",
    "        print('현재 계좌의 잔액은 ', balance,'원 입니다.')\n",
    "    elif menu == 4:\n",
    "        print('이용해 주셔서 감사합니다.')\n",
    "        break\n",
    "    else:\n",
    "        print('잘못된 입력입니다.')"
   ]
  },
  {
   "cell_type": "code",
   "execution_count": 161,
   "metadata": {
    "ExecuteTime": {
     "end_time": "2021-09-09T08:41:39.136475Z",
     "start_time": "2021-09-09T08:41:39.124000Z"
    }
   },
   "outputs": [],
   "source": [
    "def welcome():\n",
    "    print('_' * 40)\n",
    "    print('어서오세요. 원하시는 메뉴를 선택하세요.')\n",
    "    print('_' * 40)\n",
    "    print('1. 입금')\n",
    "    print('2. 출금')\n",
    "    print('3. 잔액확인')\n",
    "    print('4. 종료')\n",
    "    print('_' * 40)\n",
    "    print('SSAC BANK')\n",
    "    print('_' * 40)\n",
    "    \n",
    "def select_menu():\n",
    "    try:\n",
    "        menu = int(input('원하시는 메뉴를 입력하세요: '))\n",
    "    except ValueError:\n",
    "        menu = int(input('잘못된 입력입니다. 원하시는 메뉴의 숫자를 입력하세요: '))\n",
    "    return menu\n",
    "\n",
    "def menu_deposit(bal):\n",
    "    print('1. 입금')\n",
    "    deposit = int(input('입금할 금액을 입력하세요: '))\n",
    "    bal = bal + deposit\n",
    "    global balance\n",
    "    balance = bal\n",
    "    print('입금이 완료되었습니다.')\n",
    "    print('계좌 잔액:', balance,'원')\n",
    "    return balance\n",
    "    \n",
    "def menu_withraw():\n",
    "    print('2. 출금')\n",
    "    withraw = int(input('출금할 금액을 입력하세요: '))\n",
    "    global balance\n",
    "    if balance >= withraw:\n",
    "        balance = balance - withraw\n",
    "        print('출금이 완료되었습니다')\n",
    "        print('계좌 잔액:', balance,'원')\n",
    "    else:\n",
    "        print('잔액이 부족합니다')\n",
    "        print('계좌 잔액:', balance,'원')\n",
    "    return balance"
   ]
  },
  {
   "cell_type": "code",
   "execution_count": null,
   "metadata": {},
   "outputs": [],
   "source": []
  },
  {
   "cell_type": "code",
   "execution_count": null,
   "metadata": {},
   "outputs": [],
   "source": []
  },
  {
   "cell_type": "code",
   "execution_count": null,
   "metadata": {},
   "outputs": [],
   "source": []
  },
  {
   "cell_type": "code",
   "execution_count": null,
   "metadata": {},
   "outputs": [],
   "source": []
  },
  {
   "cell_type": "code",
   "execution_count": null,
   "metadata": {},
   "outputs": [],
   "source": []
  },
  {
   "cell_type": "code",
   "execution_count": null,
   "metadata": {},
   "outputs": [],
   "source": [
    "def print_total():\n",
    "    total = []\n",
    "    while True:\n",
    "        num = input('숫자를 입력하세요 멈추려면 q를 입력하세요: ')\n",
    "        if (not num) or (num == 'q'):\n",
    "            break\n",
    "        num = int(num)\n",
    "        total.append(num)\n",
    "    print(sum(total))"
   ]
  },
  {
   "cell_type": "code",
   "execution_count": null,
   "metadata": {},
   "outputs": [],
   "source": [
    "def cal_sum(x, y):\n",
    "    z = x + y\n",
    "    return z\n",
    "\n",
    "def cal_minus(x, y):\n",
    "    z = x - y\n",
    "    return z\n",
    "\n",
    "def cal_multi(x, y):\n",
    "    z = x * y\n",
    "    return z\n",
    "\n",
    "def cal_divide(x, y):\n",
    "    z = x / y\n",
    "    return z1, z2"
   ]
  },
  {
   "cell_type": "code",
   "execution_count": null,
   "metadata": {},
   "outputs": [],
   "source": [
    "def sum_sum(x):\n",
    "    total = 0\n",
    "    for i in x:\n",
    "        total = total + i\n",
    "    \n",
    "    return total"
   ]
  },
  {
   "cell_type": "code",
   "execution_count": null,
   "metadata": {},
   "outputs": [],
   "source": [
    "def max_max(x):\n",
    "    high = 0\n",
    "    for i in x:\n",
    "        if i > high:\n",
    "            high = i\n",
    "    \n",
    "    return high"
   ]
  },
  {
   "cell_type": "code",
   "execution_count": null,
   "metadata": {},
   "outputs": [],
   "source": [
    "import random\n",
    "lotto = []\n",
    "for i in range(6):\n",
    "    num = random.randint(1, 45)\n",
    "    lotto.append(num)\n",
    "lotto"
   ]
  },
  {
   "cell_type": "code",
   "execution_count": null,
   "metadata": {},
   "outputs": [],
   "source": [
    "import random\n",
    "lotto = []\n",
    "while True:\n",
    "    num = random.randint(1, 45)\n",
    "    if num in lotto:\n",
    "        pass\n",
    "    else:\n",
    "        lotto.append(num)\n",
    "    if len(lotto) == 6:\n",
    "        break\n",
    "lotto"
   ]
  },
  {
   "cell_type": "code",
   "execution_count": null,
   "metadata": {},
   "outputs": [],
   "source": [
    "import random\n",
    "game = []\n",
    "for i in range(5):\n",
    "    lotto = []\n",
    "    while True:\n",
    "        num = random.randint(1, 45)\n",
    "        if num in lotto:\n",
    "            pass\n",
    "        else:\n",
    "            lotto.append(num)\n",
    "        if len(lotto) == 6:\n",
    "            break\n",
    "    game.append(lotto)\n",
    "game"
   ]
  },
  {
   "cell_type": "code",
   "execution_count": null,
   "metadata": {},
   "outputs": [],
   "source": [
    "import random\n",
    "\n",
    "# 옵션\n",
    "# a = input('게임에 사용할 가장 작은 숫자를 입력하세요 :')\n",
    "# b = input('게임에 사용할 가장 작은 큰를 입력하세요 :')\n",
    "\n",
    "computer = random.randint(0, 100) # 옵션 0, 100 대신 a, b 사용\n",
    "count = 0\n",
    "for i in range(10):\n",
    "    gamer = input('숫자를 입력하세요 : ')\n",
    "    gamer = int(gamer)\n",
    "    if computer > gamer:\n",
    "        print('업')\n",
    "    elif computer < gamer:\n",
    "        print('다운')\n",
    "    elif computer == gamer:\n",
    "        print('정답입니다.')\n",
    "        break\n",
    "    if i == 9:\n",
    "        print('실패입니다.')\n",
    "    else:\n",
    "        pass"
   ]
  },
  {
   "cell_type": "code",
   "execution_count": null,
   "metadata": {},
   "outputs": [],
   "source": [
    "# 전사와 마법사 생성후 모의전투\n",
    "# 리뷰만\n",
    "\n",
    "import numpy as np\n",
    "import random\n",
    "import time\n",
    "\n",
    "class Caractor:\n",
    "\n",
    "    def __init__(self, job):\n",
    "        self.job = job\n",
    "        self.vital = 100\n",
    "        self.defence = 10\n",
    "        self.attack = 15\n",
    "        if self.job == '전사':\n",
    "            self.vital = self.vital + random.randint(5, 10)\n",
    "            self.defence = self.defence + random.randint(5, 10)\n",
    "        elif self.job == '마법사':\n",
    "            self.attack = self.attack + random.randint(7, 15)\n",
    "            self.defence = self.defence - random.randint(1, 5)\n",
    "            \n",
    "class battle:\n",
    "    \n",
    "    def __init__(self, p1, p2):\n",
    "        self.p1 = p1\n",
    "        self.p2 = p2\n",
    "    \n",
    "    def fight(self):\n",
    "\n",
    "        for i in range(30):\n",
    "            time.sleep(2)\n",
    "            print(str(i+1) + '텀 전투결과')\n",
    "            self.p1.vital = self.p1.vital - ((self.p2.attack + random.randint(-2, 2)) - self.p1.defence)\n",
    "            print(self.p1.job + '가 ' + self.p2.job + '의 ' + str(self.p2.attack + random.randint(-1, 1)) + ' 의 공격을 받아 체력이 ' + str(self.p1.vital) + '이 되었습니다.')\n",
    "            self.p2.vital = self.p2.vital - ((self.p1.attack + random.randint(-1, 1)) - self.p2.defence)\n",
    "            print(self.p2.job + '가 ' + self.p1.job + '의 ' + str(self.p1.attack + random.randint(-2, 2)) + ' 의 공격을 받아 체력이 ' + str(self.p2.vital) + '이 되었습니다.')\n",
    "            if self.p1.vital <= 0 or self.p2.vital <= 0:\n",
    "                print('전투종료')\n",
    "                break\n",
    "\n",
    "warrior = Caractor('전사')\n",
    "magician = Caractor('마법사')\n",
    "\n",
    "warrior.vital, warrior.defence, warrior.attack\n",
    "\n",
    "magician.vital, magician.defence, magician.attack\n",
    "\n",
    "battle1 = battle(warrior, magician)\n",
    "\n",
    "battle1.fight()"
   ]
  }
 ],
 "metadata": {
  "kernelspec": {
   "display_name": "Python 3",
   "language": "python",
   "name": "python3"
  },
  "language_info": {
   "codemirror_mode": {
    "name": "ipython",
    "version": 3
   },
   "file_extension": ".py",
   "mimetype": "text/x-python",
   "name": "python",
   "nbconvert_exporter": "python",
   "pygments_lexer": "ipython3",
   "version": "3.8.8"
  },
  "toc": {
   "base_numbering": 1,
   "nav_menu": {},
   "number_sections": true,
   "sideBar": true,
   "skip_h1_title": true,
   "title_cell": "Table of Contents",
   "title_sidebar": "Contents",
   "toc_cell": false,
   "toc_position": {
    "height": "calc(100% - 180px)",
    "left": "10px",
    "top": "150px",
    "width": "261.812px"
   },
   "toc_section_display": true,
   "toc_window_display": false
  },
  "varInspector": {
   "cols": {
    "lenName": 16,
    "lenType": 16,
    "lenVar": 40
   },
   "kernels_config": {
    "python": {
     "delete_cmd_postfix": "",
     "delete_cmd_prefix": "del ",
     "library": "var_list.py",
     "varRefreshCmd": "print(var_dic_list())"
    },
    "r": {
     "delete_cmd_postfix": ") ",
     "delete_cmd_prefix": "rm(",
     "library": "var_list.r",
     "varRefreshCmd": "cat(var_dic_list()) "
    }
   },
   "types_to_exclude": [
    "module",
    "function",
    "builtin_function_or_method",
    "instance",
    "_Feature"
   ],
   "window_display": false
  }
 },
 "nbformat": 4,
 "nbformat_minor": 2
}
