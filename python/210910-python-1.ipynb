{
 "cells": [
  {
   "cell_type": "markdown",
   "metadata": {},
   "source": [
    "# 파이썬 내장 패키지"
   ]
  },
  {
   "cell_type": "markdown",
   "metadata": {},
   "source": [
    "## os\n",
    "> 파일 및 디렉토리(폴더)관리를 위한 파이썬 내장패키지"
   ]
  },
  {
   "cell_type": "code",
   "execution_count": 1,
   "metadata": {
    "ExecuteTime": {
     "end_time": "2021-09-10T01:15:39.862700Z",
     "start_time": "2021-09-10T01:15:39.852276Z"
    }
   },
   "outputs": [],
   "source": [
    "# 모듈 import\n",
    "import os"
   ]
  },
  {
   "cell_type": "code",
   "execution_count": 6,
   "metadata": {
    "ExecuteTime": {
     "end_time": "2021-09-10T01:24:12.110100Z",
     "start_time": "2021-09-10T01:24:12.090009Z"
    }
   },
   "outputs": [
    {
     "data": {
      "text/plain": [
       "'c:\\\\workspace_python\\\\SSAC_python'"
      ]
     },
     "execution_count": 6,
     "metadata": {},
     "output_type": "execute_result"
    }
   ],
   "source": [
    "# 현재 파이썬 커널 경로 확인\n",
    "path = os.getcwd()\n",
    "path"
   ]
  },
  {
   "cell_type": "code",
   "execution_count": null,
   "metadata": {},
   "outputs": [],
   "source": [
    "# 경로이동\n",
    "# os.chdir()"
   ]
  },
  {
   "cell_type": "code",
   "execution_count": 5,
   "metadata": {
    "ExecuteTime": {
     "end_time": "2021-09-10T01:22:55.924338Z",
     "start_time": "2021-09-10T01:22:55.913367Z"
    }
   },
   "outputs": [
    {
     "data": {
      "text/plain": [
       "'c:\\\\workspace_python\\\\SSAC_python'"
      ]
     },
     "execution_count": 5,
     "metadata": {},
     "output_type": "execute_result"
    }
   ],
   "source": [
    "pwd"
   ]
  },
  {
   "cell_type": "code",
   "execution_count": 7,
   "metadata": {
    "ExecuteTime": {
     "end_time": "2021-09-10T01:24:15.335237Z",
     "start_time": "2021-09-10T01:24:15.330244Z"
    }
   },
   "outputs": [],
   "source": [
    "# 경로 생성\n",
    "os.mkdir('test')"
   ]
  },
  {
   "cell_type": "code",
   "execution_count": 10,
   "metadata": {
    "ExecuteTime": {
     "end_time": "2021-09-10T01:25:45.733020Z",
     "start_time": "2021-09-10T01:25:45.723022Z"
    }
   },
   "outputs": [
    {
     "data": {
      "text/plain": [
       "['.ipynb_checkpoints',\n",
       " '01_python_basic.ipynb',\n",
       " '02_python_sequence.ipynb',\n",
       " '03_python_controlflow.ipynb',\n",
       " '04_python_function_class.ipynb',\n",
       " '05_python_packages.ipynb',\n",
       " '06_python_crawler.ipynb',\n",
       " '07_python_selenium.ipynb',\n",
       " '08_package_numpy.ipynb',\n",
       " '09_package_pandas_finance.ipynb',\n",
       " '10_package_visualization.ipynb',\n",
       " 'cal.py',\n",
       " 'SSAC_introduction_v0.3.pdf',\n",
       " '__pycache__']"
      ]
     },
     "execution_count": 10,
     "metadata": {},
     "output_type": "execute_result"
    }
   ],
   "source": [
    "# 현재 경로의 파일, 폴더 리스트\n",
    "os.listdir()"
   ]
  },
  {
   "cell_type": "code",
   "execution_count": 9,
   "metadata": {
    "ExecuteTime": {
     "end_time": "2021-09-10T01:25:43.000415Z",
     "start_time": "2021-09-10T01:25:42.982414Z"
    }
   },
   "outputs": [],
   "source": [
    "# 경로 삭제\n",
    "os.rmdir('test')"
   ]
  },
  {
   "cell_type": "code",
   "execution_count": 16,
   "metadata": {
    "ExecuteTime": {
     "end_time": "2021-08-23T07:35:45.653033Z",
     "start_time": "2021-08-23T07:35:45.649847Z"
    }
   },
   "outputs": [],
   "source": [
    "# 하위 경로까지 생성\n"
   ]
  },
  {
   "cell_type": "code",
   "execution_count": null,
   "metadata": {},
   "outputs": [],
   "source": [
    "# 상위 경로까지 삭제\n"
   ]
  },
  {
   "cell_type": "code",
   "execution_count": null,
   "metadata": {
    "ExecuteTime": {
     "end_time": "2021-08-23T07:48:33.162029Z",
     "start_time": "2021-08-23T07:48:33.157127Z"
    },
    "scrolled": true
   },
   "outputs": [],
   "source": [
    "# 현재 경로 파일, 폴더 리스트\n"
   ]
  },
  {
   "cell_type": "code",
   "execution_count": 12,
   "metadata": {
    "ExecuteTime": {
     "end_time": "2021-09-10T01:29:02.991168Z",
     "start_time": "2021-09-10T01:29:02.971239Z"
    },
    "scrolled": true
   },
   "outputs": [
    {
     "name": "stdout",
     "output_type": "stream",
     "text": [
      "SSAC_introduction_v0.3.pdf\n"
     ]
    }
   ],
   "source": [
    "# 조건문 활용 파일 셀렉션\n",
    "for file_name in os.listdir():\n",
    "    if file_name[-3:] == 'pdf':\n",
    "        print(file_name)"
   ]
  },
  {
   "cell_type": "markdown",
   "metadata": {},
   "source": [
    "## glob\n",
    "파일 혹은 폴더 리스트를 관리하기 위한 파이썬 패키지"
   ]
  },
  {
   "cell_type": "code",
   "execution_count": 13,
   "metadata": {
    "ExecuteTime": {
     "end_time": "2021-09-10T01:30:58.062649Z",
     "start_time": "2021-09-10T01:30:58.051194Z"
    }
   },
   "outputs": [],
   "source": [
    "# 모듈 import \n",
    "from glob import glob"
   ]
  },
  {
   "cell_type": "code",
   "execution_count": 14,
   "metadata": {
    "ExecuteTime": {
     "end_time": "2021-09-10T01:31:35.514118Z",
     "start_time": "2021-09-10T01:31:35.505328Z"
    },
    "scrolled": true
   },
   "outputs": [
    {
     "data": {
      "text/plain": [
       "['01_python_basic.ipynb',\n",
       " '02_python_sequence.ipynb',\n",
       " '03_python_controlflow.ipynb',\n",
       " '04_python_function_class.ipynb',\n",
       " '05_python_packages.ipynb',\n",
       " '06_python_crawler.ipynb',\n",
       " '07_python_selenium.ipynb',\n",
       " '08_package_numpy.ipynb',\n",
       " '09_package_pandas_finance.ipynb',\n",
       " '10_package_visualization.ipynb']"
      ]
     },
     "execution_count": 14,
     "metadata": {},
     "output_type": "execute_result"
    }
   ],
   "source": [
    "# glob 함수 적용\n",
    "glob('*.ipynb')"
   ]
  },
  {
   "cell_type": "markdown",
   "metadata": {},
   "source": [
    "## time, datatime\n",
    "현재시간, 시간차등 시간 데이터 관리를 위한 파이썬 패키지"
   ]
  },
  {
   "cell_type": "code",
   "execution_count": 15,
   "metadata": {
    "ExecuteTime": {
     "end_time": "2021-09-10T01:34:12.710075Z",
     "start_time": "2021-09-10T01:34:12.698012Z"
    }
   },
   "outputs": [],
   "source": [
    "# 모듈 import \n",
    "import time"
   ]
  },
  {
   "cell_type": "code",
   "execution_count": 16,
   "metadata": {
    "ExecuteTime": {
     "end_time": "2021-09-10T01:34:29.767753Z",
     "start_time": "2021-09-10T01:34:27.748922Z"
    }
   },
   "outputs": [
    {
     "name": "stdout",
     "output_type": "stream",
     "text": [
      "코드 딜레이\n"
     ]
    }
   ],
   "source": [
    "# time sleep\n",
    "time.sleep(2)\n",
    "print('코드 딜레이')"
   ]
  },
  {
   "cell_type": "code",
   "execution_count": 17,
   "metadata": {
    "ExecuteTime": {
     "end_time": "2021-09-10T01:37:03.054615Z",
     "start_time": "2021-09-10T01:37:03.048074Z"
    }
   },
   "outputs": [],
   "source": [
    "# 모듈 import\n",
    "from datetime import datetime as dt"
   ]
  },
  {
   "cell_type": "code",
   "execution_count": 19,
   "metadata": {
    "ExecuteTime": {
     "end_time": "2021-09-10T01:39:40.274011Z",
     "start_time": "2021-09-10T01:39:40.267030Z"
    }
   },
   "outputs": [],
   "source": [
    "# 현재시간\n",
    "current_time = dt.now()"
   ]
  },
  {
   "cell_type": "code",
   "execution_count": 20,
   "metadata": {
    "ExecuteTime": {
     "end_time": "2021-09-10T01:40:20.108236Z",
     "start_time": "2021-09-10T01:40:20.091932Z"
    }
   },
   "outputs": [
    {
     "data": {
      "text/plain": [
       "'Fri Sep 10 10:39:40 2021'"
      ]
     },
     "execution_count": 20,
     "metadata": {},
     "output_type": "execute_result"
    }
   ],
   "source": [
    "# 현재시간 weston 방식으로 출력\n",
    "current_time.ctime()"
   ]
  },
  {
   "cell_type": "code",
   "execution_count": 24,
   "metadata": {
    "ExecuteTime": {
     "end_time": "2021-09-10T01:43:32.287748Z",
     "start_time": "2021-09-10T01:43:32.272266Z"
    }
   },
   "outputs": [
    {
     "name": "stdout",
     "output_type": "stream",
     "text": [
      "2021\n",
      "9\n",
      "10\n",
      "10\n",
      "39\n",
      "40\n",
      "268026\n"
     ]
    }
   ],
   "source": [
    "# 각 시간 단위 접근\n",
    "# 함수가 아님\n",
    "# 한 시점의 날짜정보 시간정보를 각 데이터 분석에 활용 가능\n",
    "print(current_time.year)\n",
    "print(current_time.month)\n",
    "print(current_time.day)\n",
    "print(current_time.hour)\n",
    "print(current_time.minute)\n",
    "print(current_time.second)\n",
    "print(current_time.microsecond)"
   ]
  },
  {
   "cell_type": "code",
   "execution_count": 31,
   "metadata": {
    "ExecuteTime": {
     "end_time": "2021-09-10T01:51:54.308673Z",
     "start_time": "2021-09-10T01:51:54.301717Z"
    }
   },
   "outputs": [],
   "source": [
    "# datetime 데이터 타입을 문자열 형식으로\n",
    "current_str_time = current_time.strftime(\"%Y-%m-%d,%a %H:%M:%S\")"
   ]
  },
  {
   "cell_type": "code",
   "execution_count": 32,
   "metadata": {
    "ExecuteTime": {
     "end_time": "2021-09-10T01:51:55.613290Z",
     "start_time": "2021-09-10T01:51:55.600344Z"
    }
   },
   "outputs": [
    {
     "data": {
      "text/plain": [
       "'2021-09-10,Fri 10:39:40'"
      ]
     },
     "execution_count": 32,
     "metadata": {},
     "output_type": "execute_result"
    }
   ],
   "source": [
    "current_str_time"
   ]
  },
  {
   "cell_type": "code",
   "execution_count": null,
   "metadata": {
    "ExecuteTime": {
     "end_time": "2021-08-23T08:38:46.258225Z",
     "start_time": "2021-08-23T08:38:46.253343Z"
    }
   },
   "outputs": [],
   "source": [
    "# 문자열 형식의 날짜를 datetime 형식으로\n",
    "dt.strptime(current_str_time, \"%Y-%m-%d,%a %H:%M:%S\")"
   ]
  },
  {
   "cell_type": "code",
   "execution_count": 34,
   "metadata": {
    "ExecuteTime": {
     "end_time": "2021-09-10T02:08:19.935497Z",
     "start_time": "2021-09-10T02:08:19.920530Z"
    }
   },
   "outputs": [],
   "source": [
    "# 시간차 계산, 비교연산, time_difference\n",
    "current_time2 = dt.now()"
   ]
  },
  {
   "cell_type": "code",
   "execution_count": null,
   "metadata": {},
   "outputs": [],
   "source": [
    "# 이슈나 사건, 로그에 따라서 데이터가 누적이 되는 경우\n",
    "# 웹페이지 로그 분석\n",
    "#유저 1페이지 머무른 시간, 2페이지 머무른 시간"
   ]
  },
  {
   "cell_type": "code",
   "execution_count": 36,
   "metadata": {
    "ExecuteTime": {
     "end_time": "2021-09-10T02:09:25.436089Z",
     "start_time": "2021-09-10T02:09:25.424547Z"
    }
   },
   "outputs": [],
   "source": [
    "time_test = current_time2 - current_time"
   ]
  },
  {
   "cell_type": "code",
   "execution_count": 43,
   "metadata": {
    "ExecuteTime": {
     "end_time": "2021-09-10T02:12:24.930019Z",
     "start_time": "2021-09-10T02:12:24.917529Z"
    }
   },
   "outputs": [
    {
     "data": {
      "text/plain": [
       "False"
      ]
     },
     "execution_count": 43,
     "metadata": {},
     "output_type": "execute_result"
    }
   ],
   "source": [
    "current_time2 < current_time"
   ]
  },
  {
   "cell_type": "code",
   "execution_count": 41,
   "metadata": {
    "ExecuteTime": {
     "end_time": "2021-09-10T02:09:51.128874Z",
     "start_time": "2021-09-10T02:09:51.112493Z"
    }
   },
   "outputs": [
    {
     "data": {
      "text/plain": [
       "1719"
      ]
     },
     "execution_count": 41,
     "metadata": {},
     "output_type": "execute_result"
    }
   ],
   "source": [
    "time_test.seconds"
   ]
  },
  {
   "cell_type": "markdown",
   "metadata": {},
   "source": [
    "## txt 파일 읽고 쓰기"
   ]
  },
  {
   "cell_type": "code",
   "execution_count": 44,
   "metadata": {
    "ExecuteTime": {
     "end_time": "2021-09-10T02:17:38.116118Z",
     "start_time": "2021-09-10T02:17:38.104571Z"
    }
   },
   "outputs": [],
   "source": [
    "# 파일을 읽어들이고 작업을 하고 닫는 과정\n",
    "# 1. 파일을 읽어들여옴\n",
    "# 2. 작업을 하고\n",
    "# 3. 파일을 닫아줘야 함.\n",
    "\n",
    "# 읽기: r, 쓰기: w\n",
    "\n",
    "# file_name.txt 생성\n",
    "f = open('file_nm.txt', 'w')\n"
   ]
  },
  {
   "cell_type": "code",
   "execution_count": 47,
   "metadata": {
    "ExecuteTime": {
     "end_time": "2021-09-10T02:20:25.811748Z",
     "start_time": "2021-09-10T02:20:25.791803Z"
    }
   },
   "outputs": [],
   "source": [
    "for i in range(10):\n",
    "    text = f'{i}번째 데이터다.\\n' # \\n 줄바꿈, \\t 4칸 띄우기\n",
    "    f.write(text)"
   ]
  },
  {
   "cell_type": "code",
   "execution_count": 49,
   "metadata": {
    "ExecuteTime": {
     "end_time": "2021-09-10T02:22:12.346558Z",
     "start_time": "2021-09-10T02:22:12.328248Z"
    }
   },
   "outputs": [],
   "source": [
    "# 파일 닫기\n",
    "# 닫는 순간 파일이 저장\n",
    "f.close()"
   ]
  },
  {
   "cell_type": "code",
   "execution_count": 50,
   "metadata": {
    "ExecuteTime": {
     "end_time": "2021-09-10T02:25:05.537056Z",
     "start_time": "2021-09-10T02:25:05.521710Z"
    }
   },
   "outputs": [
    {
     "data": {
      "text/plain": [
       "<_io.TextIOWrapper name='file_nm.txt' mode='w' encoding='cp949'>"
      ]
     },
     "execution_count": 50,
     "metadata": {},
     "output_type": "execute_result"
    }
   ],
   "source": [
    "f"
   ]
  },
  {
   "cell_type": "code",
   "execution_count": 60,
   "metadata": {
    "ExecuteTime": {
     "end_time": "2021-09-10T02:30:57.991019Z",
     "start_time": "2021-09-10T02:30:57.974716Z"
    }
   },
   "outputs": [],
   "source": [
    "f = open('file_nm.txt', 'r')"
   ]
  },
  {
   "cell_type": "code",
   "execution_count": 53,
   "metadata": {
    "ExecuteTime": {
     "end_time": "2021-09-10T02:26:29.721103Z",
     "start_time": "2021-09-10T02:26:29.712128Z"
    }
   },
   "outputs": [
    {
     "data": {
      "text/plain": [
       "['0번째 데이터다.\\n',\n",
       " '1번째 데이터다.\\n',\n",
       " '2번째 데이터다.\\n',\n",
       " '3번째 데이터다.\\n',\n",
       " '4번째 데이터다.\\n',\n",
       " '5번째 데이터다.\\n',\n",
       " '6번째 데이터다.\\n',\n",
       " '7번째 데이터다.\\n',\n",
       " '8번째 데이터다.\\n',\n",
       " '9번째 데이터다.\\n']"
      ]
     },
     "execution_count": 53,
     "metadata": {},
     "output_type": "execute_result"
    }
   ],
   "source": [
    "f.readlines()"
   ]
  },
  {
   "cell_type": "code",
   "execution_count": 61,
   "metadata": {
    "ExecuteTime": {
     "end_time": "2021-09-10T02:30:59.955462Z",
     "start_time": "2021-09-10T02:30:59.927791Z"
    }
   },
   "outputs": [
    {
     "data": {
      "text/plain": [
       "['0번째 데이터다.',\n",
       " '1번째 데이터다.',\n",
       " '2번째 데이터다.',\n",
       " '3번째 데이터다.',\n",
       " '4번째 데이터다.',\n",
       " '5번째 데이터다.',\n",
       " '6번째 데이터다.',\n",
       " '7번째 데이터다.',\n",
       " '8번째 데이터다.',\n",
       " '9번째 데이터다.']"
      ]
     },
     "execution_count": 61,
     "metadata": {},
     "output_type": "execute_result"
    }
   ],
   "source": [
    "txt_list = []\n",
    "for txt in f.readlines():\n",
    "#    txt_list.append(txt[:-2])\n",
    "    txt_list.append(txt.replace('\\n', ''))\n",
    "txt_list"
   ]
  },
  {
   "cell_type": "code",
   "execution_count": null,
   "metadata": {},
   "outputs": [],
   "source": []
  },
  {
   "cell_type": "code",
   "execution_count": null,
   "metadata": {},
   "outputs": [],
   "source": []
  }
 ],
 "metadata": {
  "kernelspec": {
   "display_name": "Python 3",
   "language": "python",
   "name": "python3"
  },
  "language_info": {
   "codemirror_mode": {
    "name": "ipython",
    "version": 3
   },
   "file_extension": ".py",
   "mimetype": "text/x-python",
   "name": "python",
   "nbconvert_exporter": "python",
   "pygments_lexer": "ipython3",
   "version": "3.8.8"
  },
  "toc": {
   "base_numbering": 1,
   "nav_menu": {},
   "number_sections": true,
   "sideBar": true,
   "skip_h1_title": true,
   "title_cell": "Table of Contents",
   "title_sidebar": "Contents",
   "toc_cell": false,
   "toc_position": {},
   "toc_section_display": true,
   "toc_window_display": false
  },
  "varInspector": {
   "cols": {
    "lenName": 16,
    "lenType": 16,
    "lenVar": 40
   },
   "kernels_config": {
    "python": {
     "delete_cmd_postfix": "",
     "delete_cmd_prefix": "del ",
     "library": "var_list.py",
     "varRefreshCmd": "print(var_dic_list())"
    },
    "r": {
     "delete_cmd_postfix": ") ",
     "delete_cmd_prefix": "rm(",
     "library": "var_list.r",
     "varRefreshCmd": "cat(var_dic_list()) "
    }
   },
   "types_to_exclude": [
    "module",
    "function",
    "builtin_function_or_method",
    "instance",
    "_Feature"
   ],
   "window_display": false
  }
 },
 "nbformat": 4,
 "nbformat_minor": 2
}
