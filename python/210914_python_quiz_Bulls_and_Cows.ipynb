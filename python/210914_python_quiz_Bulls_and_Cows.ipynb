{
 "cells": [
  {
   "cell_type": "markdown",
   "metadata": {},
   "source": [
    "#### 1. 퍼즐 스트라이크\n",
    "- 0~9 까지의 숫자 세개를 랜덤으로 생성\n",
    "- 랜덤으로 생성된 숫자는 중복되면 안됨\n",
    "- 세개의 숫자를 입력받아 랜덤으로 생성된 세개의 숫자를 맞추는 게임\n",
    "- 세개의 숫자를 맞출때까지 계속 숫자를 입력받음\n",
    "- 세개의 숫자중에 자릿수와 숫자가 맞으면 strike\n",
    "- 세개의 숫자중에 숫자는 맞지만 자리수가 안 맞으면 ball\n",
    "- 아무것도 안 맞으면 out\n",
    "- 모두 맞추면 입력한 횟수를 출력하고 반복문 종료\n",
    "\n",
    "- 예시\n",
    "    - 랜덤한 숫자 : 6 2 8\n",
    "    - 입력 1 : 3 7 6\n",
    "        - 출력 : 0S 1B\n",
    "        - 설명 : 숫자 6이 있지만 자릿수가 틀림\n",
    "    - 입력 2 : 7 3 9\n",
    "        - 출력 : OUT\n",
    "        - 설명 : 입력한 모든 숫자가 없으므로 out\n",
    "    - 입력 3 : 6 8 2\n",
    "        - 출력 : 1S 2B \n",
    "        - 설명 : 숫자 6은 자릿수까지 맞으므로 1 strike\n",
    "        - 설명 : 숫자 8, 2는 자릿수가 틀리므로 2 ball\n",
    "    - 입력 4 : 6 2 8\n",
    "        - 출력 : 3S\n",
    "        - 설명 : 입력한 모든 숫자의 숫자와 자릿수가 맞으므로 3 strike"
   ]
  },
  {
   "cell_type": "markdown",
   "metadata": {},
   "source": [
    "<p style=\"text-align:center;\">랜덤한 숫자 : 6, 2, 8<p>\n",
    "\n",
    "|횟수|숫자1|숫자2|숫자3| 판정 |\n",
    "|----|-----|-----|-----|------|\n",
    "|  1 |  3  |  7  |  6  | 0S 1B| \n",
    "|  2 |  7  |  3  |  9  |  OUT | \n",
    "|  3 |  6  |  8  |  2  | 1S 2B| \n",
    "|  4 |  6  |  2  |  8  | 3S 0B| \n",
    "\n"
   ]
  },
  {
   "cell_type": "code",
   "execution_count": 18,
   "metadata": {
    "scrolled": true
   },
   "outputs": [
    {
     "name": "stdout",
     "output_type": "stream",
     "text": [
      "[6, 8, 1]\n",
      "숫자 3개를 입력하세요(띄어쓰기로 구분) : 8 1 9\n",
      "0S 2B\n",
      "숫자 3개를 입력하세요(띄어쓰기로 구분) : 6 8 3\n",
      "2S 0B\n",
      "숫자 3개를 입력하세요(띄어쓰기로 구분) : 4 5 2\n",
      "OUT\n",
      "숫자 3개를 입력하세요(띄어쓰기로 구분) : 6 8 1\n",
      "3S 0B\n",
      "입력횟수 : 4\n"
     ]
    }
   ],
   "source": [
    "import random\n",
    "\n",
    "# TODO"
   ]
  },
  {
   "cell_type": "code",
   "execution_count": 1,
   "metadata": {
    "ExecuteTime": {
     "end_time": "2021-09-14T04:06:45.939121Z",
     "start_time": "2021-09-14T04:06:45.926135Z"
    }
   },
   "outputs": [],
   "source": [
    "# 패키지 불러오기\n",
    "import random\n"
   ]
  },
  {
   "cell_type": "code",
   "execution_count": 96,
   "metadata": {
    "ExecuteTime": {
     "end_time": "2021-09-14T04:54:31.156774Z",
     "start_time": "2021-09-14T04:54:31.137817Z"
    }
   },
   "outputs": [
    {
     "data": {
      "text/plain": [
       "[9, 3, 6]"
      ]
     },
     "execution_count": 96,
     "metadata": {},
     "output_type": "execute_result"
    }
   ],
   "source": [
    "# 0부터 9까지의 숫자 3개를 중복없이 랜덤 생성\n",
    "\n",
    "com_list = []\n",
    "while True:\n",
    "    com_list.append(random.randint(0, 9))\n",
    "    com_list = set(com_list)\n",
    "    if len(com_list) == 3:\n",
    "        com_list = list(com_list)\n",
    "        break\n",
    "    com_list = list(com_list)\n",
    "com_list"
   ]
  },
  {
   "cell_type": "code",
   "execution_count": 115,
   "metadata": {
    "ExecuteTime": {
     "end_time": "2021-09-14T05:05:18.742774Z",
     "start_time": "2021-09-14T05:05:16.814552Z"
    },
    "scrolled": true
   },
   "outputs": [
    {
     "name": "stdout",
     "output_type": "stream",
     "text": [
      "첫 번째 자리의 숫자를 입력하세요: 9\n",
      "두 번째 자리의 숫자를 입력하세요: 9\n",
      "세 번째 자리의 숫자를 입력하세요: 8\n"
     ]
    },
    {
     "data": {
      "text/plain": [
       "[9, 9, 8]"
      ]
     },
     "execution_count": 115,
     "metadata": {},
     "output_type": "execute_result"
    }
   ],
   "source": [
    "# 세개의 숫자를 입력받음\n",
    "\n",
    "player_list = []\n",
    "\n",
    "player_list.append(int(input('첫 번째 자리의 숫자를 입력하세요: ')))\n",
    "player_list.append(int(input('두 번째 자리의 숫자를 입력하세요: ')))\n",
    "player_list.append(int(input('세 번째 자리의 숫자를 입력하세요: ')))\n",
    "\n",
    "player_list"
   ]
  },
  {
   "cell_type": "code",
   "execution_count": 125,
   "metadata": {
    "ExecuteTime": {
     "end_time": "2021-09-14T05:14:16.568790Z",
     "start_time": "2021-09-14T05:14:16.549841Z"
    }
   },
   "outputs": [
    {
     "data": {
      "text/plain": [
       "2"
      ]
     },
     "execution_count": 125,
     "metadata": {},
     "output_type": "execute_result"
    }
   ],
   "source": [
    "player_list.count(player_list[1])"
   ]
  },
  {
   "cell_type": "code",
   "execution_count": 126,
   "metadata": {
    "ExecuteTime": {
     "end_time": "2021-09-14T05:14:18.952890Z",
     "start_time": "2021-09-14T05:14:18.928445Z"
    }
   },
   "outputs": [
    {
     "name": "stdout",
     "output_type": "stream",
     "text": [
      "1S 0B\n"
     ]
    }
   ],
   "source": [
    "# 숫자의 결과를 출력\n",
    "\n",
    "\n",
    "strike = 0\n",
    "ball = 0\n",
    "\n",
    "\n",
    "# 정답\n",
    "if com_list == player_list:\n",
    "    print('정답!')\n",
    "    print('입력횟수: ', tryn)\n",
    "    \n",
    "# 맞추지 못한 경우\n",
    "\n",
    "else:\n",
    "    \n",
    "# 세자리 전부 중복 입력\n",
    "\n",
    "    if player_list[0] == player_list[1] == player_list[2]:\n",
    "        for i in range(3):\n",
    "            if player_list[i] == com_list[i]:\n",
    "                strike = strike + 1\n",
    "\n",
    "        if (strike == 0) & (ball == 0):\n",
    "            print('OUT!!')\n",
    "            \n",
    "        else:\n",
    "            print(f'{strike}S {ball}B')\n",
    "\n",
    "# 세자리 중 일부 숫자 중복 입력\n",
    "    elif (player_list[0] == player_list[1]) | (player_list[1] == player_list[2]) | (player_list[0] == player_list[2]):\n",
    "        for i in range(3):\n",
    "            if player_list[i] == com_list[i]:\n",
    "                strike = strike + 1\n",
    "\n",
    "            elif player_list[i] in com_list:\n",
    "                \n",
    "                if player_list.count(player_list[i]) == 2:\n",
    "                    pass\n",
    "                else:\n",
    "                    ball = 1 + ball\n",
    "                \n",
    "        if (strike == 0) & (ball == 0):\n",
    "            print('OUT!!')\n",
    "            \n",
    "        else:\n",
    "            print(f'{strike}S {ball}B')\n",
    "\n",
    "# 세자리 전부 다른 숫자 입력\n",
    "\n",
    "    else:    \n",
    "        for i in range(3):\n",
    "            if player_list[i] == com_list[i]:\n",
    "                strike = strike + 1\n",
    "\n",
    "            elif player_list[i] in com_list:\n",
    "                ball = 1 + ball\n",
    "                \n",
    "        if (strike == 0) & (ball == 0):\n",
    "            print('OUT!!')\n",
    "            \n",
    "        else:\n",
    "            print(f'{strike}S {ball}B')"
   ]
  },
  {
   "cell_type": "code",
   "execution_count": 129,
   "metadata": {
    "ExecuteTime": {
     "end_time": "2021-09-14T05:23:00.690798Z",
     "start_time": "2021-09-14T05:22:27.725938Z"
    }
   },
   "outputs": [
    {
     "name": "stdout",
     "output_type": "stream",
     "text": [
      "세자리의 숫자를 맞춰 보세요.\n",
      "첫 번째 자리의 숫자를 입력하세요: 1\n",
      "두 번째 자리의 숫자를 입력하세요: 2\n",
      "세 번째 자리의 숫자를 입력하세요: 3\n",
      "[1, 2, 3]\n",
      "1S 0B\n",
      "첫 번째 자리의 숫자를 입력하세요: 1\n",
      "두 번째 자리의 숫자를 입력하세요: 4\n",
      "세 번째 자리의 숫자를 입력하세요: 5\n",
      "[1, 4, 5]\n",
      "OUT!!\n",
      "첫 번째 자리의 숫자를 입력하세요: 6\n",
      "두 번째 자리의 숫자를 입력하세요: 2\n",
      "세 번째 자리의 숫자를 입력하세요: 7\n",
      "[6, 2, 7]\n",
      "OUT!!\n",
      "첫 번째 자리의 숫자를 입력하세요: 8\n",
      "두 번째 자리의 숫자를 입력하세요: 9\n",
      "세 번째 자리의 숫자를 입력하세요: 3\n",
      "[8, 9, 3]\n",
      "1S 1B\n",
      "첫 번째 자리의 숫자를 입력하세요: 0\n",
      "두 번째 자리의 숫자를 입력하세요: 8\n",
      "세 번째 자리의 숫자를 입력하세요: 3\n",
      "[0, 8, 3]\n",
      "정답!\n",
      "입력횟수:  5\n"
     ]
    }
   ],
   "source": [
    "# 합치기\n",
    "\n",
    "com_list = []\n",
    "while True:\n",
    "    com_list.append(random.randint(0, 9))\n",
    "    com_list = set(com_list)\n",
    "    if len(com_list) == 3:\n",
    "        com_list = list(com_list)\n",
    "        break\n",
    "    com_list = list(com_list)\n",
    "print('세자리의 숫자를 맞춰 보세요.')\n",
    "tryn = 1\n",
    "\n",
    "while True:\n",
    "    player_list = []\n",
    "\n",
    "    player_list.append(int(input('첫 번째 자리의 숫자를 입력하세요: ')))\n",
    "    player_list.append(int(input('두 번째 자리의 숫자를 입력하세요: ')))\n",
    "    player_list.append(int(input('세 번째 자리의 숫자를 입력하세요: ')))\n",
    "    print(player_list)\n",
    "\n",
    "    strike = 0\n",
    "    ball = 0\n",
    "\n",
    "    if com_list == player_list:\n",
    "        print('정답!')\n",
    "        print('입력횟수: ', tryn)\n",
    "        break\n",
    "    else:\n",
    "        if player_list[0] == player_list[1] == player_list[2]:\n",
    "            for i in range(3):\n",
    "                if player_list[i] == com_list[i]:\n",
    "                    strike = strike + 1\n",
    "\n",
    "            if (strike == 0) & (ball == 0):\n",
    "                print('OUT!!')\n",
    "\n",
    "            else:\n",
    "                print(f'{strike}S {ball}B')\n",
    "\n",
    "        elif (player_list[0] == player_list[1]) | (player_list[1] == player_list[2]) | (player_list[0] == player_list[2]):\n",
    "            for i in range(3):\n",
    "                if player_list[i] == com_list[i]:\n",
    "                    strike = strike + 1\n",
    "\n",
    "                elif player_list[i] in com_list:\n",
    "\n",
    "                    if player_list.count(player_list[i]) == 2:\n",
    "                        pass\n",
    "                    else:\n",
    "                        ball = 1 + ball\n",
    "\n",
    "            if (strike == 0) & (ball == 0):\n",
    "                print('OUT!!')\n",
    "\n",
    "            else:\n",
    "                print(f'{strike}S {ball}B')\n",
    "\n",
    "        else:    \n",
    "            for i in range(3):\n",
    "                if player_list[i] == com_list[i]:\n",
    "                    strike = strike + 1\n",
    "\n",
    "                elif player_list[i] in com_list:\n",
    "                    ball = 1 + ball\n",
    "\n",
    "            if (strike == 0) & (ball == 0):\n",
    "                print('OUT!!')\n",
    "\n",
    "            else:\n",
    "                print(f'{strike}S {ball}B')\n",
    "\n",
    "    tryn = 1 + tryn"
   ]
  }
 ],
 "metadata": {
  "kernelspec": {
   "display_name": "Python 3",
   "language": "python",
   "name": "python3"
  },
  "language_info": {
   "codemirror_mode": {
    "name": "ipython",
    "version": 3
   },
   "file_extension": ".py",
   "mimetype": "text/x-python",
   "name": "python",
   "nbconvert_exporter": "python",
   "pygments_lexer": "ipython3",
   "version": "3.8.8"
  },
  "toc": {
   "base_numbering": 1,
   "nav_menu": {},
   "number_sections": true,
   "sideBar": true,
   "skip_h1_title": false,
   "title_cell": "Table of Contents",
   "title_sidebar": "Contents",
   "toc_cell": false,
   "toc_position": {},
   "toc_section_display": true,
   "toc_window_display": false
  },
  "varInspector": {
   "cols": {
    "lenName": 16,
    "lenType": 16,
    "lenVar": 40
   },
   "kernels_config": {
    "python": {
     "delete_cmd_postfix": "",
     "delete_cmd_prefix": "del ",
     "library": "var_list.py",
     "varRefreshCmd": "print(var_dic_list())"
    },
    "r": {
     "delete_cmd_postfix": ") ",
     "delete_cmd_prefix": "rm(",
     "library": "var_list.r",
     "varRefreshCmd": "cat(var_dic_list()) "
    }
   },
   "types_to_exclude": [
    "module",
    "function",
    "builtin_function_or_method",
    "instance",
    "_Feature"
   ],
   "window_display": false
  }
 },
 "nbformat": 4,
 "nbformat_minor": 4
}
