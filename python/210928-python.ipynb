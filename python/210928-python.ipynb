{
 "cells": [
  {
   "cell_type": "markdown",
   "id": "1efd3406",
   "metadata": {},
   "source": [
    "# 210928 TIL"
   ]
  },
  {
   "cell_type": "markdown",
   "id": "5a4e2a51",
   "metadata": {},
   "source": [
    "## 오늘 배운 것\n",
    "\n",
    "### selenium\n",
    "#### 웹 어플리케이션 테스트를 위한 프레임워크\n",
    "#### 다양한 브라우저 작동을 지원하며 크롤링에 활용 가능"
   ]
  },
  {
   "cell_type": "markdown",
   "id": "75021b23",
   "metadata": {},
   "source": [
    "### 브라우저 컨트롤\n",
    "- `driver = webdriver.Chrome('./chromedriver.exe')` 크롬창 열기 \n",
    "\n",
    "- `driver.get(url)` 설정한 url로 데이터 get함수로 요청, 해당 사이트로 이동\n",
    "\n",
    "- `driver.find_element_by_xpath('xpath value').send_keys(key_word)` xpath값으로 해당 경로에 값 입력\n",
    "\n",
    "- `driver.find_element_by_xpath('xpath value').click()` xpath값에 해당하는 버튼 클릭"
   ]
  },
  {
   "cell_type": "markdown",
   "id": "4767519c",
   "metadata": {},
   "source": [
    "### 인스타그램 게시글 날짜, 좋아요, 해시태그 크롤링"
   ]
  },
  {
   "cell_type": "code",
   "execution_count": null,
   "id": "45a6e490",
   "metadata": {},
   "outputs": [],
   "source": [
    "# 패키지 로드\n",
    "import pandas as pd\n",
    "import time\n",
    "from bs4 import BeautifulSoup\n",
    "from selenium import webdriver\n",
    "from selenium.webdriver.common.keys import Keys\n",
    "from selenium.common.exceptions import NoSuchElementException"
   ]
  },
  {
   "cell_type": "code",
   "execution_count": null,
   "id": "2be11b1a",
   "metadata": {},
   "outputs": [],
   "source": [
    "# 크롤링 데이터를 저장할 리스트 생성\n",
    "datetime = []\n",
    "like = []\n",
    "tag = []\n",
    "\n",
    "# 크롬드라이버 실행 후 최대화\n",
    "\n",
    "driver = webdriver.Chrome('./chromedriver.exe')\n",
    "driver.implicitly_wait(10)\n",
    "driver.maximize_window()\n",
    "time.sleep(1)\n",
    "\n",
    "\n",
    "# 인스타그램 페이지로 이동\n",
    "\n",
    "url = 'https://www.instagram.com/?hl=ko'\n",
    "driver.get(url)\n",
    "driver.implicitly_wait(10)\n",
    "\n",
    "# 로그인\n",
    "\n",
    "iid = input('아이디, 또는 이메일을 입력하세요')\n",
    "ipw = input('비밀번호를 입력하세요')\n",
    "\n",
    "driver.find_element_by_xpath('//*[@id=\"loginForm\"]/div/div[1]/div/label/input').send_keys(iid)\n",
    "time.sleep(0.5)\n",
    "\n",
    "driver.find_element_by_xpath('//*[@id=\"loginForm\"]/div/div[2]/div/label/input').send_keys(ipw)\n",
    "time.sleep(0.5)\n",
    "\n",
    "driver.find_element_by_xpath('//*[@id=\"loginForm\"]/div/div[3]/button/div').click()\n",
    "driver.implicitly_wait(10)\n",
    "time.sleep(0.5)\n",
    "\n",
    "# 알람 넘어가기\n",
    "\n",
    "driver.find_element_by_xpath('//*[@id=\"react-root\"]/section/main/div/div/div/div/button').click()\n",
    "driver.implicitly_wait(10)\n",
    "time.sleep(0.5)\n",
    "\n",
    "try:\n",
    "    driver.find_element_by_xpath('/html/body/div[5]/div/div/div/div[3]/button[2]').click()\n",
    "except NoSuchElementException:\n",
    "    driver.find_element_by_xpath('/html/body/div[6]/div/div/div/div[3]/button[2]').click()\n",
    "\n",
    "# 키워드로 검색\n",
    "keyword = input('검색할 키워드를 입력하세요: ')\n",
    "driver.find_element_by_xpath('//*[@id=\"react-root\"]/section/nav/div[2]/div/div/div[2]/input').send_keys(f'#{keyword}')\n",
    "time.sleep(3)\n",
    "driver.find_element_by_xpath('//*[@id=\"react-root\"]/section/nav/div[2]/div/div/div[2]/div[3]/div/div[2]/div/div[1]/a/div').click()\n",
    "time.sleep(5)\n",
    "\n",
    "\n",
    "# 해당 키워드로 검색한 50개 포스팅의 작성일자, 좋아요 수, 태그 크롤링 하기\n",
    "driver.find_element_by_xpath('//*[@id=\"react-root\"]/section/main/article/div[1]/div/div/div[1]/div[1]/a/div[1]').click()\n",
    "time.sleep(1)\n",
    "print('1번째 게시물 크롤링')\n",
    "html = BeautifulSoup(driver.page_source, 'html.parser')\n",
    "\n",
    "datetime.append(html.select('time')[0]['title']) # 시간\n",
    "\n",
    "like.append(html.select('a.zV_Nj')[0].text) # 좋아요\n",
    "\n",
    "hashtag = []\n",
    "for i in html.select('a.xil3i'): # 태그\n",
    "    hashtag.append(i.text)\n",
    "tag.append(hashtag)\n",
    "\n",
    "driver.find_element_by_xpath('/html/body/div[6]/div[1]/div/div/a[1]').click()\n",
    "time.sleep(3)\n",
    "\n",
    "# 나머지 반복\n",
    "for i in range(49):\n",
    "    print(f'{i+2}번째 게시물 크롤링')\n",
    "    html = BeautifulSoup(driver.page_source, 'html.parser')\n",
    "    hashtag = []\n",
    "    datetime.append(html.select('time')[0]['title'])\n",
    "\n",
    "    try:\n",
    "        like.append(html.select('a.zV_Nj')[0].text)\n",
    "    except IndexError:\n",
    "        like.append('좋아요 0개')\n",
    "\n",
    "    for h in html.select('a.xil3i'):\n",
    "        hashtag.append(h.text)\n",
    "    tag.append(hashtag)\n",
    "    driver.find_element_by_xpath('/html/body/div[6]/div[1]/div/div/a[2]').click()\n",
    "    time.sleep(4)\n"
   ]
  },
  {
   "cell_type": "code",
   "execution_count": null,
   "id": "66b05c2a",
   "metadata": {},
   "outputs": [],
   "source": [
    "# 데이터프레임 생성\n",
    "df = pd.DataFrame({'date' : datetime,\n",
    "                 'like' : like,\n",
    "                  'hashtag' : tag})\n",
    "\n",
    "df"
   ]
  },
  {
   "cell_type": "code",
   "execution_count": null,
   "id": "c0c0601c",
   "metadata": {},
   "outputs": [],
   "source": [
    "# csv로 내보내기\n",
    "df.to_csv(\"title.csv\", index=False, encoding=\"utf-8-sig\")"
   ]
  }
 ],
 "metadata": {
  "kernelspec": {
   "display_name": "Python 3",
   "language": "python",
   "name": "python3"
  },
  "language_info": {
   "codemirror_mode": {
    "name": "ipython",
    "version": 3
   },
   "file_extension": ".py",
   "mimetype": "text/x-python",
   "name": "python",
   "nbconvert_exporter": "python",
   "pygments_lexer": "ipython3",
   "version": "3.8.8"
  }
 },
 "nbformat": 4,
 "nbformat_minor": 5
}
