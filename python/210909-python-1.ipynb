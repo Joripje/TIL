{
 "cells": [
  {
   "cell_type": "markdown",
   "metadata": {},
   "source": [
    "# 흐름제어문(controlflow)\n",
    "> - 데이터 혹은 사용자가 설정한 조건에 따라 코드의 작동 및 프로그램이 제어 되도록 하는 구문  \n",
    ">> - 판별문, 조건문 또는 분기라고 부름 **`if`**, **`elif`**, **`else`**  \n",
    ">> - 반복문, 무한반복문 **`for`**, **`while`**\n",
    ">> - 예외처리 **`break`**, **`try`**, **`except`**, **`continue`**\n",
    "    \n",
    "# 흐름제어문의 구성\n",
    "> 흐름제어문을 구분하기 위해 indentation block(들여쓰기) 4칸, 혹은 tab을 사용한다.  \n",
    "타 언어의 **`{`** **`{`** **`}`** **`}`** 구분 대신 사용하기에 때문에 들여쓰기가 굉장히 중요하다\n",
    ">> - 순차 : 위에서부터 아래 방향으로 코드가 순서대로 실행된다.  \n",
    ">> - 분기 : 판별문  \n",
    ">> - 반복 : **`while`**, **`for`** 혹은 함수, 클래스  "
   ]
  },
  {
   "cell_type": "markdown",
   "metadata": {},
   "source": [
    "## if, elif, else\n",
    "> - 코드의 무조건 적인 실행이 아닌 사용자의 조건에 맞을 경우에만 코드가 실행되는 구조  \n",
    "- 같은 프로그램 내 다양한 경우의 수가 있을 경우 사용  \n",
    "- 코드의 흐름을 나누는 분기  "
   ]
  },
  {
   "cell_type": "markdown",
   "metadata": {},
   "source": [
    "### if 구문의 구조"
   ]
  },
  {
   "cell_type": "markdown",
   "metadata": {},
   "source": [
    "> **`if` `조건식` `:`** # 만약 ~ 라면 : if는 하나의 if문에서 딱 1번 나올 수 있다.  \n",
    ">>**`실행코드`**  # if 조건이 만족했을 경우 실행되는 코드\n",
    "\n",
    "> **`elif` `조건식` `:`** # 그게 아니라 ~ 라면 : 0 ~ 무제한 등장  \n",
    ">>**`실행코드`**  # elif 조건이 만족했을 경우 실행되는 코드\n",
    "\n",
    ">**`else` `:`** # 위의 조건이 전부 아니라면 : 0 ~ 1번 등장  \n",
    ">>**`실행코드`**  # 위의 모든 조건이 만족하지 않으면 실행되는 코드\n",
    "\n",
    "> 조건식 혹은 명제 - 참, 거짓을 판별할 수 있는 문장\n",
    "- 코드 실행의 결과가 `True`, `False`\n",
    "- `True`, `False`를 직접 사용가능하며 필요에 따라 조건연산을 사용한다.\n",
    ">> - a >= b\n",
    ">> - a <= b\n",
    ">> - a in b\n",
    ">> - a is b 등등"
   ]
  },
  {
   "cell_type": "markdown",
   "metadata": {},
   "source": [
    "### 간단한 if 구문"
   ]
  },
  {
   "cell_type": "code",
   "execution_count": null,
   "metadata": {
    "ExecuteTime": {
     "end_time": "2021-09-09T08:50:54.603586Z",
     "start_time": "2021-09-09T08:50:54.585632Z"
    }
   },
   "outputs": [],
   "source": [
    "# 조건을 True, False\n",
    "# 조건이 참이면\n",
    "if False:\n",
    "    print('참입니다.')\n",
    "elif False:\n",
    "    print('거짓')\n",
    "else:\n",
    "    print('else 실행')\n",
    "# if 키워드 아래 블럭 하나 안쪽의 코드가 실행\n",
    "\n",
    "# 위의 조건에 걸러지지 않았다면 조건이 거짓이라면\n",
    "\n",
    "# 아래 코드가 실행\n"
   ]
  },
  {
   "cell_type": "code",
   "execution_count": null,
   "metadata": {
    "ExecuteTime": {
     "end_time": "2021-09-09T08:50:54.997689Z",
     "start_time": "2021-09-09T08:50:54.992694Z"
    }
   },
   "outputs": [],
   "source": [
    "# 조건식을 사용\n",
    "# 4가 3보다 크다면(조건연산) 참이면\n",
    "if 10 > 100:\n",
    "    print('참1입니다.')\n",
    "elif 10 == 8:\n",
    "    print('참2입니다')\n",
    "else:\n",
    "    print('else 실행')\n",
    "# 해당 코드가 실행\n"
   ]
  },
  {
   "cell_type": "code",
   "execution_count": null,
   "metadata": {
    "ExecuteTime": {
     "end_time": "2021-09-09T08:50:55.501002Z",
     "start_time": "2021-09-09T08:50:55.487447Z"
    }
   },
   "outputs": [],
   "source": [
    "# 변수와 elif 조건식을 사용\n"
   ]
  },
  {
   "cell_type": "markdown",
   "metadata": {},
   "source": [
    "### 제어문의 흐름을 파악해보기"
   ]
  },
  {
   "cell_type": "code",
   "execution_count": null,
   "metadata": {
    "ExecuteTime": {
     "end_time": "2021-09-09T08:50:56.581588Z",
     "start_time": "2021-09-09T08:50:56.565698Z"
    }
   },
   "outputs": [],
   "source": [
    "# 코드의 실행 결과는 무엇이 출력될까요?\n",
    "\n",
    "print(1) #실행\n",
    "if True:\n",
    "    print(2) #실행\n",
    "    if False:\n",
    "        print(3)\n",
    "        print(4)\n",
    "    elif True:\n",
    "        print(5) #실행\n",
    "        if True:\n",
    "            print(6) #실행\n",
    "            print(7) #실행\n",
    "            if False:\n",
    "                print(8)\n",
    "            elif True:\n",
    "                print(9) #실행\n",
    "    else:\n",
    "        print(10)\n",
    "    if True:\n",
    "        print(11)\n",
    "    print(12) #실행\n",
    "print(13) #실행"
   ]
  },
  {
   "cell_type": "markdown",
   "metadata": {},
   "source": [
    "### 연습문제\n",
    "> 1. 간단한 스무고개 게임을 만들어봅시다.  \n",
    "컴퓨터와 플레이어를 변수로 만들고 두 값을 비교하여 업/다운/정답을 출력하는 프로그램을 만들어보겠습니다.\n",
    "\n",
    "> 2. 지난시간 우리는 변수와 데이터의 타입에 대해서 배웠습니다.  \n",
    "이번에는 방금 학습한 input함수를 사용하여 사용자로부터 키, 몸무게를 입력받아 변수에 저장하고  \n",
    "변수를 사용하여 bmi를 계산 후 아래 조건식에 따라 사용자의 체형을 출력해주는 프로그램을 작성해보겠습니다.  \n",
    ">>bmi = 체중(kg) / 키(m)^2  \n",
    "20 미만 - 저체중  \n",
    "20 ~ 24미만 - 표준체중  \n",
    "24 ~ 30미만 - 과체중  \n",
    "30 이상 - 비만  "
   ]
  },
  {
   "cell_type": "code",
   "execution_count": null,
   "metadata": {
    "ExecuteTime": {
     "end_time": "2021-09-09T08:50:57.738532Z",
     "start_time": "2021-09-09T08:50:57.338799Z"
    }
   },
   "outputs": [],
   "source": [
    "# 연습문제\n",
    "# 컴퓨터에 저장할 값을 사용자에게 입력받고, 플레이어에 저장할 숫자도 사용자에게 입력받기\n",
    "com = int(input('컴퓨터에 저장할 값을 입력하세요: '))\n",
    "player = int(input('플레이어에 저장할 값을 입력하세요: '))\n",
    "# 비교 후 각 결과에 따라서 출력결과를 출력\n",
    "\n",
    "if com > player:\n",
    "    print('업')\n",
    "elif com < player:\n",
    "    print('다운')\n",
    "else:\n",
    "    print('정답')"
   ]
  },
  {
   "cell_type": "code",
   "execution_count": null,
   "metadata": {
    "ExecuteTime": {
     "end_time": "2021-09-06T07:44:16.365793Z",
     "start_time": "2021-09-06T07:44:12.157309Z"
    }
   },
   "outputs": [],
   "source": [
    "weight = int(input('몸무게(kg)를 입력하세요: '))\n",
    "height = int(input('키(cm)를 입력하세요: '))\n",
    "bmi = round(weight / ((height/100) ** 2), 2)\n",
    "print(bmi)\n",
    "\n",
    "if bmi >= 30:\n",
    "    print('비만')\n",
    "elif bmi < 30 and bmi >=24:\n",
    "    print('과체중')\n",
    "elif bmi < 24 and bmi >=20:\n",
    "    print('표준체중')\n",
    "else:\n",
    "    print('저체중')"
   ]
  },
  {
   "cell_type": "markdown",
   "metadata": {},
   "source": [
    "## for, break\n",
    "> - 코드의 반복적인 실행을 위한 구문  \n",
    "- 반복실행해야 하는 범위가 있을 때 사용  \n",
    "- 보통은 데이터의 갯수 혹은 분석하고자 하는 데이터의 범위 내에서 반복작업을 할 때 사용  \n",
    "- **`if`** 문과 함께 주로 사용되는 제어구문  "
   ]
  },
  {
   "cell_type": "code",
   "execution_count": null,
   "metadata": {},
   "outputs": [],
   "source": [
    "# 단순반복 작업을 효율적으로... 4개는 손으로 해도 10개 100개는 어떻게?\n",
    "print(1)\n",
    "print(2)\n",
    "print(3)\n",
    "print(4)"
   ]
  },
  {
   "cell_type": "markdown",
   "metadata": {},
   "source": [
    "### for 문의 구조\n",
    ">**`for` `반복자` in `반복범위` `:`**  # 반복범위 안에서 반복자가 정의되며\n",
    ">>**`실행코드`** # 코드가 실행된다.\n",
    "    \n",
    "> - 반복자 : 구간(범위)를 순환하며 정의되는 변수  \n",
    "- 반복범위 : **`list`** 등 순서가 존재하는 자료구조  \n",
    "관례적으로 심플한 반복자는 **`_`**(반복자를 작업에 사용하지 않을경우) 혹은 영문자 **`i`**(iterator)를 사용한다.  \n",
    "혹은 **`range()`** 명령어로 혹은 반복작업 횟수로 설정 가능  \n",
    "    \n",
    ">**`range()`** 명령어  \n",
    "**`range(횟수)`** 횟수만큼의 범위 생성  \n",
    "**`range(x, y, z)`** x 부터 y-1 까지 z스텝 범위를 만들어주는 함수  "
   ]
  },
  {
   "cell_type": "code",
   "execution_count": null,
   "metadata": {
    "ExecuteTime": {
     "end_time": "2021-09-06T07:53:01.192739Z",
     "start_time": "2021-09-06T07:53:01.181722Z"
    }
   },
   "outputs": [],
   "source": [
    "# 기본적인 for 구문 i(iterator 변수로서 사용 가능)\n",
    "for i in range(5):\n",
    "    print('반복중입니다.')\n",
    "    # 0 ~ 4까지 범위에서 i를 정의하며 반복한다.\n",
    "    # range() 명령어는 0부터 시작 5 전까지 구간을 생성\n",
    "    # 간단하게 5번 반복한다고 생각해도 무방합니다.\n"
   ]
  },
  {
   "cell_type": "code",
   "execution_count": null,
   "metadata": {
    "ExecuteTime": {
     "end_time": "2021-09-06T08:08:41.815511Z",
     "start_time": "2021-09-06T08:08:41.801230Z"
    }
   },
   "outputs": [],
   "source": [
    "# 반복자 이터레이터 i를 조금 더 이해해보겠습니다.\n",
    "# 필요없을 것 같은 이 i라는 친구가 굉장히 유용합니다.\n",
    "for i in range(5):\n",
    "    print(i)\n",
    "# for 반복문을 수행하면서 i 값이 변화하고 반복문 내 변수로도 사용 가능합니다."
   ]
  },
  {
   "cell_type": "code",
   "execution_count": null,
   "metadata": {
    "ExecuteTime": {
     "end_time": "2021-09-06T08:11:21.872998Z",
     "start_time": "2021-09-06T08:11:21.860481Z"
    }
   },
   "outputs": [],
   "source": [
    "# range 함수의 조건 추가\n",
    "# 0부터 19까지 5의 배수만을 출력\n",
    "for i in range(20, -1, -4):\n",
    "    print(i)"
   ]
  },
  {
   "cell_type": "code",
   "execution_count": null,
   "metadata": {
    "ExecuteTime": {
     "end_time": "2021-09-06T08:22:06.101747Z",
     "start_time": "2021-09-06T08:22:06.089160Z"
    }
   },
   "outputs": [],
   "source": [
    "# for문의 중첩\n",
    "for i in range(1, 6):\n",
    "#    print(i)\n",
    "    for j in range(0, 3):\n",
    "        print (i, j)"
   ]
  },
  {
   "cell_type": "markdown",
   "metadata": {},
   "source": [
    "### 연습문제"
   ]
  },
  {
   "cell_type": "code",
   "execution_count": null,
   "metadata": {
    "ExecuteTime": {
     "end_time": "2021-09-06T08:36:29.911877Z",
     "start_time": "2021-09-06T08:36:29.893958Z"
    }
   },
   "outputs": [],
   "source": [
    "# for 문으로 range() 명령어만을 사용하여 구구단 구단을 출력해봅시다.\n",
    "for i in range(2, 10):\n",
    "    if i == 8:    #7단까지 출력\n",
    "        break\n",
    "    print(i,'단')\n",
    "    for j in range(1, 10):\n",
    "#        print(i, 'X', j, '=', i * j)\n",
    "        print(f'{i} X {j} = {i * j}')\n",
    "        "
   ]
  },
  {
   "cell_type": "markdown",
   "metadata": {},
   "source": [
    "### break 구문\n",
    "    반복 작업 중 작업을 종료해야 할 때 사용"
   ]
  },
  {
   "cell_type": "code",
   "execution_count": null,
   "metadata": {
    "ExecuteTime": {
     "end_time": "2021-09-09T00:11:18.547197Z",
     "start_time": "2021-09-09T00:11:18.531247Z"
    }
   },
   "outputs": [],
   "source": [
    "# 반복을 진행하다가 멈추고 싶다\n",
    "# 10번 반복\n",
    "sum_1000 = 0\n",
    "for i in range(1001):\n",
    "    sum_1000 = sum_1000 + i\n",
    "print(sum_1000)\n",
    "# if문으로 조건식 생성\n",
    "sum_i = 0\n",
    "for i in range(300):\n",
    "    sum_i = sum_i + i\n",
    "    if sum_i >= 300:\n",
    "        print(i)\n",
    "        print(sum_i)\n",
    "        break\n"
   ]
  },
  {
   "cell_type": "markdown",
   "metadata": {},
   "source": [
    "### 자료구조를 순환하는 for문의 활용(매우 중요)"
   ]
  },
  {
   "cell_type": "code",
   "execution_count": null,
   "metadata": {
    "ExecuteTime": {
     "end_time": "2021-09-09T00:16:15.191635Z",
     "start_time": "2021-09-09T00:16:15.180640Z"
    }
   },
   "outputs": [],
   "source": [
    "# 횟수뿐 아니라 구간이 정해져 있는 데이터를 순환하면서도 작업가능\n",
    "# 실제 분석에서도 가장 많이 사용하는 형태가 됩니다.\n",
    "test_list = [1, 2, 3, 4, 5, 6, 7, 8, 9]\n",
    "# test_list 내부를 순환하면서 i를 정의\n",
    "for item in test_list:\n",
    "    print(item * 10)"
   ]
  },
  {
   "cell_type": "code",
   "execution_count": null,
   "metadata": {
    "ExecuteTime": {
     "end_time": "2021-09-09T00:23:28.001259Z",
     "start_time": "2021-09-09T00:23:27.978584Z"
    }
   },
   "outputs": [],
   "source": [
    "# 횟수뿐 아니라 구간이 정해져 있는 데이터를 순환하면서도 인덱스 넘버도 순환 작업가능\n",
    "test_list = ['서울', '용산구', '해방촌', '르카페', '재즈', '치즈', '요리']\n",
    "# enumerate() 함수안의 자료구조의 인덱스와 함께 루프\n",
    "for index, item in enumerate(test_list):\n",
    "    print(index, item)\n",
    "    if index == 4:\n",
    "        test_list[index] = '시티팝'\n",
    "test_list\n"
   ]
  },
  {
   "cell_type": "code",
   "execution_count": null,
   "metadata": {
    "ExecuteTime": {
     "end_time": "2021-09-09T00:28:00.825274Z",
     "start_time": "2021-09-09T00:28:00.809485Z"
    }
   },
   "outputs": [],
   "source": [
    "# 횟수뿐 아니라 구간이 정해져 있는 데이터를 순환하면서도 작업가능\n",
    "test_list1 = ['이름', '사는곳', '사는동네', '좋아하는 카페', '음악', '반려묘', '취미']\n",
    "test_list2 = ['변치웅', '서울 용산구', '해방촌', '르카페', '재즈', '치즈', '요리']\n",
    "test_list3 = [0, 1, 2, 3, 4, 5, 6]\n",
    "test_list4 = [1, 2, 3, 4, 5, 6, 7]\n",
    "for item1, item2, item3, item4 in zip(test_list1, test_list2, test_list3, test_list4):\n",
    "    print(item1, item2, item3, item4)"
   ]
  },
  {
   "cell_type": "code",
   "execution_count": null,
   "metadata": {},
   "outputs": [],
   "source": [
    "# images\n",
    "# -- OK\n",
    "# -- NG\n",
    "\n",
    "for files in images:\n",
    "    if files == OK:\n",
    "        new_file_path = file_pate + 'OK'"
   ]
  },
  {
   "cell_type": "code",
   "execution_count": null,
   "metadata": {
    "ExecuteTime": {
     "end_time": "2021-09-09T00:42:33.534066Z",
     "start_time": "2021-09-09T00:42:33.521069Z"
    }
   },
   "outputs": [],
   "source": [
    "# 폴더구조를 순환하는 for문의 활용\n",
    "\n",
    "#import os\n",
    "#for file_nm in os.listdir():\n",
    "#    print(file_nm)\n",
    "    \n",
    "# 조건문을 활용해서 폴더 내 원하는 확장자면을 가진 파일만 작업\n",
    "for file_nm in os.listdir():\n",
    "    if file_nm[-5:] == 'ipynb':\n",
    "        print(file_nm)"
   ]
  },
  {
   "cell_type": "code",
   "execution_count": null,
   "metadata": {
    "ExecuteTime": {
     "end_time": "2021-09-09T00:41:16.369900Z",
     "start_time": "2021-09-09T00:41:16.353457Z"
    }
   },
   "outputs": [],
   "source": [
    "# 그렇다면 미리 정해진 숫자 혹은 데이터로만 사용이 가능할까?\n",
    "# 생성할 때도 용이함\n",
    "test_list = []\n",
    "for i in range(100):\n",
    "    test_list.append(i)\n",
    "test_list"
   ]
  },
  {
   "cell_type": "code",
   "execution_count": null,
   "metadata": {
    "ExecuteTime": {
     "end_time": "2021-04-05T08:07:13.245239Z",
     "start_time": "2021-04-05T08:07:11.624590Z"
    }
   },
   "outputs": [],
   "source": [
    "# 입력받은 숫자까지 의 합을 계산해주는 코드를 작성해 봅시다.\n"
   ]
  },
  {
   "cell_type": "markdown",
   "metadata": {},
   "source": [
    "### list comprehension 고오급 python 스킬\n",
    "> - controlflow를 활용하여 간단하게 리스트 생성 가능한 파이썬 구문  \n",
    "- 데이터의 특정 부분만을 따로 변수로 사용하고자 할 때 굉장히 많이 사용하는 파이썬 코딩스킬"
   ]
  },
  {
   "cell_type": "code",
   "execution_count": null,
   "metadata": {
    "ExecuteTime": {
     "end_time": "2021-09-09T00:44:45.111580Z",
     "start_time": "2021-09-09T00:44:45.098033Z"
    }
   },
   "outputs": [],
   "source": [
    "# 심플한 리스트 컴프리헨션 구문\n",
    "test_list = [i for i in range(10)]\n",
    "test_list"
   ]
  },
  {
   "cell_type": "code",
   "execution_count": null,
   "metadata": {
    "ExecuteTime": {
     "end_time": "2021-09-09T00:47:54.205369Z",
     "start_time": "2021-09-09T00:47:54.200381Z"
    }
   },
   "outputs": [],
   "source": [
    "# if문이 추가된 리스트 컴프리헨션 구문\n",
    "# if문이 참일 경우에만 i 추가\n",
    "test_list = [i for i in range(10) if i % 2 == 0]\n",
    "test_list"
   ]
  },
  {
   "cell_type": "code",
   "execution_count": null,
   "metadata": {},
   "outputs": [],
   "source": [
    "# if, else문이 추가된 리스트 컴프리헨션 구문(elif 불가)\n",
    "# else가 추가 되면 for문 앞에 if else 구문이 위치\n",
    "test_list = [i if i % 2 == 0 else 10 for i in range(10)]\n",
    "test_list"
   ]
  },
  {
   "cell_type": "code",
   "execution_count": null,
   "metadata": {
    "ExecuteTime": {
     "end_time": "2021-09-09T01:03:10.382083Z",
     "start_time": "2021-09-09T01:03:10.374557Z"
    }
   },
   "outputs": [],
   "source": [
    "# 위 코드를 풀어쓴다면?\n",
    "# 여러줄의 반복문과 조건문을 사용해야하지만 이를 한줄로 커버\n"
   ]
  },
  {
   "cell_type": "markdown",
   "metadata": {},
   "source": [
    "## while\n",
    "> - 코드의 무한 반복적인 실행을 위한 반복문  \n",
    "- 조건식이 참일 경우 실행코드가 무한반복하여 실행 됨  \n",
    "- 보통은 프로그램을 실행 대기상태로 두거나 입력값을 받는 등의 용도로 사용.(데이터 분석 사용빈도 낮음)  "
   ]
  },
  {
   "cell_type": "markdown",
   "metadata": {},
   "source": [
    "### while문의 구조\n",
    ">**`while` `조건식` `:`** # 조건식이 참이라면\n",
    ">>**`실행코드`** # 코드가 무한반복 실행\n",
    "        \n",
    "> `while` 문의 조건식이 참일 경우 무조건 실행되게끔 짜여진 구조.  \n",
    "`while` 문을 사용 할 때에는 반복구문을 어떻게 종료 해야할지 설정해야 함."
   ]
  },
  {
   "cell_type": "code",
   "execution_count": null,
   "metadata": {
    "ExecuteTime": {
     "end_time": "2021-09-09T01:21:19.132115Z",
     "start_time": "2021-09-09T01:21:19.118117Z"
    },
    "scrolled": false
   },
   "outputs": [],
   "source": [
    "# 기본적인 while 구문\n",
    "# for문과는 달리 조건식을 while 구문 바로 뒤에 적어줌\n",
    "# while문의 무한루프를 컨트롤 하기위한 변수 설정하고 조건식을 추가하여 코드실행을 컨트롤\n",
    "a = 0\n",
    "while True:\n",
    "    print('무한 반복 중', a)\n",
    "    a = a + 1\n",
    "    if a > 10:\n",
    "        break\n",
    "# 반복을 진행하다가 멈추고 싶다\n",
    "    #a += 1\n",
    "    #if a > 50:\n",
    "    #    break"
   ]
  },
  {
   "cell_type": "code",
   "execution_count": null,
   "metadata": {
    "ExecuteTime": {
     "end_time": "2021-09-09T01:25:11.850999Z",
     "start_time": "2021-09-09T01:25:11.838950Z"
    }
   },
   "outputs": [],
   "source": [
    "# 1~10까지 출력되도록\n",
    "# while문\n",
    "a = 1\n",
    "while True:\n",
    "    print(a)\n",
    "    a = a + 1\n",
    "    if a > 10:\n",
    "        break"
   ]
  },
  {
   "cell_type": "code",
   "execution_count": null,
   "metadata": {
    "ExecuteTime": {
     "end_time": "2021-09-09T01:27:22.347396Z",
     "start_time": "2021-09-09T01:27:22.334420Z"
    }
   },
   "outputs": [],
   "source": [
    "# 10~1까지 출력되도록\n",
    "# while문\n",
    "a = 10\n",
    "while True:\n",
    "    print(a)\n",
    "    a = a - 1\n",
    "    if a == 0:\n",
    "        break"
   ]
  },
  {
   "cell_type": "code",
   "execution_count": null,
   "metadata": {
    "ExecuteTime": {
     "end_time": "2021-04-05T08:17:10.730255Z",
     "start_time": "2021-04-05T08:17:10.726135Z"
    }
   },
   "outputs": [],
   "source": [
    "# 1~5까지의 합을 구해서 출력\n",
    "# while문\n"
   ]
  },
  {
   "cell_type": "code",
   "execution_count": null,
   "metadata": {
    "ExecuteTime": {
     "end_time": "2021-09-09T01:29:56.758445Z",
     "start_time": "2021-09-09T01:29:56.751461Z"
    }
   },
   "outputs": [],
   "source": [
    "# 1~100까지의 합\n",
    "# while 문\n",
    "a = 1\n",
    "total = 0\n",
    "while True:\n",
    "    total = total + a\n",
    "    a = a + 1\n",
    "    if a == 101:\n",
    "        print(total)\n",
    "        break\n",
    "    "
   ]
  },
  {
   "cell_type": "code",
   "execution_count": null,
   "metadata": {
    "ExecuteTime": {
     "end_time": "2021-04-05T08:17:21.729200Z",
     "start_time": "2021-04-05T08:17:21.725648Z"
    }
   },
   "outputs": [],
   "source": [
    "# for문\n"
   ]
  },
  {
   "cell_type": "code",
   "execution_count": null,
   "metadata": {
    "ExecuteTime": {
     "end_time": "2021-09-09T01:38:47.013813Z",
     "start_time": "2021-09-09T01:38:46.994892Z"
    }
   },
   "outputs": [],
   "source": [
    "# 1~100까지의 정수 중에서 홀수들의 합\n",
    "# while문\n",
    "a = 0\n",
    "total = 0\n",
    "while True:\n",
    "    a = a + 1\n",
    "    if a % 2 == 1:\n",
    "        total = total + a\n",
    "    if a == 100:\n",
    "        print(total)\n",
    "        break"
   ]
  },
  {
   "cell_type": "code",
   "execution_count": null,
   "metadata": {
    "ExecuteTime": {
     "end_time": "2021-04-05T08:18:14.761348Z",
     "start_time": "2021-04-05T08:18:14.757721Z"
    }
   },
   "outputs": [],
   "source": [
    "# for문\n"
   ]
  },
  {
   "cell_type": "code",
   "execution_count": null,
   "metadata": {
    "ExecuteTime": {
     "end_time": "2021-04-05T08:18:38.175746Z",
     "start_time": "2021-04-05T08:18:38.171754Z"
    }
   },
   "outputs": [],
   "source": [
    "# 1~100까지의 정수 중에서 짝수들의 합\n",
    "# while문\n"
   ]
  },
  {
   "cell_type": "code",
   "execution_count": null,
   "metadata": {
    "ExecuteTime": {
     "end_time": "2021-04-05T08:18:38.414017Z",
     "start_time": "2021-04-05T08:18:38.410225Z"
    }
   },
   "outputs": [],
   "source": [
    "# for문\n"
   ]
  },
  {
   "cell_type": "markdown",
   "metadata": {},
   "source": [
    "### 연습문제\n",
    ">간단한 스무고개 게임 업그레이드 버전  \n",
    "컴퓨터가 저장 할 숫자를 사용자에게 입력받아 저장하고, 게이머에게 입력받은 숫자를 판별하여 업, 다운, 정답을 출력.   \n",
    "게임 횟수는 10회이며, 10회 동안 정답을 못 맞출 경우 실패 문구를 출력하도록 프로그램을 만들어 보겠습니다."
   ]
  },
  {
   "cell_type": "code",
   "execution_count": null,
   "metadata": {
    "ExecuteTime": {
     "end_time": "2021-09-09T02:05:47.623535Z",
     "start_time": "2021-09-09T02:05:41.428309Z"
    }
   },
   "outputs": [],
   "source": [
    "# 연습문제 \n",
    "a = 1\n",
    "com = int(input('컴퓨터에 저장할 숫자를 입력하세요: '))\n",
    "\n",
    "while True:\n",
    "    player = int(input('플레이어의 숫자를 입력하세요: '))\n",
    "    if com > player:\n",
    "        print('업')\n",
    "        a = a + 1\n",
    "        if a == 11:\n",
    "            print('실패!')\n",
    "            break\n",
    "    elif com < player:\n",
    "        print('다운')\n",
    "        a = a + 1\n",
    "        if a == 11:\n",
    "            print('실패!')\n",
    "            break\n",
    "    elif com == player:\n",
    "        print('정답!')\n",
    "        break\n"
   ]
  },
  {
   "cell_type": "markdown",
   "metadata": {},
   "source": [
    "### 연습문제\n",
    ">간단한 ATM기 시스템을 만들어보겠습니다.\n",
    "\n",
    ">>사용자로부터 메뉴를 입력받습니다.\n",
    "1. 입금\n",
    "2. 출금\n",
    "3. 잔액확인\n",
    "4. 종료\n",
    "\n",
    ">입력받은 메뉴에 따라 계좌잔액에 입금과 출금을 적용하고 잔액을 출력해봅시다.\n",
    "종료메뉴는 while 문을 빠져나오도록 프로그램을 종료시킵니다."
   ]
  },
  {
   "cell_type": "code",
   "execution_count": null,
   "metadata": {
    "ExecuteTime": {
     "end_time": "2021-09-09T04:23:11.968472Z",
     "start_time": "2021-09-09T04:23:06.527113Z"
    }
   },
   "outputs": [],
   "source": [
    "# 연습문제 \n",
    "balance = 0\n",
    "print('_' * 40)\n",
    "print('어서오세요. 원하시는 메뉴를 선택하세요.')\n",
    "print('_' * 40)\n",
    "print('1. 입금')\n",
    "print('2. 출금')\n",
    "print('3. 잔액확인')\n",
    "print('4. 종료')\n",
    "print('_' * 40)\n",
    "print('SSAC BANK')\n",
    "print('_' * 40)\n",
    "\n",
    "while True:\n",
    "    try:\n",
    "        menu = int(input('원하시는 메뉴를 입력하세요: '))\n",
    "    except ValueError:\n",
    "        menu = int(input('잘못된 입력입니다. 원하시는 메뉴의 숫자를 입력하세요: '))\n",
    "    if menu == 1:\n",
    "        print('1. 입금')\n",
    "        deposit = int(input('입금할 금액을 입력하세요: '))\n",
    "        balance = balance + deposit\n",
    "        print('입금이 완료되었습니다.')\n",
    "        print('계좌 잔액:', balance,'원')\n",
    "    elif menu == 2:\n",
    "        print('2. 출금')\n",
    "        withraw = int(input('출금할 금액을 입력하세요: '))\n",
    "        if balance >= withraw:\n",
    "            balance = balance - withraw\n",
    "            print('출금이 완료되었습니다')\n",
    "            print('계좌 잔액:', balance,'원')\n",
    "        else:\n",
    "            print('잔액이 부족합니다')\n",
    "            print('계좌 잔액:', balance,'원')\n",
    "    elif menu == 3:\n",
    "        print('3. 잔액확인')\n",
    "        print('현재 계좌의 잔액은 ', balance,'원 입니다.')\n",
    "    elif menu == 4:\n",
    "        print('이용해 주셔서 감사합니다.')\n",
    "        break\n",
    "    else:\n",
    "        print('잘못된 입력입니다.')"
   ]
  },
  {
   "cell_type": "markdown",
   "metadata": {},
   "source": [
    "## **try, except(오류처리 혹은 예외처리)**\n",
    ">**`try`**, **`except`** 구문은 오류 발생가능성이 있는 구문을 처리하거나  \n",
    "반드시 오류가 발생하는 구문을 감싸 정상적인 프로그램 흐름이 이어질 수 있도록 처리하는 예외처리 구문입니다.\n",
    "\n",
    ">**`try`** **`:`**  \n",
    ">> **[처리하고 싶은 코드]**\n",
    "\n",
    ">**`except`** **`[오류명]`** **`:`**  \n",
    ">> **[try로 처리하지 못한 작업을 처리하기 위한 코드]**"
   ]
  },
  {
   "cell_type": "code",
   "execution_count": null,
   "metadata": {
    "ExecuteTime": {
     "end_time": "2021-09-09T02:40:52.383273Z",
     "start_time": "2021-09-09T02:40:52.361324Z"
    }
   },
   "outputs": [],
   "source": [
    "# 정의되지 않은 변수 호출\n",
    "name_name"
   ]
  },
  {
   "cell_type": "code",
   "execution_count": null,
   "metadata": {
    "ExecuteTime": {
     "end_time": "2021-04-21T11:58:18.573958Z",
     "start_time": "2021-04-21T11:58:18.567171Z"
    }
   },
   "outputs": [],
   "source": [
    "# 연산이 불가능\n",
    "'hi' / 10"
   ]
  },
  {
   "cell_type": "code",
   "execution_count": null,
   "metadata": {
    "ExecuteTime": {
     "end_time": "2021-04-21T11:58:25.947665Z",
     "start_time": "2021-04-21T11:58:25.941240Z"
    }
   },
   "outputs": [],
   "source": [
    "# 0으로 못나눔\n",
    "0 / 0"
   ]
  },
  {
   "cell_type": "code",
   "execution_count": null,
   "metadata": {
    "ExecuteTime": {
     "end_time": "2021-09-09T02:49:49.956167Z",
     "start_time": "2021-09-09T02:49:49.931080Z"
    }
   },
   "outputs": [],
   "source": [
    "# 인덱스 오류\n",
    "test_list = [1, 2, 3, 4, 5]\n",
    "test_list[5]"
   ]
  },
  {
   "cell_type": "code",
   "execution_count": null,
   "metadata": {},
   "outputs": [],
   "source": [
    "# 여러가지 에러를 발생시키고 이를 예외로 처리하기\n",
    "try:\n",
    "    num_list = []\n",
    "    for i in range(2):\n",
    "        num = input('숫자를 입력하세요 : ') # 문자를 입력하여 에러발생\n",
    "        num = int(num) # 값에러\n",
    "        num_list.append(num)\n",
    "    a = num_list[5] # 인덱스에러발생\n",
    "    b = sum(a) # 타입에러\n",
    "\n",
    "except ValueError:\n",
    "    print('문자가 입력되었습니다. 숫자를 다시 입력해주세요.')\n",
    "\n",
    "except IndexError:\n",
    "    num_list[len(num_list)]"
   ]
  },
  {
   "cell_type": "code",
   "execution_count": null,
   "metadata": {},
   "outputs": [],
   "source": []
  },
  {
   "cell_type": "code",
   "execution_count": null,
   "metadata": {},
   "outputs": [],
   "source": []
  },
  {
   "cell_type": "code",
   "execution_count": null,
   "metadata": {},
   "outputs": [],
   "source": []
  },
  {
   "cell_type": "code",
   "execution_count": null,
   "metadata": {},
   "outputs": [],
   "source": []
  },
  {
   "cell_type": "code",
   "execution_count": null,
   "metadata": {},
   "outputs": [],
   "source": []
  },
  {
   "cell_type": "code",
   "execution_count": null,
   "metadata": {},
   "outputs": [],
   "source": []
  },
  {
   "cell_type": "code",
   "execution_count": null,
   "metadata": {},
   "outputs": [],
   "source": []
  },
  {
   "cell_type": "code",
   "execution_count": null,
   "metadata": {},
   "outputs": [],
   "source": []
  },
  {
   "cell_type": "code",
   "execution_count": null,
   "metadata": {},
   "outputs": [],
   "source": []
  },
  {
   "cell_type": "code",
   "execution_count": null,
   "metadata": {},
   "outputs": [],
   "source": []
  },
  {
   "cell_type": "code",
   "execution_count": null,
   "metadata": {
    "ExecuteTime": {
     "end_time": "2021-04-21T04:17:36.624645Z",
     "start_time": "2021-04-21T04:17:34.606371Z"
    }
   },
   "outputs": [],
   "source": [
    "while True:\n",
    "    name = input('입력 : ')\n",
    "    if not name:\n",
    "        break"
   ]
  },
  {
   "cell_type": "code",
   "execution_count": null,
   "metadata": {},
   "outputs": [],
   "source": [
    "name = input('이름을 입력하세요 : ')\n",
    "height = input('키를 입력하세요 : ')\n",
    "height = float(height) / 100\n",
    "weight = input('몸무게를 입력하세요 : ')\n",
    "weight = float(weight)\n",
    "bmi = weight / (height * height)\n",
    "\n",
    "print(f'{name}님의 bmi 지수는 {bmi}입니다.')\n",
    "if bmi < 20:\n",
    "    print('bmi에 따라 구분한 체중은 저체중입니다.')\n",
    "elif 20 <= bmi < 24:\n",
    "    print('bmi에 따라 구분한 체중은 표준체중입니다.')\n",
    "elif 24 <= bmi < 30:\n",
    "    print('bmi에 따라 구분한 체중은 과체중입니다.')\n",
    "else:\n",
    "    print('bmi에 따라 구분한 체중은 비만입니다.')"
   ]
  },
  {
   "cell_type": "code",
   "execution_count": null,
   "metadata": {},
   "outputs": [],
   "source": [
    "total = 0\n",
    "number = input('합을 계산할 숫자(정수)를 입력해주세요 : ')\n",
    "number = int(number)\n",
    "for i in range(number+1):\n",
    "    total = total + i\n",
    "\n",
    "print(total)"
   ]
  },
  {
   "cell_type": "code",
   "execution_count": null,
   "metadata": {},
   "outputs": [],
   "source": [
    "computer = input('컴퓨터의 저장 숫자를 입력하세요 : ')\n",
    "computer = int(computer)\n",
    "for i in range(10):\n",
    "    gamer = input('컴퓨터의 숫자를 맞춰보세요 : ')\n",
    "    gamer = int(gamer)\n",
    "    if computer > gamer:\n",
    "        print('업')\n",
    "    elif computer < gamer:\n",
    "        print('다운')\n",
    "    elif computer == gamer:\n",
    "        print('정답입니다.')\n",
    "        break\n",
    "if i == 9:\n",
    "    print('실패입니다.')"
   ]
  },
  {
   "cell_type": "code",
   "execution_count": null,
   "metadata": {},
   "outputs": [],
   "source": [
    "for i in range(2, 10):\n",
    "    for j in range(1, 10):\n",
    "        print(f'{i} X {j} = {i*j}')"
   ]
  },
  {
   "cell_type": "code",
   "execution_count": null,
   "metadata": {},
   "outputs": [],
   "source": [
    "while True:\n",
    "    computer = input('컴퓨터의 저장 숫자를 입력하세요 : ')\n",
    "    computer = int(computer)\n",
    "    for i in range(10):\n",
    "        gamer = input('컴퓨터의 숫자를 맞춰보세요 : ')\n",
    "        gamer = int(gamer)\n",
    "        if computer > gamer:\n",
    "            print('업')\n",
    "        elif computer < gamer:\n",
    "            print('다운')\n",
    "        elif computer == gamer:\n",
    "            print('정답입니다.')\n",
    "            break\n",
    "    if i == 9:\n",
    "        print('실패입니다.')"
   ]
  },
  {
   "cell_type": "code",
   "execution_count": null,
   "metadata": {
    "ExecuteTime": {
     "end_time": "2021-04-22T02:04:54.559176Z",
     "start_time": "2021-04-22T02:04:54.552843Z"
    }
   },
   "outputs": [],
   "source": [
    "def atm():\n",
    "    balance = 0\n",
    "    while True:\n",
    "\n",
    "        print()\n",
    "        print('어서오세요 fitror 뱅크입니다.')\n",
    "        print('원하시는 서비스 메뉴를 선택해주세요.')\n",
    "        print('---------------------------')\n",
    "        print('1. 입금')\n",
    "        print('2. 출금')\n",
    "        print('3. 잔액확인')\n",
    "        print('4. 종료')\n",
    "        print('---------------------------')\n",
    "        print()\n",
    "\n",
    "        menu = input('메뉴를 입력해주세요 : ')\n",
    "        menu = int(menu)\n",
    "        if menu == 1:\n",
    "            saving = input('입금하실 금액을 입력해주세요 : ')\n",
    "            saving = int(saving)\n",
    "            balance = balance + saving\n",
    "        elif menu == 2:\n",
    "            withdrow = input('출금하실 금액을 입력해주세요 : ')\n",
    "            withdrow = int(withdrow)\n",
    "            balance = balance - withdrow\n",
    "        elif menu == 3:\n",
    "            print(f'계좌 잔액은 {balance}원 입니다.')\n",
    "        elif menu == 4:\n",
    "            print()\n",
    "            print('이용해주셔서 감사합니다.')\n",
    "            print()\n",
    "            break\n",
    "        else:\n",
    "            print('메뉴입력이 잘못 되었습니다. 메뉴를 다시 선택해주세요.')"
   ]
  },
  {
   "cell_type": "code",
   "execution_count": null,
   "metadata": {},
   "outputs": [],
   "source": [
    "try:\n",
    "    atm()\n",
    "except (ValueError, IndexError):\n",
    "    pass"
   ]
  }
 ],
 "metadata": {
  "kernelspec": {
   "display_name": "Python 3",
   "language": "python",
   "name": "python3"
  },
  "language_info": {
   "codemirror_mode": {
    "name": "ipython",
    "version": 3
   },
   "file_extension": ".py",
   "mimetype": "text/x-python",
   "name": "python",
   "nbconvert_exporter": "python",
   "pygments_lexer": "ipython3",
   "version": "3.8.8"
  },
  "toc": {
   "base_numbering": 1,
   "nav_menu": {},
   "number_sections": true,
   "sideBar": true,
   "skip_h1_title": true,
   "title_cell": "Table of Contents",
   "title_sidebar": "Contents",
   "toc_cell": false,
   "toc_position": {},
   "toc_section_display": true,
   "toc_window_display": false
  },
  "varInspector": {
   "cols": {
    "lenName": 16,
    "lenType": 16,
    "lenVar": 40
   },
   "kernels_config": {
    "python": {
     "delete_cmd_postfix": "",
     "delete_cmd_prefix": "del ",
     "library": "var_list.py",
     "varRefreshCmd": "print(var_dic_list())"
    },
    "r": {
     "delete_cmd_postfix": ") ",
     "delete_cmd_prefix": "rm(",
     "library": "var_list.r",
     "varRefreshCmd": "cat(var_dic_list()) "
    }
   },
   "types_to_exclude": [
    "module",
    "function",
    "builtin_function_or_method",
    "instance",
    "_Feature"
   ],
   "window_display": false
  }
 },
 "nbformat": 4,
 "nbformat_minor": 2
}
